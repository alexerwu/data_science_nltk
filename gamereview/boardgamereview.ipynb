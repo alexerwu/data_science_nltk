{
 "cells": [
  {
   "cell_type": "markdown",
   "metadata": {},
   "source": [
    "## Goals"
   ]
  },
  {
   "cell_type": "raw",
   "metadata": {},
   "source": [
    "Session I:\n",
    "    ✓ Explore data and build basic model\n",
    "        ✓ Hist of # per char per comment\n",
    "        ✓ Hist of scores\n",
    "        X Does comment contain 'great'\n",
    "\n",
    "Session II:\n",
    "    Refine basic model and write up\n",
    "\n",
    "Session III:\n",
    "    Try more refined modeling\n",
    "    \n",
    "Session IV:\n",
    "    Write up better model, gonutz\n",
    "\n",
    "Session V:\n",
    "    Polish"
   ]
  },
  {
   "cell_type": "markdown",
   "metadata": {},
   "source": [
    "## Libraries"
   ]
  },
  {
   "cell_type": "code",
   "execution_count": 1,
   "metadata": {},
   "outputs": [
    {
     "name": "stderr",
     "output_type": "stream",
     "text": [
      "Using TensorFlow backend.\n"
     ]
    }
   ],
   "source": [
    "import pandas as pd\n",
    "import numpy as np\n",
    "import spacy\n",
    "import textblob\n",
    "from gensim.models import word2vec\n",
    "import matplotlib.pyplot as plt\n",
    "import seaborn as sns\n",
    "from statsmodels import robust\n",
    "from string import punctuation\n",
    "import gensim\n",
    "from gensim.models import word2vec\n",
    "\n",
    "import warnings\n",
    "warnings.filterwarnings('ignore')\n",
    "\n",
    "from sklearn.cluster import SpectralClustering\n",
    "from sklearn.linear_model import LogisticRegression,LinearRegression\n",
    "from sklearn.model_selection import train_test_split\n",
    "from sklearn.decomposition import PCA\n",
    "from sklearn.manifold import TSNE\n",
    "\n",
    "# Neural Network\n",
    "from sklearn.neural_network import MLPClassifier\n",
    "\n",
    "import keras\n",
    "from keras.optimizers import RMSprop\n",
    "from keras.datasets import mnist\n",
    "from keras.models import Sequential\n",
    "from keras.layers.core import Dense, Dropout, Activation\n",
    "from keras.preprocessing.sequence import pad_sequences\n",
    "from keras.utils import np_utils"
   ]
  },
  {
   "cell_type": "code",
   "execution_count": 2,
   "metadata": {},
   "outputs": [],
   "source": [
    "import os\n",
    "# for mac only: frog,blow,funk,glass,tink,submarine,purr,sosumi\n",
    "def beep(audio): \n",
    "    os.system('afplay /System/Library/Sounds/' + audio +'.aiff')\n",
    "    os.system('afplay /System/Library/Sounds/' + audio +'.aiff')"
   ]
  },
  {
   "cell_type": "markdown",
   "metadata": {},
   "source": [
    "# 1. Import and Add Basic Features"
   ]
  },
  {
   "cell_type": "code",
   "execution_count": 12,
   "metadata": {},
   "outputs": [
    {
     "data": {
      "text/html": [
       "<div>\n",
       "<style scoped>\n",
       "    .dataframe tbody tr th:only-of-type {\n",
       "        vertical-align: middle;\n",
       "    }\n",
       "\n",
       "    .dataframe tbody tr th {\n",
       "        vertical-align: top;\n",
       "    }\n",
       "\n",
       "    .dataframe thead th {\n",
       "        text-align: right;\n",
       "    }\n",
       "</style>\n",
       "<table border=\"1\" class=\"dataframe\">\n",
       "  <thead>\n",
       "    <tr style=\"text-align: right;\">\n",
       "      <th></th>\n",
       "      <th>reviewer_id</th>\n",
       "      <th>game_id</th>\n",
       "      <th>rating</th>\n",
       "      <th>comment</th>\n",
       "    </tr>\n",
       "  </thead>\n",
       "  <tbody>\n",
       "    <tr>\n",
       "      <th>0</th>\n",
       "      <td>25308</td>\n",
       "      <td>37111</td>\n",
       "      <td>8.5</td>\n",
       "      <td>++++ Thematic +++ Bluff - Many randomness   I ...</td>\n",
       "    </tr>\n",
       "    <tr>\n",
       "      <th>1</th>\n",
       "      <td>54313</td>\n",
       "      <td>12</td>\n",
       "      <td>8.0</td>\n",
       "      <td>\"well, that ugly artwork certainly helped imme...</td>\n",
       "    </tr>\n",
       "  </tbody>\n",
       "</table>\n",
       "</div>"
      ],
      "text/plain": [
       "   reviewer_id  game_id  rating  \\\n",
       "0        25308    37111     8.5   \n",
       "1        54313       12     8.0   \n",
       "\n",
       "                                             comment  \n",
       "0  ++++ Thematic +++ Bluff - Many randomness   I ...  \n",
       "1  \"well, that ugly artwork certainly helped imme...  "
      ]
     },
     "execution_count": 12,
     "metadata": {},
     "output_type": "execute_result"
    }
   ],
   "source": [
    "review = pd.read_csv('boardgame-comments-sample.csv')\n",
    "review.columns = 'reviewer_id', 'game_id', 'rating', 'comment'\n",
    "review.head(2)"
   ]
  },
  {
   "cell_type": "code",
   "execution_count": 13,
   "metadata": {},
   "outputs": [],
   "source": [
    "comments = review.comment"
   ]
  },
  {
   "cell_type": "code",
   "execution_count": 14,
   "metadata": {},
   "outputs": [],
   "source": [
    "# RATINGS ADJUSTMENT: ceiling >= .5 [or] floor < .5\n",
    "review['rating'] = review.rating.apply(round)"
   ]
  },
  {
   "cell_type": "code",
   "execution_count": 15,
   "metadata": {},
   "outputs": [
    {
     "data": {
      "text/plain": [
       "reviewer_id    False\n",
       "game_id        False\n",
       "rating         False\n",
       "comment        False\n",
       "dtype: bool"
      ]
     },
     "execution_count": 15,
     "metadata": {},
     "output_type": "execute_result"
    }
   ],
   "source": [
    "# Check for null values\n",
    "review.isnull().any()"
   ]
  },
  {
   "cell_type": "code",
   "execution_count": 16,
   "metadata": {},
   "outputs": [],
   "source": [
    "# Functions for finding percentage frequency (capital letters/punctuation)\n",
    "def per_check(string_value, total):\n",
    "    percentage = len(string_value)\n",
    "    if percentage != 0:\n",
    "        percentage = float(total / percentage) * 100\n",
    "    else:\n",
    "        percentage = 0\n",
    "    return percentage\n",
    "\n",
    "def punc_count(string_value):\n",
    "    count = 0\n",
    "    for c in string_value:\n",
    "        if c in punctuation:\n",
    "            count+= 1\n",
    "    return per_check(string_value, count)\n",
    "\n",
    "def caplet_count(string_value):\n",
    "    count = 0\n",
    "    for c in string_value:\n",
    "        if c.isupper():\n",
    "            count+= 1\n",
    "    return per_check(string_value, count)      \n",
    "\n",
    "review['c_len'] = review.comment.apply(len)\n",
    "review['punc_count'] = review.comment.apply(punc_count)\n",
    "review['caplet_count'] = review.comment.apply(caplet_count)"
   ]
  },
  {
   "cell_type": "code",
   "execution_count": 17,
   "metadata": {},
   "outputs": [
    {
     "data": {
      "text/html": [
       "<div>\n",
       "<style scoped>\n",
       "    .dataframe tbody tr th:only-of-type {\n",
       "        vertical-align: middle;\n",
       "    }\n",
       "\n",
       "    .dataframe tbody tr th {\n",
       "        vertical-align: top;\n",
       "    }\n",
       "\n",
       "    .dataframe thead th {\n",
       "        text-align: right;\n",
       "    }\n",
       "</style>\n",
       "<table border=\"1\" class=\"dataframe\">\n",
       "  <thead>\n",
       "    <tr style=\"text-align: right;\">\n",
       "      <th></th>\n",
       "      <th>reviewer_id</th>\n",
       "      <th>game_id</th>\n",
       "      <th>rating</th>\n",
       "      <th>comment</th>\n",
       "      <th>c_len</th>\n",
       "      <th>punc_count</th>\n",
       "      <th>caplet_count</th>\n",
       "    </tr>\n",
       "  </thead>\n",
       "  <tbody>\n",
       "    <tr>\n",
       "      <th>0</th>\n",
       "      <td>25308</td>\n",
       "      <td>37111</td>\n",
       "      <td>8</td>\n",
       "      <td>++++ Thematic +++ Bluff - Many randomness   I ...</td>\n",
       "      <td>407</td>\n",
       "      <td>4.914005</td>\n",
       "      <td>1.719902</td>\n",
       "    </tr>\n",
       "    <tr>\n",
       "      <th>1</th>\n",
       "      <td>54313</td>\n",
       "      <td>12</td>\n",
       "      <td>8</td>\n",
       "      <td>\"well, that ugly artwork certainly helped imme...</td>\n",
       "      <td>100</td>\n",
       "      <td>7.000000</td>\n",
       "      <td>2.000000</td>\n",
       "    </tr>\n",
       "  </tbody>\n",
       "</table>\n",
       "</div>"
      ],
      "text/plain": [
       "   reviewer_id  game_id  rating  \\\n",
       "0        25308    37111       8   \n",
       "1        54313       12       8   \n",
       "\n",
       "                                             comment  c_len  punc_count  \\\n",
       "0  ++++ Thematic +++ Bluff - Many randomness   I ...    407    4.914005   \n",
       "1  \"well, that ugly artwork certainly helped imme...    100    7.000000   \n",
       "\n",
       "   caplet_count  \n",
       "0      1.719902  \n",
       "1      2.000000  "
      ]
     },
     "execution_count": 17,
     "metadata": {},
     "output_type": "execute_result"
    }
   ],
   "source": [
    "review.head(2)"
   ]
  },
  {
   "cell_type": "markdown",
   "metadata": {},
   "source": [
    "### Show Reviewer_ID and Game_ID Counts (Matthew's Suggestion)"
   ]
  },
  {
   "cell_type": "code",
   "execution_count": 18,
   "metadata": {},
   "outputs": [
    {
     "data": {
      "text/plain": [
       "14263    2\n",
       "61618    2\n",
       "52258    2\n",
       "Name: reviewer_id, dtype: int64"
      ]
     },
     "execution_count": 18,
     "metadata": {},
     "output_type": "execute_result"
    }
   ],
   "source": [
    "userreview = review.groupby('reviewer_id')\n",
    "# dflist = []\n",
    "# for r in userreview:\n",
    "#     dflist.append(r[1])  \n",
    "review.reviewer_id.value_counts()[0:3]"
   ]
  },
  {
   "cell_type": "code",
   "execution_count": 19,
   "metadata": {},
   "outputs": [
    {
     "data": {
      "text/plain": [
       "13       16\n",
       "822      13\n",
       "24480     9\n",
       "Name: game_id, dtype: int64"
      ]
     },
     "execution_count": 19,
     "metadata": {},
     "output_type": "execute_result"
    }
   ],
   "source": [
    "gamereview = review.groupby('game_id')\n",
    "# dflist = []\n",
    "# for r in gamereview:\n",
    "#     dflist.append(r[1])  \n",
    "review.game_id.value_counts()[0:3]"
   ]
  },
  {
   "cell_type": "code",
   "execution_count": 20,
   "metadata": {},
   "outputs": [],
   "source": [
    "del review['game_id']\n",
    "del review['reviewer_id']"
   ]
  },
  {
   "cell_type": "markdown",
   "metadata": {},
   "source": [
    "# 2. Natural Language Processing Features:"
   ]
  },
  {
   "cell_type": "markdown",
   "metadata": {},
   "source": [
    "## _Spacy_"
   ]
  },
  {
   "cell_type": "code",
   "execution_count": 21,
   "metadata": {},
   "outputs": [],
   "source": [
    "nlp = spacy.load('en')"
   ]
  },
  {
   "cell_type": "code",
   "execution_count": 29,
   "metadata": {},
   "outputs": [
    {
     "name": "stdout",
     "output_type": "stream",
     "text": [
      "CPU times: user 2.12 ms, sys: 568 µs, total: 2.69 ms\n",
      "Wall time: 2.7 ms\n"
     ]
    }
   ],
   "source": [
    "%%time\n",
    "docs = []\n",
    "tokens = []\n",
    "lemma = []\n",
    "pos = []\n",
    "deps = []\n",
    "ents = []\n",
    "sentences = []\n",
    "\n",
    "def insert_null(l):\n",
    "    return [(w if w else '0') for w in l]\n",
    "\n",
    "pipeline = nlp.pipe(review['comment'].astype('unicode').values,\n",
    "                    batch_size = 10, \n",
    "                    n_threads=4)"
   ]
  },
  {
   "cell_type": "code",
   "execution_count": 30,
   "metadata": {},
   "outputs": [
    {
     "name": "stdout",
     "output_type": "stream",
     "text": [
      "Completed: 100 docs out of 847\n",
      "Completed: 200 docs out of 847\n",
      "Completed: 300 docs out of 847\n",
      "Completed: 400 docs out of 847\n",
      "Completed: 500 docs out of 847\n",
      "Completed: 600 docs out of 847\n",
      "Completed: 700 docs out of 847\n",
      "Completed: 800 docs out of 847\n",
      "Completed: 847 docs out of 847\n"
     ]
    }
   ],
   "source": [
    "# Create doc\n",
    "review['doc'] = [doc if doc.is_parsed else None for doc in pipeline]\n",
    "beep('ping')"
   ]
  },
  {
   "cell_type": "code",
   "execution_count": 31,
   "metadata": {},
   "outputs": [],
   "source": [
    "# apply features\n",
    "review['w_len'] = review.doc.apply(len)\n",
    "review['tokens'] = review.doc.apply(lambda doc: insert_null([tok.text for tok in doc]))\n",
    "review['lemma'] = review.doc.apply(lambda doc: insert_null([tok.lemma_ for tok in doc]))\n",
    "review['pos'] = review.doc.apply(lambda doc: insert_null([tok.pos_ for tok in doc]))\n",
    "review['deps'] = review.doc.apply(lambda doc: insert_null([tok.dep_ for tok in doc]))\n",
    "review['ents'] = review.doc.apply(lambda doc: insert_null([tok.ent_type_ for tok in doc]))\n",
    "beep('ping')"
   ]
  },
  {
   "cell_type": "code",
   "execution_count": 32,
   "metadata": {},
   "outputs": [
    {
     "name": "stdout",
     "output_type": "stream",
     "text": [
      "[u]The Positive:[/u] (+) The art is not 'great', but it sure is very functional. It supports in understanding the game. Moreover, the components are of good quality (except an unfortunate misprint of some 1$-coins in which some are smaller than others)  (+) The game rules are very structured and lim...\n"
     ]
    }
   ],
   "source": [
    "review.c_len.max()\n",
    "print(review.comment[review.c_len == 7977].iloc[0][0:300],end=''); print('...')"
   ]
  },
  {
   "cell_type": "raw",
   "metadata": {},
   "source": [
    "review.info()"
   ]
  },
  {
   "cell_type": "markdown",
   "metadata": {},
   "source": [
    "## _TextBlob_"
   ]
  },
  {
   "cell_type": "code",
   "execution_count": 33,
   "metadata": {},
   "outputs": [
    {
     "name": "stdout",
     "output_type": "stream",
     "text": [
      "CPU times: user 7.9 ms, sys: 593 µs, total: 8.5 ms\n",
      "Wall time: 8.42 ms\n"
     ]
    }
   ],
   "source": [
    "%%time\n",
    "blobs = review.comment.apply(lambda val: textblob.TextBlob(val))"
   ]
  },
  {
   "cell_type": "code",
   "execution_count": 34,
   "metadata": {},
   "outputs": [],
   "source": [
    "review['sent_pol'] = blobs.apply(lambda val: val.sentiment[0])\n",
    "review['sent_subj'] = blobs.apply(lambda val: val.sentiment[1])"
   ]
  },
  {
   "cell_type": "markdown",
   "metadata": {},
   "source": [
    "_Pol = Sentiment Polarity (positive or negative word choice)_ <br>\n",
    "_Subj = Sentiment Subjectivity (objective or subjective word choice)_"
   ]
  },
  {
   "cell_type": "raw",
   "metadata": {},
   "source": [
    "# Additional Textblob Features (Not included because of Spacy)\n",
    "review['wc'] = blobs.apply(lambda val: len(val.words))\n",
    "review['sc'] = blobs.apply(lambda val: len(val.sentences))\n",
    "review['tokens'] = blobs.apply(lambda val: [w.lower() for w in val.words])\n",
    "review['pos'] = blobs.apply(lambda val: [v[1] for v in val.tags])"
   ]
  },
  {
   "cell_type": "code",
   "execution_count": 35,
   "metadata": {},
   "outputs": [
    {
     "data": {
      "text/html": [
       "<div>\n",
       "<style scoped>\n",
       "    .dataframe tbody tr th:only-of-type {\n",
       "        vertical-align: middle;\n",
       "    }\n",
       "\n",
       "    .dataframe tbody tr th {\n",
       "        vertical-align: top;\n",
       "    }\n",
       "\n",
       "    .dataframe thead th {\n",
       "        text-align: right;\n",
       "    }\n",
       "</style>\n",
       "<table border=\"1\" class=\"dataframe\">\n",
       "  <thead>\n",
       "    <tr style=\"text-align: right;\">\n",
       "      <th></th>\n",
       "      <th>rating</th>\n",
       "      <th>comment</th>\n",
       "      <th>c_len</th>\n",
       "      <th>punc_count</th>\n",
       "      <th>caplet_count</th>\n",
       "      <th>doc</th>\n",
       "      <th>w_len</th>\n",
       "      <th>tokens</th>\n",
       "      <th>lemma</th>\n",
       "      <th>pos</th>\n",
       "      <th>deps</th>\n",
       "      <th>ents</th>\n",
       "      <th>sent_pol</th>\n",
       "      <th>sent_subj</th>\n",
       "    </tr>\n",
       "  </thead>\n",
       "  <tbody>\n",
       "    <tr>\n",
       "      <th>846</th>\n",
       "      <td>7</td>\n",
       "      <td>The vanilla version of this game has it's flaw...</td>\n",
       "      <td>144</td>\n",
       "      <td>3.472222</td>\n",
       "      <td>2.083333</td>\n",
       "      <td>(The, vanilla, version, of, this, game, has, i...</td>\n",
       "      <td>35</td>\n",
       "      <td>[The, vanilla, version, of, this, game, has, i...</td>\n",
       "      <td>[the, vanilla, version, of, this, game, have, ...</td>\n",
       "      <td>[DET, NOUN, NOUN, ADP, DET, NOUN, VERB, PRON, ...</td>\n",
       "      <td>[det, compound, nsubj, prep, det, pobj, ROOT, ...</td>\n",
       "      <td>[0, 0, 0, 0, 0, 0, 0, 0, 0, 0, 0, 0, 0, 0, 0, ...</td>\n",
       "      <td>-0.05</td>\n",
       "      <td>0.45</td>\n",
       "    </tr>\n",
       "  </tbody>\n",
       "</table>\n",
       "</div>"
      ],
      "text/plain": [
       "     rating                                            comment  c_len  \\\n",
       "846       7  The vanilla version of this game has it's flaw...    144   \n",
       "\n",
       "     punc_count  caplet_count  \\\n",
       "846    3.472222      2.083333   \n",
       "\n",
       "                                                   doc  w_len  \\\n",
       "846  (The, vanilla, version, of, this, game, has, i...     35   \n",
       "\n",
       "                                                tokens  \\\n",
       "846  [The, vanilla, version, of, this, game, has, i...   \n",
       "\n",
       "                                                 lemma  \\\n",
       "846  [the, vanilla, version, of, this, game, have, ...   \n",
       "\n",
       "                                                   pos  \\\n",
       "846  [DET, NOUN, NOUN, ADP, DET, NOUN, VERB, PRON, ...   \n",
       "\n",
       "                                                  deps  \\\n",
       "846  [det, compound, nsubj, prep, det, pobj, ROOT, ...   \n",
       "\n",
       "                                                  ents  sent_pol  sent_subj  \n",
       "846  [0, 0, 0, 0, 0, 0, 0, 0, 0, 0, 0, 0, 0, 0, 0, ...     -0.05       0.45  "
      ]
     },
     "execution_count": 35,
     "metadata": {},
     "output_type": "execute_result"
    }
   ],
   "source": [
    "# DataFrame With New Spacy and TextBlob Features\n",
    "review.tail(1)"
   ]
  },
  {
   "cell_type": "markdown",
   "metadata": {},
   "source": [
    "# 3. Visuals"
   ]
  },
  {
   "cell_type": "code",
   "execution_count": 36,
   "metadata": {},
   "outputs": [],
   "source": [
    "def MEDIAN_reject_outliers(data, m=3):\n",
    "    data = data[abs(data - np.median(data)) < m*robust.mad(data)]\n",
    "    return data[~np.isnan(data)].sort_values()\n",
    "\n",
    "\n",
    "def MEAN_reject_outliers(data, m=3):\n",
    "    data = data[abs(data - np.mean(data)) <= m*np.std(data)]\n",
    "    return data[~np.isnan(data)].sort_values()"
   ]
  },
  {
   "cell_type": "code",
   "execution_count": 37,
   "metadata": {},
   "outputs": [
    {
     "data": {
      "image/png": "[encoded data removed]",
      "text/plain": [
       "<Figure size 662.4x288 with 1 Axes>"
      ]
     },
     "metadata": {},
     "output_type": "display_data"
    },
    {
     "data": {
      "image/png": "[encoded data removed]",
      "text/plain": [
       "<Figure size 648x504 with 4 Axes>"
      ]
     },
     "metadata": {},
     "output_type": "display_data"
    }
   ],
   "source": [
    "# Ratings\n",
    "plt.figure(figsize=(9.2,4))\n",
    "plt.hist(review.rating,bins=10)\n",
    "plt.title('Rating Distribution')\n",
    "plt.show()\n",
    "\n",
    "plt.figure(figsize=(9,7))\n",
    "\n",
    "plt.subplot(221)\n",
    "sns.distplot(MEDIAN_reject_outliers(review.c_len))\n",
    "# plt.title('Average Char Length');\n",
    "\n",
    "plt.subplot(222)\n",
    "sns.distplot(MEDIAN_reject_outliers(review.punc_count))\n",
    "plt.xlabel('Rating');\n",
    "plt.ylabel('Punc Percentatage');\n",
    "\n",
    "\n",
    "plt.subplot(223)\n",
    "plt.scatter(review.rating,review.c_len)\n",
    "plt.xlabel('Rating')\n",
    "plt.ylabel('Comment Length')\n",
    "xlist = []\n",
    "ylist = []\n",
    "m,b = np.polyfit(review.rating, review.c_len, 1)\n",
    "for i in range(0,11):\n",
    "    ylist.append(i*m + b)\n",
    "    xlist.append(i)\n",
    "plt.plot(xlist,ylist,color='r')\n",
    "# plt.title('Ratings by Review Len')\n",
    "\n",
    "\n",
    "plt.subplot(224)\n",
    "plt.scatter(review.rating,review.punc_count);\n",
    "xlist = []\n",
    "ylist = []\n",
    "m,b = np.polyfit(review.rating, review.punc_count, 1)\n",
    "for i in range(0,11):\n",
    "    ylist.append(i*m + b)\n",
    "    xlist.append(i)\n",
    "plt.plot(xlist,ylist,color='r')\n",
    "# plt.title('Ratings by Punctuation Percentage');\n",
    "plt.xlabel('Rating');\n",
    "plt.ylabel('Punct Percentage');"
   ]
  },
  {
   "cell_type": "markdown",
   "metadata": {},
   "source": [
    "# 4. Models"
   ]
  },
  {
   "cell_type": "code",
   "execution_count": 38,
   "metadata": {},
   "outputs": [],
   "source": [
    "features = ['c_len','caplet_count','punc_count','rating','sent_pol','sent_subj']"
   ]
  },
  {
   "cell_type": "code",
   "execution_count": 49,
   "metadata": {},
   "outputs": [
    {
     "name": "stdout",
     "output_type": "stream",
     "text": [
      "CPU times: user 2.79 ms, sys: 614 µs, total: 3.4 ms\n",
      "Wall time: 2.93 ms\n"
     ]
    }
   ],
   "source": [
    "%%time\n",
    "y = review['rating']\n",
    "X = review[features]\n",
    "\n",
    "X_train, X_test, y_train, y_test = train_test_split(X, y, test_size=0.33, random_state=42)"
   ]
  },
  {
   "cell_type": "markdown",
   "metadata": {},
   "source": [
    "### _Cluster Model_"
   ]
  },
  {
   "cell_type": "markdown",
   "metadata": {},
   "source": [
    "_Tries to find clusters in the data but doesnt predict anything_ (Not currently relevant)"
   ]
  },
  {
   "cell_type": "code",
   "execution_count": 50,
   "metadata": {},
   "outputs": [],
   "source": [
    "# Principal Components Analysis PCA (reduces features to 2 for visualization)\n",
    "pca = PCA(n_components=2)\n",
    "pca.fit(X_train)\n",
    "\n",
    "X_train_pca = pca.transform(X_train)\n",
    "\n",
    "# We know we're looking for three clusters.\n",
    "n_clusters=10\n",
    "\n",
    "# Declare and fit the model.\n",
    "sc = SpectralClustering(n_clusters=n_clusters)\n",
    "sc.fit(X_train_pca)\n",
    "\n",
    "#Predicted clusters.\n",
    "predict=sc.fit_predict(X_train_pca)"
   ]
  },
  {
   "cell_type": "code",
   "execution_count": 51,
   "metadata": {},
   "outputs": [
    {
     "data": {
      "image/png": "[encoded data removed]",
      "text/plain": [
       "<Figure size 432x288 with 1 Axes>"
      ]
     },
     "metadata": {},
     "output_type": "display_data"
    }
   ],
   "source": [
    "X_train_pca_df = pd.DataFrame(X_train_pca)\n",
    "X_train_pca_df.columns = ['comp_1','comp_2']\n",
    "X_train_pca_df['hue'] = predict\n",
    "\n",
    "plt.plot([i for i in range(1,11)],list(X_train_pca_df.hue.value_counts()),color ='b');\n",
    "plt.plot([i for i in range(1,11)],list(review.rating.value_counts()),color ='g');\n",
    "plt.legend(['Predicted Cluster','Actual Ratings']);\n",
    "plt.title('Cluster Prediction of Counts by Ratings')\n",
    "plt.show()"
   ]
  },
  {
   "cell_type": "code",
   "execution_count": 52,
   "metadata": {},
   "outputs": [
    {
     "data": {
      "text/plain": [
       "<Figure size 1584x1584 with 0 Axes>"
      ]
     },
     "metadata": {},
     "output_type": "display_data"
    },
    {
     "data": {
      "image/png": "[encoded data removed]",
      "text/plain": [
       "<Figure size 402.375x360 with 1 Axes>"
      ]
     },
     "metadata": {},
     "output_type": "display_data"
    }
   ],
   "source": [
    "plt.figure(figsize=(22,22));\n",
    "sns.lmplot(x='comp_1',y='comp_2', hue='hue',data=X_train_pca_df,fit_reg=False)\n",
    "plt.xlim(-250,1000)\n",
    "plt.ylim(-5,15)\n",
    "plt.show()"
   ]
  },
  {
   "cell_type": "markdown",
   "metadata": {},
   "source": [
    "### _Logistic Regression_"
   ]
  },
  {
   "cell_type": "markdown",
   "metadata": {},
   "source": [
    "_Operates on probabilities_"
   ]
  },
  {
   "cell_type": "code",
   "execution_count": 53,
   "metadata": {},
   "outputs": [
    {
     "name": "stdout",
     "output_type": "stream",
     "text": [
      "Check for overfitting:\n",
      "35.978835978835974\n",
      "\n",
      "Percentage of ratings guessed correctly:\n",
      "34.285714285714285\n"
     ]
    }
   ],
   "source": [
    "lr = LogisticRegression()\n",
    "lr.fit(X_train,y_train)\n",
    "print('Check for overfitting:')\n",
    "print(lr.score(X_train,y_train)*100)\n",
    "print('')\n",
    "# Print Model Score Estimation on Same Data\n",
    "print('Percentage of ratings guessed correctly:')\n",
    "print(lr.score(X_test,y_test)*100)"
   ]
  },
  {
   "cell_type": "markdown",
   "metadata": {},
   "source": [
    "# 5. Word Embedding - Word2Vec"
   ]
  },
  {
   "cell_type": "code",
   "execution_count": 77,
   "metadata": {},
   "outputs": [
    {
     "name": "stdout",
     "output_type": "stream",
     "text": [
      "Total Comments: 84164\n",
      "CPU times: user 2.63 s, sys: 356 ms, total: 2.99 s\n",
      "Wall time: 2.93 s\n"
     ]
    }
   ],
   "source": [
    "%%time\n",
    "review = pd.read_csv('boardgame-comments-english.csv').sample(frac=.1,random_state=42)\n",
    "review.columns = 'reviewer_id', 'game_id', 'rating', 'comment'\n",
    "\n",
    "# RATINGS ADJUSTMENT: ceiling >= .5 [or] floor < .5\n",
    "review['rating'] = review.rating.map(round)\n",
    "\n",
    "print('Total Comments: {}'.format(review.comment.count()))"
   ]
  },
  {
   "cell_type": "code",
   "execution_count": 78,
   "metadata": {},
   "outputs": [
    {
     "name": "stdout",
     "output_type": "stream",
     "text": [
      "CPU times: user 50.5 s, sys: 763 ms, total: 51.3 s\n",
      "Wall time: 54.1 s\n"
     ]
    }
   ],
   "source": [
    "%%time\n",
    "tokenize = lambda val: [b.lower() for b in textblob.TextBlob(val).words]\n",
    "sentences_blob = review.comment.map(tokenize)\n",
    "review['token'] = sentences_blob\n",
    "beep('ping')"
   ]
  },
  {
   "cell_type": "code",
   "execution_count": 79,
   "metadata": {},
   "outputs": [
    {
     "name": "stdout",
     "output_type": "stream",
     "text": [
      "CPU times: user 54.4 s, sys: 413 ms, total: 54.8 s\n",
      "Wall time: 19.6 s\n"
     ]
    }
   ],
   "source": [
    "%%time\n",
    "load_model = False\n",
    "\n",
    "if load_model:\n",
    "    # # load model\n",
    "    word_vec = word2vec.Word2Vec.load('full_word2vec_blob.bin')\n",
    "    vec_size = word_vec.layer1_size\n",
    "else: \n",
    "    vec_size = 50\n",
    "    word_vec = word2vec.Word2Vec(\n",
    "        sentences_blob,\n",
    "        workers=4,     # Number of threads to run in parallel (if your computer does parallel processing).\n",
    "        min_count=5,  # Minimum word count threshold.\n",
    "        window=6,      # Number of words around target word to consider.\n",
    "        sg=0,          # Use CBOW because our corpus is small.\n",
    "        sample=1e-3 ,  # Penalize frequent words.\n",
    "        size=vec_size,      # Word vector length.\n",
    "        hs=1           # Use hierarchical softmax.\n",
    "    )\n",
    "    \n",
    "    # save model\n",
    "    word_vec.save('full_word2vec_blob.bin')\n",
    "\n",
    "# List of words in model.\n",
    "vocab = word_vec.wv.vocab.keys()\n",
    "beep('ping')"
   ]
  },
  {
   "cell_type": "code",
   "execution_count": 80,
   "metadata": {},
   "outputs": [
    {
     "name": "stdout",
     "output_type": "stream",
     "text": [
      "CPU times: user 15.8 s, sys: 394 ms, total: 16.2 s\n",
      "Wall time: 18.3 s\n"
     ]
    }
   ],
   "source": [
    "%%time\n",
    "vec_new = np.array([.5 for i in range(0,vec_size)])\n",
    "review['vectors'] = review.token.apply(lambda val: [word_vec[w] if w in vocab else vec_new for w in val])\n",
    "beep('ping')"
   ]
  },
  {
   "cell_type": "markdown",
   "metadata": {},
   "source": [
    "### TBD"
   ]
  },
  {
   "cell_type": "code",
   "execution_count": 81,
   "metadata": {},
   "outputs": [
    {
     "name": "stdout",
     "output_type": "stream",
     "text": [
      "[('persons', 0.6186925768852234)]\n",
      "[('map', 0.7458446621894836), ('website', 0.6388208866119385), ('internet', 0.62421715259552)]\n",
      "[('difficult', 0.9154154062271118), ('easy', 0.8294994831085205), ('tough', 0.6766805052757263)]\n"
     ]
    }
   ],
   "source": [
    "w1,w2,w3 = 'gamer','player','game'\n",
    "print(word_vec.most_similar(positive=[w1, w2], negative=[w3], topn=1))\n",
    "\n",
    "w1 = 'board'\n",
    "print(word_vec.wv.most_similar(positive=w1,topn=3))\n",
    "\n",
    "w1 = 'hard'\n",
    "print(word_vec.wv.most_similar(positive=w1,topn=3))"
   ]
  },
  {
   "cell_type": "raw",
   "metadata": {},
   "source": [
    "'cos similarity' on two word vectors [cosine of the angle is measure of similarity']\n",
    "\n",
    "'diff' = [300x]\n",
    "'hard' = [300x]\n",
    "'cat' = [300x]\n",
    "\n",
    "np.dot('diff','hard') / len(diff)\n",
    "'cosine similarity'"
   ]
  },
  {
   "cell_type": "markdown",
   "metadata": {},
   "source": [
    "# 6. Comprehensive Neural Network"
   ]
  },
  {
   "cell_type": "markdown",
   "metadata": {},
   "source": [
    "_Slow Method_"
   ]
  },
  {
   "cell_type": "raw",
   "metadata": {},
   "source": [
    "%%time\n",
    "padding, max_words = [0 for i in range(0,vec_size)], 100\n",
    "review.vectors = list(keras.preprocessing.sequence.pad_sequences(review.vectors, \n",
    "                                                     maxlen=max_words, \n",
    "                                                     padding='post', \n",
    "                                                     dtype = 'float',\n",
    "                                                     truncating='post', \n",
    "                                                     value=padding))\n",
    "beep('ping')"
   ]
  },
  {
   "cell_type": "markdown",
   "metadata": {},
   "source": [
    "_Fast Method_"
   ]
  },
  {
   "cell_type": "code",
   "execution_count": 75,
   "metadata": {},
   "outputs": [
    {
     "name": "stdout",
     "output_type": "stream",
     "text": [
      "CPU times: user 45.5 ms, sys: 4.04 ms, total: 49.6 ms\n",
      "Wall time: 27.2 ms\n"
     ]
    }
   ],
   "source": [
    "%%time\n",
    "\n",
    "pad, max_words = [0 for i in range(0,vec_size)], 100\n",
    "def manual_pad(val):\n",
    "    empty = max_words-len(val)\n",
    "    for i in range(0,empty):\n",
    "        val.append(pad)\n",
    "    \n",
    "    return [i for i in val[0:max_words+1]]\n",
    "\n",
    "\n",
    "review.vectors=review.vectors.map(manual_pad)"
   ]
  },
  {
   "cell_type": "code",
   "execution_count": 76,
   "metadata": {},
   "outputs": [
    {
     "data": {
      "text/plain": [
       "0      [[0.1740753, -0.039500095, 0.07298879, 0.24338...\n",
       "1      [[0.32842964, -0.075483866, 0.11435159, 0.4406...\n",
       "2      [[0.19339791, -0.07377809, 0.04802373, 0.20871...\n",
       "3      [[0.265319, -0.048252538, 0.1196339, 0.3886518...\n",
       "4      [[0.3279921, -0.10454835, 0.10703331, 0.409412...\n",
       "5      [[0.34569082, -0.09870648, 0.10256475, 0.44392...\n",
       "6      [[0.41111916, -0.121255964, 0.17135201, 0.5303...\n",
       "7      [[0.32995507, -0.06354366, 0.13083938, 0.40524...\n",
       "8      [[0.41111916, -0.121255964, 0.17135201, 0.5303...\n",
       "9      [[0.20311399, -0.0492009, 0.081262074, 0.24157...\n",
       "10     [[0.31899443, -0.06469505, 0.13190363, 0.48418...\n",
       "11     [[0.31899443, -0.06469505, 0.13190363, 0.48418...\n",
       "12     [[0.5, 0.5, 0.5, 0.5, 0.5, 0.5, 0.5, 0.5, 0.5,...\n",
       "13     [[0.20972817, -0.042973485, 0.084055, 0.263332...\n",
       "14     [[0.36832264, -0.085874766, 0.16449495, 0.5438...\n",
       "15     [[0.41111916, -0.121255964, 0.17135201, 0.5303...\n",
       "16     [[0.34569082, -0.09870648, 0.10256475, 0.44392...\n",
       "17     [[0.30709165, -0.08802937, 0.08577832, 0.33958...\n",
       "18     [[0.33354136, -0.07337336, 0.12713577, 0.44490...\n",
       "19     [[0.41111916, -0.121255964, 0.17135201, 0.5303...\n",
       "20     [[0.36832264, -0.085874766, 0.16449495, 0.5438...\n",
       "21     [[0.34855488, -0.10453165, 0.108097956, 0.4574...\n",
       "22     [[0.2768341, -0.08045594, 0.10541678, 0.324908...\n",
       "23     [[0.36066166, -0.11416879, 0.10741424, 0.42836...\n",
       "24     [[0.22728656, -0.03828667, 0.05946601, 0.24914...\n",
       "25     [[0.2768341, -0.08045594, 0.10541678, 0.324908...\n",
       "26     [[0.36066166, -0.11416879, 0.10741424, 0.42836...\n",
       "27     [[0.34569082, -0.09870648, 0.10256475, 0.44392...\n",
       "28     [[0.32019752, -0.093482554, 0.117239684, 0.420...\n",
       "29     [[0.35730484, -0.04510748, 0.1549956, 0.487393...\n",
       "                             ...                        \n",
       "817    [[0.36066166, -0.11416879, 0.10741424, 0.42836...\n",
       "818    [[0.5, 0.5, 0.5, 0.5, 0.5, 0.5, 0.5, 0.5, 0.5,...\n",
       "819    [[0.5, 0.5, 0.5, 0.5, 0.5, 0.5, 0.5, 0.5, 0.5,...\n",
       "820    [[0.2135903, -0.048876695, 0.08353109, 0.29169...\n",
       "821    [[0.2484185, -0.045469597, 0.08265112, 0.31226...\n",
       "822    [[0.075767316, -0.020231526, 0.04055507, 0.107...\n",
       "823    [[0.34569082, -0.09870648, 0.10256475, 0.44392...\n",
       "824    [[0.30709165, -0.08802937, 0.08577832, 0.33958...\n",
       "825    [[0.22139782, -0.04365825, 0.07736735, 0.27087...\n",
       "826    [[0.5, 0.5, 0.5, 0.5, 0.5, 0.5, 0.5, 0.5, 0.5,...\n",
       "827    [[0.41111916, -0.121255964, 0.17135201, 0.5303...\n",
       "828    [[0.18776551, -0.034211434, 0.06512163, 0.2309...\n",
       "829    [[0.41536644, -0.100572646, 0.14297564, 0.5077...\n",
       "830    [[0.37501454, -0.10046877, 0.13033839, 0.50118...\n",
       "831    [[0.5, 0.5, 0.5, 0.5, 0.5, 0.5, 0.5, 0.5, 0.5,...\n",
       "832    [[0.34234744, -0.07209497, 0.13727093, 0.46413...\n",
       "833    [[0.32673854, -0.1221162, 0.083586596, 0.35601...\n",
       "834    [[0.16135514, -0.030647738, 0.06443658, 0.2085...\n",
       "835    [[0.30709165, -0.08802937, 0.08577832, 0.33958...\n",
       "836    [[0.35707945, -0.08793689, 0.101123944, 0.4267...\n",
       "837    [[0.30709165, -0.08802937, 0.08577832, 0.33958...\n",
       "838    [[0.5, 0.5, 0.5, 0.5, 0.5, 0.5, 0.5, 0.5, 0.5,...\n",
       "839    [[0.5, 0.5, 0.5, 0.5, 0.5, 0.5, 0.5, 0.5, 0.5,...\n",
       "840    [[0.24652173, -0.07901497, 0.08787139, 0.26077...\n",
       "841    [[0.36979178, -0.08375544, 0.13054067, 0.46042...\n",
       "842    [[0.4292195, -0.069235235, 0.17561872, 0.56335...\n",
       "843    [[0.39795154, -0.07173695, 0.1379793, 0.501411...\n",
       "844    [[0.34234744, -0.07209497, 0.13727093, 0.46413...\n",
       "845    [[0.36832264, -0.085874766, 0.16449495, 0.5438...\n",
       "846    [[0.4292195, -0.069235235, 0.17561872, 0.56335...\n",
       "Name: vectors, Length: 847, dtype: object"
      ]
     },
     "execution_count": 76,
     "metadata": {},
     "output_type": "execute_result"
    }
   ],
   "source": [
    "review.vectors"
   ]
  },
  {
   "cell_type": "code",
   "execution_count": 118,
   "metadata": {},
   "outputs": [
    {
     "name": "stdout",
     "output_type": "stream",
     "text": [
      "CPU times: user 13.7 ms, sys: 1.36 ms, total: 15.1 ms\n",
      "Wall time: 14 ms\n"
     ]
    }
   ],
   "source": [
    "%%time\n",
    "y = review['rating'].astype(int).ravel()\n",
    "X = pd.DataFrame([list(i[0]) for i in review.vectors])\n",
    "\n",
    "X_train, X_test, y_train, y_test = train_test_split(X, y, test_size=0.33, random_state=42)"
   ]
  },
  {
   "cell_type": "markdown",
   "metadata": {},
   "source": [
    "#### _A - Logistic Regression w/ Vectors_"
   ]
  },
  {
   "cell_type": "code",
   "execution_count": 110,
   "metadata": {},
   "outputs": [
    {
     "data": {
      "text/plain": [
       "LogisticRegression(C=1.0, class_weight=None, dual=False, fit_intercept=True,\n",
       "          intercept_scaling=1, max_iter=100, multi_class='ovr', n_jobs=1,\n",
       "          penalty='l2', random_state=None, solver='liblinear', tol=0.0001,\n",
       "          verbose=0, warm_start=False)"
      ]
     },
     "execution_count": 110,
     "metadata": {},
     "output_type": "execute_result"
    }
   ],
   "source": [
    "lr = LogisticRegression()\n",
    "lr.fit(X_train,y_train)"
   ]
  },
  {
   "cell_type": "code",
   "execution_count": 111,
   "metadata": {},
   "outputs": [
    {
     "name": "stdout",
     "output_type": "stream",
     "text": [
      "Check for overfitting:\n",
      "31.569664902998234\n",
      "\n",
      "Percentage of ratings guessed correctly:\n",
      "30.714285714285715\n"
     ]
    }
   ],
   "source": [
    "print('Check for overfitting:')\n",
    "print(lr.score(X_train,y_train)*100)\n",
    "print('')\n",
    "# Print Model Score Estimation on Same Data\n",
    "print('Percentage of ratings guessed correctly:')\n",
    "print(lr.score(X_test,y_test)*100)"
   ]
  },
  {
   "cell_type": "markdown",
   "metadata": {},
   "source": [
    "#### _B - MLP Neural NN w/ Vectors_"
   ]
  },
  {
   "cell_type": "code",
   "execution_count": 112,
   "metadata": {},
   "outputs": [
    {
     "data": {
      "text/plain": [
       "MLPClassifier(activation='relu', alpha=0.0001, batch_size='auto', beta_1=0.9,\n",
       "       beta_2=0.999, early_stopping=False, epsilon=1e-08,\n",
       "       hidden_layer_sizes=(100,), learning_rate='constant',\n",
       "       learning_rate_init=0.001, max_iter=200, momentum=0.9,\n",
       "       nesterovs_momentum=True, power_t=0.5, random_state=None,\n",
       "       shuffle=True, solver='adam', tol=0.0001, validation_fraction=0.1,\n",
       "       verbose=False, warm_start=False)"
      ]
     },
     "execution_count": 112,
     "metadata": {},
     "output_type": "execute_result"
    }
   ],
   "source": [
    "mlp = MLPClassifier()\n",
    "mlp.fit(X_train,y_train)"
   ]
  },
  {
   "cell_type": "code",
   "execution_count": 113,
   "metadata": {},
   "outputs": [
    {
     "data": {
      "text/plain": [
       "0.30714285714285716"
      ]
     },
     "execution_count": 113,
     "metadata": {},
     "output_type": "execute_result"
    }
   ],
   "source": [
    "mlp.score(X_test,y_test)"
   ]
  },
  {
   "cell_type": "markdown",
   "metadata": {},
   "source": [
    "#### _C - Keras Sequential NN_"
   ]
  },
  {
   "cell_type": "code",
   "execution_count": 140,
   "metadata": {},
   "outputs": [],
   "source": [
    "y_test = y_test.ravel()\n",
    "y_train = y_train.ravel()\n",
    "\n",
    "y_train = keras.utils.to_categorical(y_train)\n",
    "y_test = keras.utils.to_categorical(y_test)"
   ]
  },
  {
   "cell_type": "code",
   "execution_count": 141,
   "metadata": {},
   "outputs": [],
   "source": [
    "model = Sequential()\n",
    "model.add(Dense(1024, activation='relu', input_shape=(vec_size,)))\n",
    "model.add(Dropout(0.2))\n",
    "model.add(Dense(1024, activation='relu'))\n",
    "model.add(Dropout(0.2))\n",
    "model.add(Dense(11, activation='softmax'))"
   ]
  },
  {
   "cell_type": "code",
   "execution_count": 142,
   "metadata": {},
   "outputs": [],
   "source": [
    "batch_size = 5\n",
    "epochs = 10"
   ]
  },
  {
   "cell_type": "code",
   "execution_count": 143,
   "metadata": {},
   "outputs": [],
   "source": [
    "model.compile(loss='categorical_crossentropy',\n",
    "              optimizer=RMSprop(),\n",
    "              metrics=['accuracy'])"
   ]
  },
  {
   "cell_type": "code",
   "execution_count": 144,
   "metadata": {},
   "outputs": [
    {
     "name": "stdout",
     "output_type": "stream",
     "text": [
      "Train on 567 samples, validate on 280 samples\n",
      "Epoch 1/10\n",
      "567/567 [==============================] - 1s 3ms/step - loss: 1.9876 - acc: 0.2734 - val_loss: 1.9230 - val_acc: 0.2071\n",
      "Epoch 2/10\n",
      "567/567 [==============================] - 1s 2ms/step - loss: 1.9437 - acc: 0.2892 - val_loss: 1.8706 - val_acc: 0.3071\n",
      "Epoch 3/10\n",
      "567/567 [==============================] - 1s 2ms/step - loss: 1.9007 - acc: 0.3016 - val_loss: 1.8618 - val_acc: 0.3071\n",
      "Epoch 4/10\n",
      "567/567 [==============================] - 1s 2ms/step - loss: 1.8936 - acc: 0.3157 - val_loss: 1.8804 - val_acc: 0.2179\n",
      "Epoch 5/10\n",
      "567/567 [==============================] - 1s 2ms/step - loss: 1.8936 - acc: 0.3122 - val_loss: 1.8529 - val_acc: 0.3071\n",
      "Epoch 6/10\n",
      "567/567 [==============================] - 1s 2ms/step - loss: 1.8877 - acc: 0.3157 - val_loss: 1.8429 - val_acc: 0.3071\n",
      "Epoch 7/10\n",
      "567/567 [==============================] - 1s 2ms/step - loss: 1.8944 - acc: 0.3139 - val_loss: 1.8463 - val_acc: 0.3071\n",
      "Epoch 8/10\n",
      "567/567 [==============================] - 1s 2ms/step - loss: 1.8863 - acc: 0.3157 - val_loss: 1.8559 - val_acc: 0.3071\n",
      "Epoch 9/10\n",
      "567/567 [==============================] - 1s 2ms/step - loss: 1.8787 - acc: 0.3157 - val_loss: 1.8379 - val_acc: 0.3071\n",
      "Epoch 10/10\n",
      "567/567 [==============================] - 1s 2ms/step - loss: 1.8805 - acc: 0.3157 - val_loss: 1.8423 - val_acc: 0.3071\n"
     ]
    }
   ],
   "source": [
    "history = model.fit(X_train, y_train,\n",
    "                    batch_size=batch_size,\n",
    "                    epochs=epochs,\n",
    "                    verbose=1,\n",
    "                    validation_data=(X_test, y_test))\n",
    "\n",
    "beep()"
   ]
  },
  {
   "cell_type": "code",
   "execution_count": 145,
   "metadata": {},
   "outputs": [
    {
     "name": "stdout",
     "output_type": "stream",
     "text": [
      "Test loss: 1.842319083213806\n",
      "Test accuracy: 0.30714285671710967\n"
     ]
    }
   ],
   "source": [
    "score = model.evaluate(X_test, y_test, verbose=0)\n",
    "print('Test loss:', score[0])\n",
    "print('Test accuracy:', score[1])"
   ]
  },
  {
   "cell_type": "markdown",
   "metadata": {},
   "source": [
    "## Word Similarity Visualization"
   ]
  },
  {
   "cell_type": "code",
   "execution_count": null,
   "metadata": {},
   "outputs": [],
   "source": [
    "X = word_vec[word_vec.wv.vocab]\n",
    "graph_tsne = TSNE(n_components=2)\n",
    "result = graph_tsne.fit_transform(X)\n",
    "# create a scatter plot of the projection\n",
    "plt.figure(figsize=(15,15))\n",
    "plt.scatter(result[:, 0], result[:, 1])\n",
    "words = list(word_vec.wv.vocab)\n",
    "for i, word in enumerate(words):\n",
    "    plt.annotate(word, xy=(result[i, 0], result[i, 1]))\n",
    "# plt.ylim(-0.006,0.008)\n",
    "# plt.xlim(-.02,.04)\n",
    "plt.show()\n",
    "\n",
    "graph_pca = PCA(n_components=2)\n",
    "result = graph_pca.fit_transform(X)\n",
    "# create a scatter plot of the projection\n",
    "plt.figure(figsize=(15,15))\n",
    "plt.scatter(result[:, 0], result[:, 1])\n",
    "words = list(word_vec.wv.vocab)\n",
    "for i, word in enumerate(words):\n",
    "    plt.annotate(word, xy=(result[i, 0], result[i, 1]))\n",
    "# plt.ylim(-0.006,0.008)\n",
    "# plt.xlim(-.02,.04)\n",
    "plt.show()\n",
    "beep()"
   ]
  }
 ],
 "metadata": {
  "kernelspec": {
   "display_name": "Python 3",
   "language": "python",
   "name": "python3"
  },
  "language_info": {
   "codemirror_mode": {
    "name": "ipython",
    "version": 3
   },
   "file_extension": ".py",
   "mimetype": "text/x-python",
   "name": "python",
   "nbconvert_exporter": "python",
   "pygments_lexer": "ipython3",
   "version": "3.6.5"
  }
 },
 "nbformat": 4,
 "nbformat_minor": 2
}
