{
 "cells": [
  {
   "cell_type": "markdown",
   "metadata": {},
   "source": [
    "## Goals"
   ]
  },
  {
   "cell_type": "raw",
   "metadata": {},
   "source": [
    "Session I:\n",
    "    ✓ Explore data and build basic model\n",
    "        ✓ Hist of # per char per comment\n",
    "        ✓ Hist of scores\n",
    "        X Does comment contain 'great'\n",
    "\n",
    "Session II:\n",
    "    Refine basic model and write up\n",
    "\n",
    "Session III:\n",
    "    Try more refined modeling\n",
    "    \n",
    "Session IV:\n",
    "    Write up better model, gonutz\n",
    "\n",
    "Session V:\n",
    "    Polish"
   ]
  },
  {
   "cell_type": "markdown",
   "metadata": {},
   "source": [
    "## Libraries"
   ]
  },
  {
   "cell_type": "code",
   "execution_count": 1,
   "metadata": {},
   "outputs": [],
   "source": [
    "import pandas as pd\n",
    "import numpy as np\n",
    "import spacy\n",
    "import textblob\n",
    "from gensim.models import word2vec\n",
    "import matplotlib.pyplot as plt\n",
    "import seaborn as sns\n",
    "from statsmodels import robust\n",
    "from string import punctuation\n",
    "\n",
    "import warnings\n",
    "warnings.filterwarnings('ignore')\n",
    "\n",
    "from sklearn.cluster import SpectralClustering\n",
    "from sklearn.linear_model import LogisticRegression\n",
    "from sklearn.model_selection import train_test_split\n",
    "from sklearn.decomposition import PCA"
   ]
  },
  {
   "cell_type": "markdown",
   "metadata": {},
   "source": [
    "# 1. Import and Add Basic Features"
   ]
  },
  {
   "cell_type": "code",
   "execution_count": 2,
   "metadata": {},
   "outputs": [
    {
     "data": {
      "text/html": [
       "<div>\n",
       "<style scoped>\n",
       "    .dataframe tbody tr th:only-of-type {\n",
       "        vertical-align: middle;\n",
       "    }\n",
       "\n",
       "    .dataframe tbody tr th {\n",
       "        vertical-align: top;\n",
       "    }\n",
       "\n",
       "    .dataframe thead th {\n",
       "        text-align: right;\n",
       "    }\n",
       "</style>\n",
       "<table border=\"1\" class=\"dataframe\">\n",
       "  <thead>\n",
       "    <tr style=\"text-align: right;\">\n",
       "      <th></th>\n",
       "      <th>reviewer_id</th>\n",
       "      <th>game_id</th>\n",
       "      <th>rating</th>\n",
       "      <th>comment</th>\n",
       "    </tr>\n",
       "  </thead>\n",
       "  <tbody>\n",
       "    <tr>\n",
       "      <th>0</th>\n",
       "      <td>25308</td>\n",
       "      <td>37111</td>\n",
       "      <td>8.5</td>\n",
       "      <td>++++ Thematic +++ Bluff - Many randomness   I ...</td>\n",
       "    </tr>\n",
       "    <tr>\n",
       "      <th>1</th>\n",
       "      <td>54313</td>\n",
       "      <td>12</td>\n",
       "      <td>8.0</td>\n",
       "      <td>\"well, that ugly artwork certainly helped imme...</td>\n",
       "    </tr>\n",
       "  </tbody>\n",
       "</table>\n",
       "</div>"
      ],
      "text/plain": [
       "   reviewer_id  game_id  rating  \\\n",
       "0        25308    37111     8.5   \n",
       "1        54313       12     8.0   \n",
       "\n",
       "                                             comment  \n",
       "0  ++++ Thematic +++ Bluff - Many randomness   I ...  \n",
       "1  \"well, that ugly artwork certainly helped imme...  "
      ]
     },
     "execution_count": 2,
     "metadata": {},
     "output_type": "execute_result"
    }
   ],
   "source": [
    "review = pd.read_csv('boardgame-comments-sample.csv')\n",
    "review.columns = 'reviewer_id', 'game_id', 'rating', 'comment'\n",
    "review.head(2)"
   ]
  },
  {
   "cell_type": "code",
   "execution_count": 3,
   "metadata": {},
   "outputs": [],
   "source": [
    "# RATINGS ADJUSTMENT: ceiling >= .5 [or] floor < .5\n",
    "review['rating'] = review.rating.apply(round)"
   ]
  },
  {
   "cell_type": "code",
   "execution_count": 4,
   "metadata": {},
   "outputs": [
    {
     "data": {
      "text/plain": [
       "reviewer_id    False\n",
       "game_id        False\n",
       "rating         False\n",
       "comment        False\n",
       "dtype: bool"
      ]
     },
     "execution_count": 4,
     "metadata": {},
     "output_type": "execute_result"
    }
   ],
   "source": [
    "# Check for null values\n",
    "review.isnull().any()"
   ]
  },
  {
   "cell_type": "code",
   "execution_count": 5,
   "metadata": {},
   "outputs": [],
   "source": [
    "# Functions for finding percentage frequency (capital letters/punctuation)\n",
    "def per_check(string_value, total):\n",
    "    percentage = len(string_value)\n",
    "    if percentage != 0:\n",
    "        percentage = float(total / percentage) * 100\n",
    "    else:\n",
    "        percentage = 0\n",
    "    return percentage\n",
    "\n",
    "def punc_count(string_value):\n",
    "    count = 0\n",
    "    for c in string_value:\n",
    "        if c in punctuation:\n",
    "            count+= 1\n",
    "    return per_check(string_value, count)\n",
    "\n",
    "def caplet_count(string_value):\n",
    "    count = 0\n",
    "    for c in string_value:\n",
    "        if c.isupper():\n",
    "            count+= 1\n",
    "    return per_check(string_value, count)      \n",
    "\n",
    "review['c_len'] = review.comment.apply(len)\n",
    "review['punc_count'] = review.comment.apply(punc_count)\n",
    "review['caplet_count'] = review.comment.apply(caplet_count)"
   ]
  },
  {
   "cell_type": "code",
   "execution_count": 6,
   "metadata": {},
   "outputs": [
    {
     "data": {
      "text/html": [
       "<div>\n",
       "<style scoped>\n",
       "    .dataframe tbody tr th:only-of-type {\n",
       "        vertical-align: middle;\n",
       "    }\n",
       "\n",
       "    .dataframe tbody tr th {\n",
       "        vertical-align: top;\n",
       "    }\n",
       "\n",
       "    .dataframe thead th {\n",
       "        text-align: right;\n",
       "    }\n",
       "</style>\n",
       "<table border=\"1\" class=\"dataframe\">\n",
       "  <thead>\n",
       "    <tr style=\"text-align: right;\">\n",
       "      <th></th>\n",
       "      <th>reviewer_id</th>\n",
       "      <th>game_id</th>\n",
       "      <th>rating</th>\n",
       "      <th>comment</th>\n",
       "      <th>c_len</th>\n",
       "      <th>punc_count</th>\n",
       "      <th>caplet_count</th>\n",
       "    </tr>\n",
       "  </thead>\n",
       "  <tbody>\n",
       "    <tr>\n",
       "      <th>0</th>\n",
       "      <td>25308</td>\n",
       "      <td>37111</td>\n",
       "      <td>8</td>\n",
       "      <td>++++ Thematic +++ Bluff - Many randomness   I ...</td>\n",
       "      <td>407</td>\n",
       "      <td>4.914005</td>\n",
       "      <td>1.719902</td>\n",
       "    </tr>\n",
       "    <tr>\n",
       "      <th>1</th>\n",
       "      <td>54313</td>\n",
       "      <td>12</td>\n",
       "      <td>8</td>\n",
       "      <td>\"well, that ugly artwork certainly helped imme...</td>\n",
       "      <td>100</td>\n",
       "      <td>7.000000</td>\n",
       "      <td>2.000000</td>\n",
       "    </tr>\n",
       "  </tbody>\n",
       "</table>\n",
       "</div>"
      ],
      "text/plain": [
       "   reviewer_id  game_id  rating  \\\n",
       "0        25308    37111       8   \n",
       "1        54313       12       8   \n",
       "\n",
       "                                             comment  c_len  punc_count  \\\n",
       "0  ++++ Thematic +++ Bluff - Many randomness   I ...    407    4.914005   \n",
       "1  \"well, that ugly artwork certainly helped imme...    100    7.000000   \n",
       "\n",
       "   caplet_count  \n",
       "0      1.719902  \n",
       "1      2.000000  "
      ]
     },
     "execution_count": 6,
     "metadata": {},
     "output_type": "execute_result"
    }
   ],
   "source": [
    "review.head(2)"
   ]
  },
  {
   "cell_type": "markdown",
   "metadata": {},
   "source": [
    "### Show Reviewer_ID and Game_ID Counts (Matthew's Suggestion)"
   ]
  },
  {
   "cell_type": "code",
   "execution_count": 7,
   "metadata": {},
   "outputs": [
    {
     "data": {
      "text/plain": [
       "14263    2\n",
       "61618    2\n",
       "52258    2\n",
       "Name: reviewer_id, dtype: int64"
      ]
     },
     "execution_count": 7,
     "metadata": {},
     "output_type": "execute_result"
    }
   ],
   "source": [
    "userreview = review.groupby('reviewer_id')\n",
    "# dflist = []\n",
    "# for r in userreview:\n",
    "#     dflist.append(r[1])  \n",
    "review.reviewer_id.value_counts()[0:3]"
   ]
  },
  {
   "cell_type": "code",
   "execution_count": 8,
   "metadata": {},
   "outputs": [
    {
     "data": {
      "text/plain": [
       "13       16\n",
       "822      13\n",
       "24480     9\n",
       "Name: game_id, dtype: int64"
      ]
     },
     "execution_count": 8,
     "metadata": {},
     "output_type": "execute_result"
    }
   ],
   "source": [
    "gamereview = review.groupby('game_id')\n",
    "# dflist = []\n",
    "# for r in gamereview:\n",
    "#     dflist.append(r[1])  \n",
    "review.game_id.value_counts()[0:3]"
   ]
  },
  {
   "cell_type": "code",
   "execution_count": 9,
   "metadata": {},
   "outputs": [],
   "source": [
    "del review['game_id']\n",
    "del review['reviewer_id']"
   ]
  },
  {
   "cell_type": "markdown",
   "metadata": {},
   "source": [
    "# 2. Natural Language Processing Features:"
   ]
  },
  {
   "cell_type": "markdown",
   "metadata": {},
   "source": [
    "## _Spacy_"
   ]
  },
  {
   "cell_type": "code",
   "execution_count": 10,
   "metadata": {},
   "outputs": [],
   "source": [
    "nlp = spacy.load('en')"
   ]
  },
  {
   "cell_type": "code",
   "execution_count": 11,
   "metadata": {},
   "outputs": [
    {
     "name": "stdout",
     "output_type": "stream",
     "text": [
      "CPU times: user 10.8 s, sys: 1.44 s, total: 12.3 s\n",
      "Wall time: 6.31 s\n"
     ]
    }
   ],
   "source": [
    "%%time\n",
    "docs = []\n",
    "tokens = []\n",
    "lemma = []\n",
    "pos = []\n",
    "deps = []\n",
    "ents = []\n",
    "\n",
    "def insert_null(l):\n",
    "    return [(w if w else '0') for w in l]\n",
    "\n",
    "# Create doc and len features for processing\n",
    "for doc in nlp.pipe(review['comment'].astype('unicode').values,batch_size = 10, n_threads=4):\n",
    "    if doc.is_parsed:\n",
    "        docs.append(doc)\n",
    "    else:\n",
    "        # Add blanks if parse fails\n",
    "        docs.append(None)\n",
    "        \n",
    "review['doc'] = docs\n",
    "review['w_len'] = review.doc.apply(len)"
   ]
  },
  {
   "cell_type": "code",
   "execution_count": 12,
   "metadata": {},
   "outputs": [],
   "source": [
    "# apply features\n",
    "review['tokens'] = review.doc.apply(lambda doc: insert_null([tok.text for tok in doc]))\n",
    "review['lemma'] = review.doc.apply(lambda doc: insert_null([tok.lemma_ for tok in doc]))\n",
    "review['pos'] = review.doc.apply(lambda doc: insert_null([tok.pos_ for tok in doc]))\n",
    "review['deps'] = review.doc.apply(lambda doc: insert_null([tok.dep_ for tok in doc]))\n",
    "review['ents'] = review.doc.apply(lambda doc: insert_null([tok.ent_type_ for tok in doc]))"
   ]
  },
  {
   "cell_type": "code",
   "execution_count": 13,
   "metadata": {},
   "outputs": [
    {
     "name": "stdout",
     "output_type": "stream",
     "text": [
      "[u]The Positive:[/u] (+) The art is not 'great', but it sure is very functional. It supports in understanding the game. Moreover, the components are of good quality (except an unfortunate misprint of some 1$-coins in which some are smaller than others)  (+) The game rules are very structured and lim...\n"
     ]
    }
   ],
   "source": [
    "review.c_len.max()\n",
    "print(review.comment[review.c_len == 7977].iloc[0][0:300],end=''); print('...')"
   ]
  },
  {
   "cell_type": "raw",
   "metadata": {},
   "source": [
    "review.info()"
   ]
  },
  {
   "cell_type": "markdown",
   "metadata": {},
   "source": [
    "## _TextBlob_"
   ]
  },
  {
   "cell_type": "code",
   "execution_count": 14,
   "metadata": {},
   "outputs": [
    {
     "name": "stdout",
     "output_type": "stream",
     "text": [
      "CPU times: user 19.8 ms, sys: 409 µs, total: 20.2 ms\n",
      "Wall time: 10.5 ms\n"
     ]
    }
   ],
   "source": [
    "%%time\n",
    "blobs = review.comment.apply(lambda val: textblob.TextBlob(val))"
   ]
  },
  {
   "cell_type": "code",
   "execution_count": 15,
   "metadata": {},
   "outputs": [],
   "source": [
    "review['sent_pol'] = blobs.apply(lambda val: val.sentiment[0])\n",
    "review['sent_subj'] = blobs.apply(lambda val: val.sentiment[1])"
   ]
  },
  {
   "cell_type": "markdown",
   "metadata": {},
   "source": [
    "_Pol = Sentiment Polarity (positive or negative word choice)_ <br>\n",
    "_Subj = Sentiment Subjectivity (objective or subjective word choice)_"
   ]
  },
  {
   "cell_type": "raw",
   "metadata": {},
   "source": [
    "# Additional Textblob Features (Not included because of Spacy)\n",
    "review['wc'] = blobs.apply(lambda val: len(val.words))\n",
    "review['sc'] = blobs.apply(lambda val: len(val.sentences))\n",
    "review['tokens'] = blobs.apply(lambda val: [w.lower() for w in val.words])\n",
    "review['pos'] = blobs.apply(lambda val: [v[1] for v in val.tags])"
   ]
  },
  {
   "cell_type": "code",
   "execution_count": 16,
   "metadata": {},
   "outputs": [
    {
     "data": {
      "text/html": [
       "<div>\n",
       "<style scoped>\n",
       "    .dataframe tbody tr th:only-of-type {\n",
       "        vertical-align: middle;\n",
       "    }\n",
       "\n",
       "    .dataframe tbody tr th {\n",
       "        vertical-align: top;\n",
       "    }\n",
       "\n",
       "    .dataframe thead th {\n",
       "        text-align: right;\n",
       "    }\n",
       "</style>\n",
       "<table border=\"1\" class=\"dataframe\">\n",
       "  <thead>\n",
       "    <tr style=\"text-align: right;\">\n",
       "      <th></th>\n",
       "      <th>rating</th>\n",
       "      <th>comment</th>\n",
       "      <th>c_len</th>\n",
       "      <th>punc_count</th>\n",
       "      <th>caplet_count</th>\n",
       "      <th>doc</th>\n",
       "      <th>w_len</th>\n",
       "      <th>tokens</th>\n",
       "      <th>lemma</th>\n",
       "      <th>pos</th>\n",
       "      <th>deps</th>\n",
       "      <th>ents</th>\n",
       "      <th>sent_pol</th>\n",
       "      <th>sent_subj</th>\n",
       "    </tr>\n",
       "  </thead>\n",
       "  <tbody>\n",
       "    <tr>\n",
       "      <th>846</th>\n",
       "      <td>7</td>\n",
       "      <td>The vanilla version of this game has it's flaw...</td>\n",
       "      <td>144</td>\n",
       "      <td>3.472222</td>\n",
       "      <td>2.083333</td>\n",
       "      <td>(The, vanilla, version, of, this, game, has, i...</td>\n",
       "      <td>35</td>\n",
       "      <td>[The, vanilla, version, of, this, game, has, i...</td>\n",
       "      <td>[the, vanilla, version, of, this, game, have, ...</td>\n",
       "      <td>[DET, NOUN, NOUN, ADP, DET, NOUN, VERB, PRON, ...</td>\n",
       "      <td>[det, compound, nsubj, prep, det, pobj, ROOT, ...</td>\n",
       "      <td>[0, 0, 0, 0, 0, 0, 0, 0, 0, 0, 0, 0, 0, 0, 0, ...</td>\n",
       "      <td>-0.05</td>\n",
       "      <td>0.45</td>\n",
       "    </tr>\n",
       "  </tbody>\n",
       "</table>\n",
       "</div>"
      ],
      "text/plain": [
       "     rating                                            comment  c_len  \\\n",
       "846       7  The vanilla version of this game has it's flaw...    144   \n",
       "\n",
       "     punc_count  caplet_count  \\\n",
       "846    3.472222      2.083333   \n",
       "\n",
       "                                                   doc  w_len  \\\n",
       "846  (The, vanilla, version, of, this, game, has, i...     35   \n",
       "\n",
       "                                                tokens  \\\n",
       "846  [The, vanilla, version, of, this, game, has, i...   \n",
       "\n",
       "                                                 lemma  \\\n",
       "846  [the, vanilla, version, of, this, game, have, ...   \n",
       "\n",
       "                                                   pos  \\\n",
       "846  [DET, NOUN, NOUN, ADP, DET, NOUN, VERB, PRON, ...   \n",
       "\n",
       "                                                  deps  \\\n",
       "846  [det, compound, nsubj, prep, det, pobj, ROOT, ...   \n",
       "\n",
       "                                                  ents  sent_pol  sent_subj  \n",
       "846  [0, 0, 0, 0, 0, 0, 0, 0, 0, 0, 0, 0, 0, 0, 0, ...     -0.05       0.45  "
      ]
     },
     "execution_count": 16,
     "metadata": {},
     "output_type": "execute_result"
    }
   ],
   "source": [
    "# DataFrame With New Spacy and TextBlob Features\n",
    "review.tail(1)"
   ]
  },
  {
   "cell_type": "markdown",
   "metadata": {},
   "source": [
    "# 3. Visuals"
   ]
  },
  {
   "cell_type": "code",
   "execution_count": 17,
   "metadata": {},
   "outputs": [],
   "source": [
    "def MEDIAN_reject_outliers(data, m=3):\n",
    "    data = data[abs(data - np.median(data)) < m*robust.mad(data)]\n",
    "    return data[~np.isnan(data)].sort_values()\n",
    "\n",
    "\n",
    "def MEAN_reject_outliers(data, m=3):\n",
    "    data = data[abs(data - np.mean(data)) <= m*np.std(data)]\n",
    "    return data[~np.isnan(data)].sort_values()"
   ]
  },
  {
   "cell_type": "code",
   "execution_count": 18,
   "metadata": {},
   "outputs": [
    {
     "data": {
      "image/png": "[encoded data removed]",
      "text/plain": [
       "<Figure size 662.4x288 with 1 Axes>"
      ]
     },
     "metadata": {},
     "output_type": "display_data"
    },
    {
     "data": {
      "image/png": "[encoded data removed]",
      "text/plain": [
       "<Figure size 648x504 with 4 Axes>"
      ]
     },
     "metadata": {},
     "output_type": "display_data"
    }
   ],
   "source": [
    "# Ratings\n",
    "plt.figure(figsize=(9.2,4))\n",
    "plt.hist(review.rating,bins=10)\n",
    "plt.title('Rating Distribution')\n",
    "plt.show()\n",
    "\n",
    "plt.figure(figsize=(9,7))\n",
    "\n",
    "plt.subplot(221)\n",
    "sns.distplot(MEDIAN_reject_outliers(review.c_len))\n",
    "# plt.title('Average Char Length');\n",
    "\n",
    "plt.subplot(222)\n",
    "sns.distplot(MEDIAN_reject_outliers(review.punc_count))\n",
    "plt.xlabel('Rating');\n",
    "plt.ylabel('Punc Percentatage');\n",
    "\n",
    "\n",
    "plt.subplot(223)\n",
    "plt.scatter(review.rating,review.c_len)\n",
    "plt.xlabel('Rating')\n",
    "plt.ylabel('Comment Length')\n",
    "xlist = []\n",
    "ylist = []\n",
    "m,b = np.polyfit(review.rating, review.c_len, 1)\n",
    "for i in range(0,11):\n",
    "    ylist.append(i*m + b)\n",
    "    xlist.append(i)\n",
    "plt.plot(xlist,ylist,color='r')\n",
    "# plt.title('Ratings by Review Len')\n",
    "\n",
    "\n",
    "plt.subplot(224)\n",
    "plt.scatter(review.rating,review.punc_count);\n",
    "xlist = []\n",
    "ylist = []\n",
    "m,b = np.polyfit(review.rating, review.punc_count, 1)\n",
    "for i in range(0,11):\n",
    "    ylist.append(i*m + b)\n",
    "    xlist.append(i)\n",
    "plt.plot(xlist,ylist,color='r')\n",
    "# plt.title('Ratings by Punctuation Percentage');\n",
    "plt.xlabel('Rating');\n",
    "plt.ylabel('Punct Percentage');"
   ]
  },
  {
   "cell_type": "markdown",
   "metadata": {},
   "source": [
    "# 4. Models"
   ]
  },
  {
   "cell_type": "code",
   "execution_count": 19,
   "metadata": {},
   "outputs": [],
   "source": [
    "features = ['c_len','caplet_count','punc_count','rating','sent_pol','sent_subj']"
   ]
  },
  {
   "cell_type": "code",
   "execution_count": 20,
   "metadata": {},
   "outputs": [
    {
     "name": "stdout",
     "output_type": "stream",
     "text": [
      "CPU times: user 7.19 ms, sys: 1.54 ms, total: 8.73 ms\n",
      "Wall time: 7.51 ms\n"
     ]
    }
   ],
   "source": [
    "%%time\n",
    "all_data = review[features].dropna()\n",
    "y = all_data['rating'].values.reshape(-1, 1).ravel()\n",
    "X = all_data[all_data.columns[~all_data.columns.str.contains('rating')]]\n",
    "\n",
    "X_train, X_test, y_train, y_test = train_test_split(X, y, test_size=0.33, random_state=42)\n",
    "\n",
    "# svd.transform()"
   ]
  },
  {
   "cell_type": "markdown",
   "metadata": {},
   "source": [
    "### _Cluster Model_"
   ]
  },
  {
   "cell_type": "markdown",
   "metadata": {},
   "source": [
    "_Tries to find clusters in the data but doesnt predict anything_ (Not currently relevant)"
   ]
  },
  {
   "cell_type": "code",
   "execution_count": 21,
   "metadata": {},
   "outputs": [],
   "source": [
    "# Principal Components Analysis PCA (reduces features to 2 for visualization)\n",
    "pca = PCA(n_components=2)\n",
    "pca.fit(X_train)\n",
    "\n",
    "X_train_pca = pca.transform(X_train)\n",
    "\n",
    "# We know we're looking for three clusters.\n",
    "n_clusters=10\n",
    "\n",
    "# Declare and fit the model.\n",
    "sc = SpectralClustering(n_clusters=n_clusters)\n",
    "sc.fit(X_train_pca)\n",
    "\n",
    "#Predicted clusters.\n",
    "predict=sc.fit_predict(X_train_pca)"
   ]
  },
  {
   "cell_type": "code",
   "execution_count": 22,
   "metadata": {},
   "outputs": [
    {
     "data": {
      "image/png": "[encoded data removed]",
      "text/plain": [
       "<Figure size 432x288 with 1 Axes>"
      ]
     },
     "metadata": {},
     "output_type": "display_data"
    }
   ],
   "source": [
    "X_train_pca_df = pd.DataFrame(X_train_pca)\n",
    "X_train_pca_df.columns = ['comp_1','comp_2']\n",
    "X_train_pca_df['hue'] = predict\n",
    "\n",
    "plt.plot([i for i in range(1,11)],list(X_train_pca_df.hue.value_counts()),color ='b');\n",
    "plt.plot([i for i in range(1,11)],list(review.rating.value_counts()),color ='g');\n",
    "plt.legend(['Predicted Cluster','Actual Ratings']);\n",
    "plt.title('Cluster Prediction of Counts by Ratings')\n",
    "plt.show()"
   ]
  },
  {
   "cell_type": "code",
   "execution_count": 23,
   "metadata": {},
   "outputs": [
    {
     "data": {
      "text/plain": [
       "<Figure size 1584x1584 with 0 Axes>"
      ]
     },
     "metadata": {},
     "output_type": "display_data"
    },
    {
     "data": {
      "image/png": "[encoded data removed]",
      "text/plain": [
       "<Figure size 402.375x360 with 1 Axes>"
      ]
     },
     "metadata": {},
     "output_type": "display_data"
    }
   ],
   "source": [
    "plt.figure(figsize=(22,22));\n",
    "sns.lmplot(x='comp_1',y='comp_2', hue='hue',data=X_train_pca_df,fit_reg=False)\n",
    "plt.xlim(-250,1000)\n",
    "plt.ylim(-5,15)\n",
    "plt.show()"
   ]
  },
  {
   "cell_type": "markdown",
   "metadata": {},
   "source": [
    "### _Logistic Regression_"
   ]
  },
  {
   "cell_type": "markdown",
   "metadata": {},
   "source": [
    "_Operates on probabilities_"
   ]
  },
  {
   "cell_type": "code",
   "execution_count": 24,
   "metadata": {},
   "outputs": [
    {
     "name": "stdout",
     "output_type": "stream",
     "text": [
      "Check for overfitting:\n",
      "31.393298059964724\n",
      "\n",
      "Percentage of ratings guessed correctly:\n",
      "30.357142857142854\n"
     ]
    }
   ],
   "source": [
    "lr = LogisticRegression()\n",
    "lr.fit(X_train,y_train)\n",
    "print('Check for overfitting:')\n",
    "print(lr.score(X_train,y_train)*100)\n",
    "print('')\n",
    "# Print Model Score Estimation on Same Data\n",
    "print('Percentage of ratings guessed correctly:')\n",
    "print(lr.score(X_test,y_test)*100)"
   ]
  }
 ],
 "metadata": {
  "kernelspec": {
   "display_name": "Python 3",
   "language": "python",
   "name": "python3"
  },
  "language_info": {
   "codemirror_mode": {
    "name": "ipython",
    "version": 3
   },
   "file_extension": ".py",
   "mimetype": "text/x-python",
   "name": "python",
   "nbconvert_exporter": "python",
   "pygments_lexer": "ipython3",
   "version": "3.6.5"
  }
 },
 "nbformat": 4,
 "nbformat_minor": 2
}
