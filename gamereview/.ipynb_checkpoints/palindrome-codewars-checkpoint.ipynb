{
 "cells": [
  {
   "cell_type": "raw",
   "metadata": {},
   "source": [
    "Dask"
   ]
  },
  {
   "cell_type": "raw",
   "metadata": {},
   "source": [
    "PySpark"
   ]
  },
  {
   "cell_type": "code",
   "execution_count": 537,
   "metadata": {},
   "outputs": [],
   "source": [
    "def palindrome(n,c):\n",
    "    \n",
    "    front =c[:-1]\n",
    "    \n",
    "    middle = c[-1]*(n-len(c)*2+1)\n",
    "    \n",
    "    back = c[::-1]\n",
    "    \n",
    "#     print('front + middle + back')\n",
    "    \n",
    "#     print('{}  +  {}   +   {}'.format(front,middle,back))\n",
    "    \n",
    "    print(c.center(n,c[0]))\n",
    "    \n",
    "    return (front+middle+back)"
   ]
  },
  {
   "cell_type": "code",
   "execution_count": 538,
   "metadata": {},
   "outputs": [
    {
     "name": "stdout",
     "output_type": "stream",
     "text": [
      "aaabcaa\n"
     ]
    },
    {
     "data": {
      "text/plain": [
       "'abcccba'"
      ]
     },
     "execution_count": 538,
     "metadata": {},
     "output_type": "execute_result"
    }
   ],
   "source": [
    "(palindrome(7,'abc'))"
   ]
  },
  {
   "cell_type": "code",
   "execution_count": 531,
   "metadata": {},
   "outputs": [
    {
     "name": "stdout",
     "output_type": "stream",
     "text": [
      "MdlzP0JkwJpEeyEV4MM4VEyeEpJwkJ0PzldM\n"
     ]
    }
   ],
   "source": [
    "print(palindrome(36,'MdlzP0JkwJpEeyEV4M'))"
   ]
  },
  {
   "cell_type": "code",
   "execution_count": 507,
   "metadata": {},
   "outputs": [],
   "source": []
  },
  {
   "cell_type": "code",
   "execution_count": 530,
   "metadata": {},
   "outputs": [],
   "source": [
    "palindrome=lambda n,s:(s+s[-1-n%2::-1]).center(n,s[0])"
   ]
  },
  {
   "cell_type": "code",
   "execution_count": null,
   "metadata": {},
   "outputs": [],
   "source": []
  }
 ],
 "metadata": {
  "kernelspec": {
   "display_name": "Python 3",
   "language": "python",
   "name": "python3"
  },
  "language_info": {
   "codemirror_mode": {
    "name": "ipython",
    "version": 3
   },
   "file_extension": ".py",
   "mimetype": "text/x-python",
   "name": "python",
   "nbconvert_exporter": "python",
   "pygments_lexer": "ipython3",
   "version": "3.6.5"
  }
 },
 "nbformat": 4,
 "nbformat_minor": 2
}
