{
 "cells": [
  {
   "cell_type": "code",
   "execution_count": 80,
   "metadata": {
    "collapsed": true
   },
   "outputs": [],
   "source": [
    "# data table manip\n",
    "import pandas as pd\n",
    "import numpy as np\n",
    "from pandas_datareader import data, wb\n",
    "\n",
    "# visualization\n",
    "import matplotlib.pyplot as plt\n",
    "import seaborn as sns\n",
    "\n",
    "# statistics\n",
    "from scipy import stats\n",
    "import statsmodels.formula.api as smf\n",
    "from sklearn.preprocessing import MinMaxScaler\n",
    "from sklearn.linear_model import LinearRegression"
   ]
  },
  {
   "cell_type": "code",
   "execution_count": 81,
   "metadata": {},
   "outputs": [
    {
     "name": "stdout",
     "output_type": "stream",
     "text": [
      "|Utilities|Basic Materials|Consumer Goods|Industrial Goods|Healthcare|Services|Financial|Technology|Conglomerates|"
     ]
    }
   ],
   "source": [
    "# ======== clean csv files ========\n",
    "\n",
    "# indicators csv (drops blank first row, gets rid of dt indicator columns, sets index to datetime)\n",
    "indicators = pd.read_csv('Indicators_train.csv').iloc[1:].dropna(how='all')\n",
    "indicators.date = pd.to_datetime(indicators.date)\n",
    "for column in indicators:\n",
    "    if 'dt' in column:\n",
    "        del indicators[column]\n",
    "    elif 'date' in column:\n",
    "        continue\n",
    "    else:\n",
    "        indicators[column] = indicators[column].astype(float)\n",
    "indicators = indicators.set_index(indicators.date)\n",
    "del indicators['date']\n",
    "\n",
    "# stock - csv (sets index to datetime)\n",
    "stock = pd.read_csv('stocks-us-adjClose.csv')\n",
    "stock.date = pd.to_datetime(stock.date)\n",
    "stock = stock.set_index(stock.date)\n",
    "del stock['date']\n",
    "\n",
    "# sector - csv (loads csv and prints sectors for reference)\n",
    "sector = pd.read_csv('Company_information.csv', encoding = \"ISO-8859-1\")\n",
    "seclist = sector.Sector.unique()\n",
    "sectorset = []\n",
    "print('|',end='')\n",
    "for member in seclist:\n",
    "    if str(member) != 'nan':\n",
    "        sectorset.append(member)\n",
    "        print(member, end='|') \n",
    "        \n",
    "# main sectors - csv\n",
    "mainsectors = pd.read_csv('sector_ETFs.csv')\n",
    "mainsectors['Date'] = pd.to_datetime(mainsectors['Date'])\n",
    "mainsectors = mainsectors.set_index(mainsectors['Date'])\n",
    "del mainsectors['Date']"
   ]
  },
  {
   "cell_type": "code",
   "execution_count": 86,
   "metadata": {},
   "outputs": [
    {
     "data": {
      "image/png": "[encoded data removed]",
      "text/plain": [
       "<matplotlib.figure.Figure at 0x1129f0550>"
      ]
     },
     "metadata": {},
     "output_type": "display_data"
    }
   ],
   "source": [
    "plt.plot(mainsectors['Consumer Goods (IYK)'])\n",
    "plt.show()"
   ]
  },
  {
   "cell_type": "code",
   "execution_count": 84,
   "metadata": {},
   "outputs": [],
   "source": [
    "# Merge sectors with indicators\n",
    "\n",
    "sec_indic = pd.merge(mainsectors,indicators, how='inner', left_index=True, right_index=True).dropna(how='any')"
   ]
  },
  {
   "cell_type": "code",
   "execution_count": 87,
   "metadata": {},
   "outputs": [
    {
     "data": {
      "image/png": "[encoded data removed]",
      "text/plain": [
       "<matplotlib.figure.Figure at 0x112405b38>"
      ]
     },
     "metadata": {},
     "output_type": "display_data"
    },
    {
     "data": {
      "text/html": [
       "<div>\n",
       "<style>\n",
       "    .dataframe thead tr:only-child th {\n",
       "        text-align: right;\n",
       "    }\n",
       "\n",
       "    .dataframe thead th {\n",
       "        text-align: left;\n",
       "    }\n",
       "\n",
       "    .dataframe tbody tr th {\n",
       "        vertical-align: top;\n",
       "    }\n",
       "</style>\n",
       "<table border=\"1\" class=\"dataframe\">\n",
       "  <thead>\n",
       "    <tr style=\"text-align: right;\">\n",
       "      <th></th>\n",
       "      <th>Technology (IYW)</th>\n",
       "      <th>Basic Materials (IYM)</th>\n",
       "      <th>Consumer Goods (IYK)</th>\n",
       "      <th>Services (IYC)</th>\n",
       "      <th>Healthcare (IYH)</th>\n",
       "      <th>Utilities (IDU)</th>\n",
       "      <th>HOUST</th>\n",
       "      <th>UNRATENSA</th>\n",
       "      <th>EMRATIO</th>\n",
       "      <th>UEMPMED</th>\n",
       "      <th>UMCSENT</th>\n",
       "      <th>USSLIND</th>\n",
       "      <th>KCFSI</th>\n",
       "      <th>IPMAN</th>\n",
       "      <th>VIXCLS</th>\n",
       "      <th>DGS10</th>\n",
       "    </tr>\n",
       "  </thead>\n",
       "  <tbody>\n",
       "    <tr>\n",
       "      <th>2017-09-05</th>\n",
       "      <td>147.656967</td>\n",
       "      <td>91.263222</td>\n",
       "      <td>120.192558</td>\n",
       "      <td>162.589981</td>\n",
       "      <td>168.935532</td>\n",
       "      <td>135.900024</td>\n",
       "      <td>1155.0</td>\n",
       "      <td>4.5</td>\n",
       "      <td>60.1</td>\n",
       "      <td>10.5</td>\n",
       "      <td>96.8</td>\n",
       "      <td>1.22</td>\n",
       "      <td>-0.73</td>\n",
       "      <td>104.1579</td>\n",
       "      <td>10.13</td>\n",
       "      <td>2.12</td>\n",
       "    </tr>\n",
       "    <tr>\n",
       "      <th>2017-09-05</th>\n",
       "      <td>147.656967</td>\n",
       "      <td>91.263222</td>\n",
       "      <td>120.192558</td>\n",
       "      <td>162.589981</td>\n",
       "      <td>168.935532</td>\n",
       "      <td>135.900024</td>\n",
       "      <td>1155.0</td>\n",
       "      <td>4.5</td>\n",
       "      <td>60.1</td>\n",
       "      <td>10.5</td>\n",
       "      <td>96.8</td>\n",
       "      <td>1.22</td>\n",
       "      <td>-0.73</td>\n",
       "      <td>104.1579</td>\n",
       "      <td>12.23</td>\n",
       "      <td>2.12</td>\n",
       "    </tr>\n",
       "    <tr>\n",
       "      <th>2017-09-06</th>\n",
       "      <td>147.955704</td>\n",
       "      <td>91.560776</td>\n",
       "      <td>120.400726</td>\n",
       "      <td>163.565002</td>\n",
       "      <td>169.720917</td>\n",
       "      <td>135.207962</td>\n",
       "      <td>1155.0</td>\n",
       "      <td>4.5</td>\n",
       "      <td>60.1</td>\n",
       "      <td>10.5</td>\n",
       "      <td>96.8</td>\n",
       "      <td>1.22</td>\n",
       "      <td>-0.73</td>\n",
       "      <td>104.1579</td>\n",
       "      <td>11.63</td>\n",
       "      <td>2.07</td>\n",
       "    </tr>\n",
       "    <tr>\n",
       "      <th>2017-09-07</th>\n",
       "      <td>148.423721</td>\n",
       "      <td>91.699638</td>\n",
       "      <td>120.509766</td>\n",
       "      <td>162.709366</td>\n",
       "      <td>171.331421</td>\n",
       "      <td>136.246048</td>\n",
       "      <td>1155.0</td>\n",
       "      <td>4.5</td>\n",
       "      <td>60.1</td>\n",
       "      <td>10.5</td>\n",
       "      <td>96.8</td>\n",
       "      <td>1.22</td>\n",
       "      <td>-0.73</td>\n",
       "      <td>104.1579</td>\n",
       "      <td>11.55</td>\n",
       "      <td>2.10</td>\n",
       "    </tr>\n",
       "    <tr>\n",
       "      <th>2017-09-08</th>\n",
       "      <td>147.039566</td>\n",
       "      <td>91.540939</td>\n",
       "      <td>120.301598</td>\n",
       "      <td>162.012939</td>\n",
       "      <td>172.077026</td>\n",
       "      <td>136.928207</td>\n",
       "      <td>1155.0</td>\n",
       "      <td>4.5</td>\n",
       "      <td>60.1</td>\n",
       "      <td>10.5</td>\n",
       "      <td>96.8</td>\n",
       "      <td>1.22</td>\n",
       "      <td>-0.73</td>\n",
       "      <td>104.1579</td>\n",
       "      <td>12.12</td>\n",
       "      <td>2.05</td>\n",
       "    </tr>\n",
       "  </tbody>\n",
       "</table>\n",
       "</div>"
      ],
      "text/plain": [
       "            Technology (IYW)  Basic Materials (IYM)  Consumer Goods (IYK)  \\\n",
       "2017-09-05        147.656967              91.263222            120.192558   \n",
       "2017-09-05        147.656967              91.263222            120.192558   \n",
       "2017-09-06        147.955704              91.560776            120.400726   \n",
       "2017-09-07        148.423721              91.699638            120.509766   \n",
       "2017-09-08        147.039566              91.540939            120.301598   \n",
       "\n",
       "            Services (IYC)  Healthcare (IYH)  Utilities (IDU)   HOUST  \\\n",
       "2017-09-05      162.589981        168.935532       135.900024  1155.0   \n",
       "2017-09-05      162.589981        168.935532       135.900024  1155.0   \n",
       "2017-09-06      163.565002        169.720917       135.207962  1155.0   \n",
       "2017-09-07      162.709366        171.331421       136.246048  1155.0   \n",
       "2017-09-08      162.012939        172.077026       136.928207  1155.0   \n",
       "\n",
       "            UNRATENSA  EMRATIO  UEMPMED  UMCSENT  USSLIND  KCFSI     IPMAN  \\\n",
       "2017-09-05        4.5     60.1     10.5     96.8     1.22  -0.73  104.1579   \n",
       "2017-09-05        4.5     60.1     10.5     96.8     1.22  -0.73  104.1579   \n",
       "2017-09-06        4.5     60.1     10.5     96.8     1.22  -0.73  104.1579   \n",
       "2017-09-07        4.5     60.1     10.5     96.8     1.22  -0.73  104.1579   \n",
       "2017-09-08        4.5     60.1     10.5     96.8     1.22  -0.73  104.1579   \n",
       "\n",
       "            VIXCLS  DGS10  \n",
       "2017-09-05   10.13   2.12  \n",
       "2017-09-05   12.23   2.12  \n",
       "2017-09-06   11.63   2.07  \n",
       "2017-09-07   11.55   2.10  \n",
       "2017-09-08   12.12   2.05  "
      ]
     },
     "execution_count": 87,
     "metadata": {},
     "output_type": "execute_result"
    }
   ],
   "source": [
    "# data appears linear and not logarithmic\n",
    "plt.plot(sec_indic['Consumer Goods (IYK)'])\n",
    "plt.show()\n",
    "\n",
    "sec_indic.tail()"
   ]
  },
  {
   "cell_type": "code",
   "execution_count": 88,
   "metadata": {},
   "outputs": [
    {
     "data": {
      "text/html": [
       "<div>\n",
       "<style>\n",
       "    .dataframe thead tr:only-child th {\n",
       "        text-align: right;\n",
       "    }\n",
       "\n",
       "    .dataframe thead th {\n",
       "        text-align: left;\n",
       "    }\n",
       "\n",
       "    .dataframe tbody tr th {\n",
       "        vertical-align: top;\n",
       "    }\n",
       "</style>\n",
       "<table border=\"1\" class=\"dataframe\">\n",
       "  <thead>\n",
       "    <tr style=\"text-align: right;\">\n",
       "      <th></th>\n",
       "      <th>Technology (IYW)</th>\n",
       "      <th>Basic Materials (IYM)</th>\n",
       "      <th>Consumer Goods (IYK)</th>\n",
       "      <th>Services (IYC)</th>\n",
       "      <th>Healthcare (IYH)</th>\n",
       "      <th>Utilities (IDU)</th>\n",
       "    </tr>\n",
       "  </thead>\n",
       "  <tbody>\n",
       "    <tr>\n",
       "      <th>HOUST</th>\n",
       "      <td>0.797791</td>\n",
       "      <td>0.623279</td>\n",
       "      <td>0.879068</td>\n",
       "      <td>0.875549</td>\n",
       "      <td>0.851387</td>\n",
       "      <td>0.837911</td>\n",
       "    </tr>\n",
       "    <tr>\n",
       "      <th>UNRATENSA</th>\n",
       "      <td>-0.896497</td>\n",
       "      <td>-0.704691</td>\n",
       "      <td>-0.947071</td>\n",
       "      <td>-0.950166</td>\n",
       "      <td>-0.940192</td>\n",
       "      <td>-0.914528</td>\n",
       "    </tr>\n",
       "    <tr>\n",
       "      <th>EMRATIO</th>\n",
       "      <td>0.932982</td>\n",
       "      <td>0.689036</td>\n",
       "      <td>0.927112</td>\n",
       "      <td>0.909311</td>\n",
       "      <td>0.877796</td>\n",
       "      <td>0.953048</td>\n",
       "    </tr>\n",
       "    <tr>\n",
       "      <th>UEMPMED</th>\n",
       "      <td>-0.892438</td>\n",
       "      <td>-0.692464</td>\n",
       "      <td>-0.950417</td>\n",
       "      <td>-0.953214</td>\n",
       "      <td>-0.947997</td>\n",
       "      <td>-0.911652</td>\n",
       "    </tr>\n",
       "    <tr>\n",
       "      <th>UMCSENT</th>\n",
       "      <td>0.840157</td>\n",
       "      <td>0.641928</td>\n",
       "      <td>0.868678</td>\n",
       "      <td>0.888639</td>\n",
       "      <td>0.889860</td>\n",
       "      <td>0.846299</td>\n",
       "    </tr>\n",
       "    <tr>\n",
       "      <th>USSLIND</th>\n",
       "      <td>0.268967</td>\n",
       "      <td>0.247243</td>\n",
       "      <td>0.292560</td>\n",
       "      <td>0.288182</td>\n",
       "      <td>0.322488</td>\n",
       "      <td>0.277312</td>\n",
       "    </tr>\n",
       "    <tr>\n",
       "      <th>KCFSI</th>\n",
       "      <td>-0.065771</td>\n",
       "      <td>-0.469777</td>\n",
       "      <td>-0.064606</td>\n",
       "      <td>-0.084982</td>\n",
       "      <td>-0.112565</td>\n",
       "      <td>0.015057</td>\n",
       "    </tr>\n",
       "    <tr>\n",
       "      <th>IPMAN</th>\n",
       "      <td>0.813431</td>\n",
       "      <td>0.582658</td>\n",
       "      <td>0.890537</td>\n",
       "      <td>0.904738</td>\n",
       "      <td>0.916923</td>\n",
       "      <td>0.839673</td>\n",
       "    </tr>\n",
       "    <tr>\n",
       "      <th>VIXCLS</th>\n",
       "      <td>-0.364619</td>\n",
       "      <td>-0.592054</td>\n",
       "      <td>-0.322849</td>\n",
       "      <td>-0.301993</td>\n",
       "      <td>-0.257019</td>\n",
       "      <td>-0.309225</td>\n",
       "    </tr>\n",
       "    <tr>\n",
       "      <th>DGS10</th>\n",
       "      <td>0.112172</td>\n",
       "      <td>0.402588</td>\n",
       "      <td>0.117935</td>\n",
       "      <td>0.168576</td>\n",
       "      <td>0.145435</td>\n",
       "      <td>-0.024464</td>\n",
       "    </tr>\n",
       "  </tbody>\n",
       "</table>\n",
       "</div>"
      ],
      "text/plain": [
       "           Technology (IYW)  Basic Materials (IYM)  Consumer Goods (IYK)  \\\n",
       "HOUST              0.797791               0.623279              0.879068   \n",
       "UNRATENSA         -0.896497              -0.704691             -0.947071   \n",
       "EMRATIO            0.932982               0.689036              0.927112   \n",
       "UEMPMED           -0.892438              -0.692464             -0.950417   \n",
       "UMCSENT            0.840157               0.641928              0.868678   \n",
       "USSLIND            0.268967               0.247243              0.292560   \n",
       "KCFSI             -0.065771              -0.469777             -0.064606   \n",
       "IPMAN              0.813431               0.582658              0.890537   \n",
       "VIXCLS            -0.364619              -0.592054             -0.322849   \n",
       "DGS10              0.112172               0.402588              0.117935   \n",
       "\n",
       "           Services (IYC)  Healthcare (IYH)  Utilities (IDU)  \n",
       "HOUST            0.875549          0.851387         0.837911  \n",
       "UNRATENSA       -0.950166         -0.940192        -0.914528  \n",
       "EMRATIO          0.909311          0.877796         0.953048  \n",
       "UEMPMED         -0.953214         -0.947997        -0.911652  \n",
       "UMCSENT          0.888639          0.889860         0.846299  \n",
       "USSLIND          0.288182          0.322488         0.277312  \n",
       "KCFSI           -0.084982         -0.112565         0.015057  \n",
       "IPMAN            0.904738          0.916923         0.839673  \n",
       "VIXCLS          -0.301993         -0.257019        -0.309225  \n",
       "DGS10            0.168576          0.145435        -0.024464  "
      ]
     },
     "execution_count": 88,
     "metadata": {},
     "output_type": "execute_result"
    }
   ],
   "source": [
    "sectors=['Technology (IYW)', 'Basic Materials (IYM)', 'Consumer Goods (IYK)', 'Services (IYC)', 'Healthcare (IYH)', 'Utilities (IDU)']\n",
    "features=['HOUST', 'UNRATENSA', 'EMRATIO', 'UEMPMED',\n",
    "       'UMCSENT', 'USSLIND', 'KCFSI', 'IPMAN', 'VIXCLS', 'DGS10']\n",
    "sec_indic.corr()\n",
    "\n",
    "# initiate empty dataframe\n",
    "corr = pd.DataFrame()\n",
    "for a in features:\n",
    "    for b in sectors:\n",
    "        corr.loc[a, b] = sec_indic.corr().loc[a, b]\n",
    "\n",
    "corr"
   ]
  },
  {
   "cell_type": "code",
   "execution_count": 89,
   "metadata": {},
   "outputs": [
    {
     "data": {
      "image/png": "[encoded data removed]",
      "text/plain": [
       "<matplotlib.figure.Figure at 0x112e89eb8>"
      ]
     },
     "metadata": {},
     "output_type": "display_data"
    }
   ],
   "source": [
    "sns.heatmap(corr,cmap='Blues',annot=True)\n",
    "plt.show()\n",
    "\n",
    "# Correlations: Dark blue indicates strong correlation, White indicates strong inverse correlation"
   ]
  },
  {
   "cell_type": "code",
   "execution_count": null,
   "metadata": {},
   "outputs": [],
   "source": []
  },
  {
   "cell_type": "code",
   "execution_count": 90,
   "metadata": {},
   "outputs": [],
   "source": [
    "# choose variables\n",
    "collist = ['EMRATIO','Utilities (IDU)']\n",
    "xylist = ['x','y']\n",
    "\n",
    "# Assigning Test and Training Data ranges\n",
    "train_data = sec_indic['2010':'2017-05-29'][collist]\n",
    "train_data.columns = xylist\n",
    "\n",
    "test_data = sec_indic['2017-06-01':'2017-12-30'][collist]\n",
    "test_data.columns = xylist"
   ]
  },
  {
   "cell_type": "code",
   "execution_count": 101,
   "metadata": {},
   "outputs": [
    {
     "name": "stdout",
     "output_type": "stream",
     "text": [
      "(72, 3)\n",
      "(1344, 2)\n",
      "Accuracy: 89.03\n",
      "Coefficients [[ 31.56643518]]\n"
     ]
    }
   ],
   "source": [
    "#Prints the Shape of a DataFrames after droping\n",
    "print(test_data.shape)\n",
    "print(train_data.shape)\n",
    "\n",
    "\n",
    "#Creation of Linear Model Object\n",
    "lm = LinearRegression()\n",
    "\n",
    "#Slicing of Datasets\n",
    "x_train = pd.DataFrame(train_data.iloc[:,0].values)\n",
    "y_train = pd.DataFrame(train_data.iloc[:,1].values)\n",
    "\n",
    "x_test = pd.DataFrame(test_data.iloc[:,0].values)\n",
    "y_test = pd.DataFrame(test_data.iloc[:,1].values)\n",
    "\n",
    "#Training the Model by training dataset\n",
    "lm.fit(x_train,y_train)\n",
    "\n",
    "#Prints the Accuracy of Model\n",
    "accuracy = round(lm.score(x_train,y_train) *100,2)\n",
    "print('Accuracy:', accuracy)\n",
    "\n",
    "#Prints the Coefficients\n",
    "print('Coefficients', lm.coef_)\n",
    "\n",
    "#Estimated prediction of y_test values based on trained model\n",
    "test_data['y_predict'] = lm.predict(x_test)\n",
    "\n"
   ]
  },
  {
   "cell_type": "code",
   "execution_count": 102,
   "metadata": {},
   "outputs": [
    {
     "data": {
      "text/html": [
       "<div>\n",
       "<style>\n",
       "    .dataframe thead tr:only-child th {\n",
       "        text-align: right;\n",
       "    }\n",
       "\n",
       "    .dataframe thead th {\n",
       "        text-align: left;\n",
       "    }\n",
       "\n",
       "    .dataframe tbody tr th {\n",
       "        vertical-align: top;\n",
       "    }\n",
       "</style>\n",
       "<table border=\"1\" class=\"dataframe\">\n",
       "  <thead>\n",
       "    <tr style=\"text-align: right;\">\n",
       "      <th></th>\n",
       "      <th>x</th>\n",
       "      <th>y</th>\n",
       "      <th>y_predict</th>\n",
       "    </tr>\n",
       "  </thead>\n",
       "  <tbody>\n",
       "    <tr>\n",
       "      <th>2017-07-25</th>\n",
       "      <td>60.1</td>\n",
       "      <td>130.314148</td>\n",
       "      <td>127.977136</td>\n",
       "    </tr>\n",
       "    <tr>\n",
       "      <th>2017-07-26</th>\n",
       "      <td>60.1</td>\n",
       "      <td>131.253357</td>\n",
       "      <td>127.977136</td>\n",
       "    </tr>\n",
       "    <tr>\n",
       "      <th>2017-07-27</th>\n",
       "      <td>60.1</td>\n",
       "      <td>131.609268</td>\n",
       "      <td>127.977136</td>\n",
       "    </tr>\n",
       "    <tr>\n",
       "      <th>2017-07-28</th>\n",
       "      <td>60.1</td>\n",
       "      <td>131.411530</td>\n",
       "      <td>127.977136</td>\n",
       "    </tr>\n",
       "    <tr>\n",
       "      <th>2017-07-31</th>\n",
       "      <td>60.1</td>\n",
       "      <td>131.856430</td>\n",
       "      <td>127.977136</td>\n",
       "    </tr>\n",
       "  </tbody>\n",
       "</table>\n",
       "</div>"
      ],
      "text/plain": [
       "               x           y   y_predict\n",
       "2017-07-25  60.1  130.314148  127.977136\n",
       "2017-07-26  60.1  131.253357  127.977136\n",
       "2017-07-27  60.1  131.609268  127.977136\n",
       "2017-07-28  60.1  131.411530  127.977136\n",
       "2017-07-31  60.1  131.856430  127.977136"
      ]
     },
     "execution_count": 102,
     "metadata": {},
     "output_type": "execute_result"
    }
   ],
   "source": [
    "test_data['2017-07'].tail()"
   ]
  },
  {
   "cell_type": "code",
   "execution_count": 103,
   "metadata": {},
   "outputs": [
    {
     "data": {
      "image/png": "[encoded data removed]",
      "text/plain": [
       "<matplotlib.figure.Figure at 0x11319e550>"
      ]
     },
     "metadata": {},
     "output_type": "display_data"
    }
   ],
   "source": [
    "lines = ['y', 'y_predict']\n",
    "\n",
    "plt.plot(test_data[lines])\n",
    "plt.show()"
   ]
  },
  {
   "cell_type": "code",
   "execution_count": 105,
   "metadata": {},
   "outputs": [
    {
     "data": {
      "image/png": "[encoded data removed]",
      "text/plain": [
       "<matplotlib.figure.Figure at 0x111fd3e48>"
      ]
     },
     "metadata": {},
     "output_type": "display_data"
    }
   ],
   "source": []
  },
  {
   "cell_type": "code",
   "execution_count": null,
   "metadata": {
    "collapsed": true
   },
   "outputs": [],
   "source": []
  }
 ],
 "metadata": {
  "kernelspec": {
   "display_name": "Python 3",
   "language": "python",
   "name": "python3"
  },
  "language_info": {
   "codemirror_mode": {
    "name": "ipython",
    "version": 3
   },
   "file_extension": ".py",
   "mimetype": "text/x-python",
   "name": "python",
   "nbconvert_exporter": "python",
   "pygments_lexer": "ipython3",
   "version": "3.6.3"
  }
 },
 "nbformat": 4,
 "nbformat_minor": 2
}
