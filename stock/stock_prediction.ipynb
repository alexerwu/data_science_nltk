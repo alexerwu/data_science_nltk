{
 "cells": [
  {
   "cell_type": "markdown",
   "metadata": {},
   "source": [
    "*Ryan Harper*\n",
    "\n",
    "### Non-NN Stocks Predictor:"
   ]
  },
  {
   "cell_type": "markdown",
   "metadata": {},
   "source": [
    "**INDICATORS:** <br>\n",
    "<font color=blue>__HOUST__</font> : Housing Starts: Total: New Privately Owned Housing Units Started <br>\n",
    "<font color=blue>__UNRATENSA__</font>:Civilian Unemployment Rate NSA<br>\n",
    "<font color=blue>__EMRATIO__</font>: Civilian Employment-Population Ratio<br>\n",
    "<font color=blue>__UEMPMED__</font>: Median Duration of Unemployment<br>\n",
    "<font color=blue>__UMCSENT__</font>: University of Michigan: Consumer Sentiment<br>\n",
    "<font color=blue>__USSLIND__</font>: Leading Index For United States<br>\n",
    "<font color=blue>__KCFSI__</font>: Kansas City Financial Stress Index<br>\n",
    "<font color=blue>__IPMAN__</font></font>: Industrial Production: Manufacturing (NAICS)<br>\n",
    "<font color=blue>__VIXCLS__</font>: CBOE Volatility Index: NSA<br>\n",
    "<font color=blue>__DGS10__</font>: 10-Year Treasury Constant Maturity Rate<br>"
   ]
  },
  {
   "cell_type": "code",
   "execution_count": 113,
   "metadata": {
    "collapsed": true
   },
   "outputs": [],
   "source": [
    "import pandas as pd\n",
    "import numpy as np\n",
    "from pandas_datareader import data, wb\n",
    "import numpy as np\n",
    "import matplotlib.pyplot as plt\n",
    "from scipy import stats\n",
    "import statsmodels.formula.api as smf\n",
    "from sklearn.preprocessing import MinMaxScaler"
   ]
  },
  {
   "cell_type": "code",
   "execution_count": 135,
   "metadata": {},
   "outputs": [
    {
     "name": "stdout",
     "output_type": "stream",
     "text": [
      "|Utilities|Basic Materials|Consumer Goods|Industrial Goods|Healthcare|Services|Financial|Technology|Conglomerates|"
     ]
    }
   ],
   "source": [
    "# ======== clean csv files ========\n",
    "\n",
    "# indicators csv (drops blank first row, gets rid of dt indicator columns, sets index to datetime)\n",
    "indicators = pd.read_csv('Indicators_train.csv').iloc[1:].dropna(how='all')\n",
    "indicators.date = pd.to_datetime(indicators.date)\n",
    "for column in indicators:\n",
    "    if 'dt' in column:\n",
    "        del indicators[column]\n",
    "    elif 'date' in column:\n",
    "        continue\n",
    "    else:\n",
    "        indicators[column] = indicators[column].astype(float)\n",
    "indicators = indicators.set_index(indicators.date)\n",
    "del indicators['date']\n",
    "\n",
    "scaler = MinMaxScaler(feature_range=(0,1))\n",
    "\n",
    "# stock - csv (sets index to datetime)\n",
    "stock = pd.read_csv('stocks-us-adjClose.csv')\n",
    "stock.date = pd.to_datetime(stock.date)\n",
    "stock = stock.set_index(stock.date)\n",
    "del stock['date']\n",
    "\n",
    "# sector - csv (loads csv and prints sectors for reference)\n",
    "sector = pd.read_csv('Company_information.csv', encoding = \"ISO-8859-1\")\n",
    "seclist = sector.Sector.unique()\n",
    "sectorset = []\n",
    "print('|',end='')\n",
    "for member in seclist:\n",
    "    if str(member) != 'nan':\n",
    "        sectorset.append(member)\n",
    "        print(member, end='|') "
   ]
  },
  {
   "cell_type": "code",
   "execution_count": 141,
   "metadata": {},
   "outputs": [
    {
     "name": "stdout",
     "output_type": "stream",
     "text": [
      "[ 0.0590434  1.       ]\n"
     ]
    }
   ],
   "source": [
    "print(indicators[0])"
   ]
  },
  {
   "cell_type": "code",
   "execution_count": 60,
   "metadata": {
    "collapsed": true
   },
   "outputs": [],
   "source": [
    "# filters stock dataframe by sector and stores to new sector_dataframe\n",
    "utilities = pd.DataFrame(data=stock, columns=sector.loc[sector['Sector'] == 'Utilities']['Symbol'].tolist())\n",
    "basicmaterials = pd.DataFrame(data=stock, columns=sector.loc[sector['Sector'] == 'Basic Materials']['Symbol'].tolist())\n",
    "consumer = pd.DataFrame(data=stock, columns=sector.loc[sector['Sector'] == 'Consumer Goods']['Symbol'].tolist())\n",
    "industrial = pd.DataFrame(data=stock, columns=sector.loc[sector['Sector'] == 'Industrial Goods']['Symbol'].tolist())\n",
    "healthcare = pd.DataFrame(data=stock, columns=sector.loc[sector['Sector'] == 'Healthcare']['Symbol'].tolist())\n",
    "services = pd.DataFrame(data=stock, columns=sector.loc[sector['Sector'] == 'Services']['Symbol'].tolist())\n",
    "financial = pd.DataFrame(data=stock, columns=sector.loc[sector['Sector'] == 'Financial']['Symbol'].tolist())\n",
    "technology = pd.DataFrame(data=stock, columns=sector.loc[sector['Sector'] == 'Technology']['Symbol'].tolist())\n",
    "conglomerates = pd.DataFrame(data=stock, columns=sector.loc[sector['Sector'] == 'Conglomerates']['Symbol'].tolist())\n",
    "\n",
    "# Merges sector dataframes with indicators\n",
    "indic_utilities = pd.merge(utilities,indicators, how='inner', left_index=True, right_index=True)\n",
    "indic_basicmaterials = pd.merge(basicmaterials,indicators, how='inner', left_index=True, right_index=True)"
   ]
  },
  {
   "cell_type": "code",
   "execution_count": 145,
   "metadata": {},
   "outputs": [
    {
     "data": {
      "text/html": [
       "<div>\n",
       "<style>\n",
       "    .dataframe thead tr:only-child th {\n",
       "        text-align: right;\n",
       "    }\n",
       "\n",
       "    .dataframe thead th {\n",
       "        text-align: left;\n",
       "    }\n",
       "\n",
       "    .dataframe tbody tr th {\n",
       "        vertical-align: top;\n",
       "    }\n",
       "</style>\n",
       "<table border=\"1\" class=\"dataframe\">\n",
       "  <thead>\n",
       "    <tr style=\"text-align: right;\">\n",
       "      <th></th>\n",
       "      <th>ED</th>\n",
       "      <th>SJW</th>\n",
       "      <th>SJI</th>\n",
       "      <th>DUK</th>\n",
       "      <th>D</th>\n",
       "      <th>MSEX</th>\n",
       "      <th>NJR</th>\n",
       "      <th>AVA</th>\n",
       "      <th>SO</th>\n",
       "      <th>VVC</th>\n",
       "      <th>...</th>\n",
       "      <th>HOUST</th>\n",
       "      <th>UNRATENSA</th>\n",
       "      <th>EMRATIO</th>\n",
       "      <th>UEMPMED</th>\n",
       "      <th>UMCSENT</th>\n",
       "      <th>USSLIND</th>\n",
       "      <th>KCFSI</th>\n",
       "      <th>IPMAN</th>\n",
       "      <th>VIXCLS</th>\n",
       "      <th>DGS10</th>\n",
       "    </tr>\n",
       "    <tr>\n",
       "      <th>date</th>\n",
       "      <th></th>\n",
       "      <th></th>\n",
       "      <th></th>\n",
       "      <th></th>\n",
       "      <th></th>\n",
       "      <th></th>\n",
       "      <th></th>\n",
       "      <th></th>\n",
       "      <th></th>\n",
       "      <th></th>\n",
       "      <th></th>\n",
       "      <th></th>\n",
       "      <th></th>\n",
       "      <th></th>\n",
       "      <th></th>\n",
       "      <th></th>\n",
       "      <th></th>\n",
       "      <th></th>\n",
       "      <th></th>\n",
       "      <th></th>\n",
       "      <th></th>\n",
       "    </tr>\n",
       "  </thead>\n",
       "  <tbody>\n",
       "    <tr>\n",
       "      <th>1970-01-02</th>\n",
       "      <td>0.307997</td>\n",
       "      <td>NaN</td>\n",
       "      <td>NaN</td>\n",
       "      <td>NaN</td>\n",
       "      <td>NaN</td>\n",
       "      <td>NaN</td>\n",
       "      <td>NaN</td>\n",
       "      <td>NaN</td>\n",
       "      <td>NaN</td>\n",
       "      <td>NaN</td>\n",
       "      <td>...</td>\n",
       "      <td>NaN</td>\n",
       "      <td>NaN</td>\n",
       "      <td>NaN</td>\n",
       "      <td>NaN</td>\n",
       "      <td>NaN</td>\n",
       "      <td>NaN</td>\n",
       "      <td>NaN</td>\n",
       "      <td>NaN</td>\n",
       "      <td>NaN</td>\n",
       "      <td>NaN</td>\n",
       "    </tr>\n",
       "    <tr>\n",
       "      <th>1970-01-05</th>\n",
       "      <td>0.320831</td>\n",
       "      <td>NaN</td>\n",
       "      <td>NaN</td>\n",
       "      <td>NaN</td>\n",
       "      <td>NaN</td>\n",
       "      <td>NaN</td>\n",
       "      <td>NaN</td>\n",
       "      <td>NaN</td>\n",
       "      <td>NaN</td>\n",
       "      <td>NaN</td>\n",
       "      <td>...</td>\n",
       "      <td>NaN</td>\n",
       "      <td>NaN</td>\n",
       "      <td>NaN</td>\n",
       "      <td>NaN</td>\n",
       "      <td>NaN</td>\n",
       "      <td>NaN</td>\n",
       "      <td>NaN</td>\n",
       "      <td>NaN</td>\n",
       "      <td>NaN</td>\n",
       "      <td>NaN</td>\n",
       "    </tr>\n",
       "    <tr>\n",
       "      <th>1970-01-06</th>\n",
       "      <td>0.316553</td>\n",
       "      <td>NaN</td>\n",
       "      <td>NaN</td>\n",
       "      <td>NaN</td>\n",
       "      <td>NaN</td>\n",
       "      <td>NaN</td>\n",
       "      <td>NaN</td>\n",
       "      <td>NaN</td>\n",
       "      <td>NaN</td>\n",
       "      <td>NaN</td>\n",
       "      <td>...</td>\n",
       "      <td>NaN</td>\n",
       "      <td>NaN</td>\n",
       "      <td>NaN</td>\n",
       "      <td>NaN</td>\n",
       "      <td>NaN</td>\n",
       "      <td>NaN</td>\n",
       "      <td>NaN</td>\n",
       "      <td>NaN</td>\n",
       "      <td>NaN</td>\n",
       "      <td>NaN</td>\n",
       "    </tr>\n",
       "    <tr>\n",
       "      <th>1970-01-07</th>\n",
       "      <td>0.312275</td>\n",
       "      <td>NaN</td>\n",
       "      <td>NaN</td>\n",
       "      <td>NaN</td>\n",
       "      <td>NaN</td>\n",
       "      <td>NaN</td>\n",
       "      <td>NaN</td>\n",
       "      <td>NaN</td>\n",
       "      <td>NaN</td>\n",
       "      <td>NaN</td>\n",
       "      <td>...</td>\n",
       "      <td>NaN</td>\n",
       "      <td>NaN</td>\n",
       "      <td>NaN</td>\n",
       "      <td>NaN</td>\n",
       "      <td>NaN</td>\n",
       "      <td>NaN</td>\n",
       "      <td>NaN</td>\n",
       "      <td>NaN</td>\n",
       "      <td>NaN</td>\n",
       "      <td>NaN</td>\n",
       "    </tr>\n",
       "    <tr>\n",
       "      <th>1970-01-08</th>\n",
       "      <td>0.312275</td>\n",
       "      <td>NaN</td>\n",
       "      <td>NaN</td>\n",
       "      <td>NaN</td>\n",
       "      <td>NaN</td>\n",
       "      <td>NaN</td>\n",
       "      <td>NaN</td>\n",
       "      <td>NaN</td>\n",
       "      <td>NaN</td>\n",
       "      <td>NaN</td>\n",
       "      <td>...</td>\n",
       "      <td>NaN</td>\n",
       "      <td>NaN</td>\n",
       "      <td>NaN</td>\n",
       "      <td>NaN</td>\n",
       "      <td>NaN</td>\n",
       "      <td>NaN</td>\n",
       "      <td>NaN</td>\n",
       "      <td>NaN</td>\n",
       "      <td>NaN</td>\n",
       "      <td>NaN</td>\n",
       "    </tr>\n",
       "  </tbody>\n",
       "</table>\n",
       "<p>5 rows × 28 columns</p>\n",
       "</div>"
      ],
      "text/plain": [
       "                  ED  SJW  SJI  DUK   D  MSEX  NJR  AVA  SO  VVC  ...    \\\n",
       "date                                                              ...     \n",
       "1970-01-02  0.307997  NaN  NaN  NaN NaN   NaN  NaN  NaN NaN  NaN  ...     \n",
       "1970-01-05  0.320831  NaN  NaN  NaN NaN   NaN  NaN  NaN NaN  NaN  ...     \n",
       "1970-01-06  0.316553  NaN  NaN  NaN NaN   NaN  NaN  NaN NaN  NaN  ...     \n",
       "1970-01-07  0.312275  NaN  NaN  NaN NaN   NaN  NaN  NaN NaN  NaN  ...     \n",
       "1970-01-08  0.312275  NaN  NaN  NaN NaN   NaN  NaN  NaN NaN  NaN  ...     \n",
       "\n",
       "            HOUST  UNRATENSA  EMRATIO  UEMPMED  UMCSENT  USSLIND  KCFSI  \\\n",
       "date                                                                      \n",
       "1970-01-02    NaN        NaN      NaN      NaN      NaN      NaN    NaN   \n",
       "1970-01-05    NaN        NaN      NaN      NaN      NaN      NaN    NaN   \n",
       "1970-01-06    NaN        NaN      NaN      NaN      NaN      NaN    NaN   \n",
       "1970-01-07    NaN        NaN      NaN      NaN      NaN      NaN    NaN   \n",
       "1970-01-08    NaN        NaN      NaN      NaN      NaN      NaN    NaN   \n",
       "\n",
       "            IPMAN  VIXCLS  DGS10  \n",
       "date                              \n",
       "1970-01-02    NaN     NaN    NaN  \n",
       "1970-01-05    NaN     NaN    NaN  \n",
       "1970-01-06    NaN     NaN    NaN  \n",
       "1970-01-07    NaN     NaN    NaN  \n",
       "1970-01-08    NaN     NaN    NaN  \n",
       "\n",
       "[5 rows x 28 columns]"
      ]
     },
     "execution_count": 145,
     "metadata": {},
     "output_type": "execute_result"
    }
   ],
   "source": [
    "indic_utilities.head()"
   ]
  },
  {
   "cell_type": "code",
   "execution_count": 38,
   "metadata": {},
   "outputs": [
    {
     "data": {
      "image/png": "[encoded data removed]",
      "text/plain": [
       "<matplotlib.figure.Figure at 0x1116a3080>"
      ]
     },
     "metadata": {},
     "output_type": "display_data"
    },
    {
     "data": {
      "text/plain": [
       "-0.0044340575356823352"
      ]
     },
     "execution_count": 38,
     "metadata": {},
     "output_type": "execute_result"
    }
   ],
   "source": [
    "# assigning sector db to graph db\n",
    "graph = indic_utilities[['ED','UMCSENT']].dropna(how='any')\n",
    "\n",
    "# --- normalizing data - method 1 ---\n",
    "# graph['ED-norm'] = (graph['ED']-graph['ED'].mean())/graph['ED'].std()\n",
    "# graph['UM-norm'] = (graph['UMCSENT']-graph['UMCSENT'].mean())/graph['UMCSENT'].std()\n",
    "\n",
    "# --- normalizing data - method 2 ---\n",
    "# graph['ED-norm'] = np.log(graph['ED'])\n",
    "# graph['UM-norm'] = graph['UMCSENT']\n",
    "\n",
    "# --- normalizing data - method 3 ---\n",
    "graph['ED-norm'] = graph['ED'].pct_change()\n",
    "graph['UM-norm'] = graph['UMCSENT']\n",
    "\n",
    "# displaying data\n",
    "list = ['ED-norm','UM-norm']\n",
    "graph.plot(kind='line',y=list)\n",
    "plt.show()\n",
    "\n",
    "graph['ED-norm'].corr(graph['UM-norm'])\n",
    "\n",
    "# graph = indic_utilities[['ED','UNRATENSA']].dropna(how='any').pct_change()\n",
    "# list = ['ED','UNRATENSA']\n",
    "# graph.plot(kind='line',y=list)\n",
    "# plt.show()\n",
    "\n",
    "# graph['ED'].corr(graph['UNRATENSA'])"
   ]
  },
  {
   "cell_type": "code",
   "execution_count": 47,
   "metadata": {},
   "outputs": [
    {
     "data": {
      "text/plain": [
       "Index(['ED', 'SJW', 'SJI', 'DUK', 'D', 'MSEX', 'NJR', 'AVA', 'SO', 'VVC',\n",
       "       'TGS', 'TAC', 'ORA', 'CZZ', 'NWE', 'EBR', 'PAM', 'SXE', 'HOUST',\n",
       "       'UNRATENSA', 'EMRATIO', 'UEMPMED', 'UMCSENT', 'USSLIND', 'KCFSI',\n",
       "       'IPMAN', 'VIXCLS', 'DGS10'],\n",
       "      dtype='object')"
      ]
     },
     "execution_count": 47,
     "metadata": {},
     "output_type": "execute_result"
    }
   ],
   "source": [
    "indic_utilities.columns"
   ]
  },
  {
   "cell_type": "code",
   "execution_count": 133,
   "metadata": {},
   "outputs": [
    {
     "ename": "TypeError",
     "evalue": "object of type 'numpy.float64' has no len()",
     "output_type": "error",
     "traceback": [
      "\u001b[0;31m---------------------------------------------------------------------------\u001b[0m",
      "\u001b[0;31mTypeError\u001b[0m                                 Traceback (most recent call last)",
      "\u001b[0;32m<ipython-input-133-a52b0fa1e63b>\u001b[0m in \u001b[0;36m<module>\u001b[0;34m()\u001b[0m\n\u001b[1;32m     10\u001b[0m \u001b[0;34m\u001b[0m\u001b[0m\n\u001b[1;32m     11\u001b[0m \u001b[0;31m# running regression scipy\u001b[0m\u001b[0;34m\u001b[0m\u001b[0;34m\u001b[0m\u001b[0m\n\u001b[0;32m---> 12\u001b[0;31m \u001b[0mprint\u001b[0m\u001b[0;34m(\u001b[0m\u001b[0mlen\u001b[0m\u001b[0;34m(\u001b[0m\u001b[0mtest\u001b[0m\u001b[0;34m[\u001b[0m\u001b[0;36m0\u001b[0m\u001b[0;34m]\u001b[0m\u001b[0;34m[\u001b[0m\u001b[0;36m0\u001b[0m\u001b[0;34m]\u001b[0m\u001b[0;34m)\u001b[0m\u001b[0;34m)\u001b[0m\u001b[0;34m\u001b[0m\u001b[0m\n\u001b[0m\u001b[1;32m     13\u001b[0m \u001b[0mprint\u001b[0m\u001b[0;34m(\u001b[0m\u001b[0mtest\u001b[0m\u001b[0;34m)\u001b[0m\u001b[0;34m\u001b[0m\u001b[0m\n\u001b[1;32m     14\u001b[0m \u001b[0mx\u001b[0m \u001b[0;34m=\u001b[0m \u001b[0mtest\u001b[0m\u001b[0;34m[\u001b[0m\u001b[0;36m0\u001b[0m\u001b[0;34m]\u001b[0m\u001b[0;34m[\u001b[0m\u001b[0;36m0\u001b[0m\u001b[0;34m]\u001b[0m\u001b[0;34m\u001b[0m\u001b[0m\n",
      "\u001b[0;31mTypeError\u001b[0m: object of type 'numpy.float64' has no len()"
     ]
    }
   ],
   "source": [
    "# scipy module linear regression (Doesnt work)\n",
    "\n",
    "# regression = indic_utilities.loc[:, 'ED':'SXE'].dropna(how='any').pct_change().dropna(how='any')\n",
    "\n",
    "# normalizing the data (indicators are fitted and stocks are summed+per_change)\n",
    "norm_indic = indic_utilities.copy()\n",
    "norm_indic['sum'] = norm_indic.loc[:, 'ED':'SXE'].sum(axis=1).pct_change()\n",
    "norm_indic = norm_indic[['sum','UNRATENSA']].dropna(how='any')\n",
    "\n",
    "scaler = MinMaxScaler(feature_range=(0,1))\n",
    "test = scaler.fit_transform(regression)\n",
    "\n",
    "# running regression scipy\n",
    "x = test[0][0]\n",
    "y = test[0][1]\n",
    "\n",
    "slope, intercept, r_value, p_value, std_err = stats.linregress(x,y)\n",
    "\n",
    "print(r_value)\n",
    "print(p_value)\n",
    "\n",
    "\n",
    "# running regression scipy\n",
    "x = regression['sum'].tolist()\n",
    "y = regression['UNRATENSA'].tolist()\n",
    "\n",
    "slope, intercept, r_value, p_value, std_err = stats.linregress(x,y)\n",
    "\n",
    "print(r_value)\n",
    "print(p_value)\n",
    "\n",
    "print(stats.norm(regression['UNRATENSA']))"
   ]
  },
  {
   "cell_type": "code",
   "execution_count": 26,
   "metadata": {},
   "outputs": [
    {
     "name": "stdout",
     "output_type": "stream",
     "text": [
      "                            OLS Regression Results                            \n",
      "==============================================================================\n",
      "Dep. Variable:                  ed_pc   R-squared:                       0.000\n",
      "Model:                            OLS   Adj. R-squared:                 -0.001\n",
      "Method:                 Least Squares   F-statistic:                   0.06512\n",
      "Date:                Sat, 24 Mar 2018   Prob (F-statistic):              0.799\n",
      "Time:                        13:02:58   Log-Likelihood:                 5432.9\n",
      "No. Observations:                1674   AIC:                        -1.086e+04\n",
      "Df Residuals:                    1672   BIC:                        -1.085e+04\n",
      "Df Model:                           1                                         \n",
      "Covariance Type:            nonrobust                                         \n",
      "==============================================================================\n",
      "                 coef    std err          t      P>|t|      [0.025      0.975]\n",
      "------------------------------------------------------------------------------\n",
      "Intercept      0.0005      0.000      2.272      0.023    7.16e-05       0.001\n",
      "unr_pc        -0.0049      0.019     -0.255      0.799      -0.042       0.032\n",
      "==============================================================================\n",
      "Omnibus:                      169.075   Durbin-Watson:                   2.055\n",
      "Prob(Omnibus):                  0.000   Jarque-Bera (JB):              538.580\n",
      "Skew:                          -0.497   Prob(JB):                    1.12e-117\n",
      "Kurtosis:                       5.595   Cond. No.                         82.6\n",
      "==============================================================================\n",
      "\n",
      "Warnings:\n",
      "[1] Standard Errors assume that the covariance matrix of the errors is correctly specified.\n"
     ]
    }
   ],
   "source": [
    "# smf module ols regression (Maybe works?)\n",
    "\n",
    "ed_pc = indic_utilities['ED'].pct_change()\n",
    "unr_pc = indic_utilities['UNRATENSA'].pct_change()\n",
    "ols_model = smf.ols('ed_pc ~ unr_pc', ed_pc).fit()\n",
    "print(ols_model.summary())\n",
    "\n",
    "graph = indic_utilities[['ED','UMCSENT']].dropna(how='any')"
   ]
  },
  {
   "cell_type": "code",
   "execution_count": 34,
   "metadata": {},
   "outputs": [
    {
     "data": {
      "image/png": "[encoded data removed]",
      "text/plain": [
       "<matplotlib.figure.Figure at 0x111723f60>"
      ]
     },
     "metadata": {},
     "output_type": "display_data"
    },
    {
     "data": {
      "text/plain": [
       "-0.0062404362608488506"
      ]
     },
     "execution_count": 34,
     "metadata": {},
     "output_type": "execute_result"
    }
   ],
   "source": [
    "# "
   ]
  },
  {
   "cell_type": "code",
   "execution_count": null,
   "metadata": {
    "collapsed": true
   },
   "outputs": [],
   "source": []
  }
 ],
 "metadata": {
  "kernelspec": {
   "display_name": "Python 3",
   "language": "python",
   "name": "python3"
  },
  "language_info": {
   "codemirror_mode": {
    "name": "ipython",
    "version": 3
   },
   "file_extension": ".py",
   "mimetype": "text/x-python",
   "name": "python",
   "nbconvert_exporter": "python",
   "pygments_lexer": "ipython3",
   "version": "3.6.3"
  }
 },
 "nbformat": 4,
 "nbformat_minor": 2
}
