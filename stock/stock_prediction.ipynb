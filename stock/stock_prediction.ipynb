{
 "cells": [
  {
   "cell_type": "markdown",
   "metadata": {},
   "source": [
    "*Ryan Harper*\n",
    "\n",
    "### Non-NN Stocks Predictor:"
   ]
  },
  {
   "cell_type": "markdown",
   "metadata": {},
   "source": [
    "**INDICATORS:** <br>\n",
    "<font color=blue>__HOUST__</font> : Housing Starts: Total: New Privately Owned Housing Units Started <br>\n",
    "<font color=blue>__UNRATENSA__</font>:Civilian Unemployment Rate NSA<br>\n",
    "<font color=blue>__EMRATIO__</font>: Civilian Employment-Population Ratio<br>\n",
    "<font color=blue>__UEMPMED__</font>: Median Duration of Unemployment<br>\n",
    "<font color=blue>__UMCSENT__</font>: University of Michigan: Consumer Sentiment<br>\n",
    "<font color=blue>__USSLIND__</font>: Leading Index For United States<br>\n",
    "<font color=blue>__KCFSI__</font>: Kansas City Financial Stress Index<br>\n",
    "<font color=blue>__IPMAN__</font></font>: Industrial Production: Manufacturing (NAICS)<br>\n",
    "<font color=blue>__VIXCLS__</font>: CBOE Volatility Index: NSA<br>\n",
    "<font color=blue>__DGS10__</font>: 10-Year Treasury Constant Maturity Rate<br>"
   ]
  },
  {
   "cell_type": "code",
   "execution_count": 645,
   "metadata": {},
   "outputs": [
    {
     "name": "stdout",
     "output_type": "stream",
     "text": [
      "|Utilities|Basic Materials|Consumer Goods|Industrial Goods|Healthcare|Services|Financial|Technology|Conglomerates|"
     ]
    }
   ],
   "source": [
    "import pandas as pd\n",
    "import numpy as np\n",
    "from pandas_datareader import data, wb\n",
    "import re\n",
    "\n",
    "\n",
    "# ======== imports and clean csv files ========\n",
    "\n",
    "# indicators\n",
    "indicators = pd.read_csv('Indicators_train.csv').iloc[1:].dropna(how='all')\n",
    "indicators.date = pd.to_datetime(indicators.date)\n",
    "idicators = indicators.set_index(indicators.date)\n",
    "for column in indicators:\n",
    "    if 'dt' in column:\n",
    "        del indicators[column]\n",
    "indicators = indicators.set_index(indicators.date)\n",
    "del indicators['date']\n",
    "\n",
    "# stock\n",
    "stock = pd.read_csv('stocks-us-adjClose.csv')\n",
    "stock.date = pd.to_datetime(stock.date)\n",
    "stock = stock.set_index(stock.date)\n",
    "del stock['date']\n",
    "\n",
    "# sector\n",
    "sector = pd.read_csv('Company_information.csv', encoding = \"ISO-8859-1\")\n",
    "seclist = sector.Sector.unique()\n",
    "sectorset = []\n",
    "print('|',end='')\n",
    "for member in seclist:\n",
    "    if str(member) != 'nan':\n",
    "        sectorset.append(member)\n",
    "        print(member, end='|')\n",
    "        \n",
    "# Create dataframes for each sector\n",
    "utilities = pd.DataFrame(data=stock, columns=sector.loc[sector['Sector'] == 'Utilities']['Symbol'].tolist())\n",
    "basicmaterials = pd.DataFrame(data=stock, columns=sector.loc[sector['Sector'] == 'Basic Materials']['Symbol'].tolist())\n",
    "consumer = pd.DataFrame(data=stock, columns=sector.loc[sector['Sector'] == 'Consumer Goods']['Symbol'].tolist())\n",
    "industrial = pd.DataFrame(data=stock, columns=sector.loc[sector['Sector'] == 'Industrial Goods']['Symbol'].tolist())\n",
    "healthcare = pd.DataFrame(data=stock, columns=sector.loc[sector['Sector'] == 'Healthcare']['Symbol'].tolist())\n",
    "services = pd.DataFrame(data=stock, columns=sector.loc[sector['Sector'] == 'Services']['Symbol'].tolist())\n",
    "financial = pd.DataFrame(data=stock, columns=sector.loc[sector['Sector'] == 'Financial']['Symbol'].tolist())\n",
    "technology = pd.DataFrame(data=stock, columns=sector.loc[sector['Sector'] == 'Technology']['Symbol'].tolist())\n",
    "conglomerates = pd.DataFrame(data=stock, columns=sector.loc[sector['Sector'] == 'Conglomerates']['Symbol'].tolist())\n",
    "\n",
    "# Merges sector dataframes with indicators\n",
    "indic_utilities = pd.merge(utilities,indicators, how='inner', left_index=True, right_index=True)\n",
    "indic_basicmaterials = pd.merge(basicmaterials,indicators, how='inner', left_index=True, right_index=True)"
   ]
  },
  {
   "cell_type": "code",
   "execution_count": null,
   "metadata": {},
   "outputs": [],
   "source": []
  },
  {
   "cell_type": "code",
   "execution_count": null,
   "metadata": {},
   "outputs": [],
   "source": []
  },
  {
   "cell_type": "code",
   "execution_count": null,
   "metadata": {},
   "outputs": [],
   "source": []
  },
  {
   "cell_type": "code",
   "execution_count": null,
   "metadata": {},
   "outputs": [],
   "source": []
  },
  {
   "cell_type": "code",
   "execution_count": null,
   "metadata": {},
   "outputs": [],
   "source": []
  },
  {
   "cell_type": "code",
   "execution_count": null,
   "metadata": {
    "scrolled": false
   },
   "outputs": [],
   "source": []
  },
  {
   "cell_type": "code",
   "execution_count": null,
   "metadata": {},
   "outputs": [],
   "source": []
  },
  {
   "cell_type": "code",
   "execution_count": 607,
   "metadata": {},
   "outputs": [],
   "source": []
  },
  {
   "cell_type": "code",
   "execution_count": null,
   "metadata": {},
   "outputs": [],
   "source": []
  },
  {
   "cell_type": "code",
   "execution_count": null,
   "metadata": {
    "collapsed": true
   },
   "outputs": [],
   "source": []
  },
  {
   "cell_type": "code",
   "execution_count": null,
   "metadata": {},
   "outputs": [],
   "source": []
  },
  {
   "cell_type": "code",
   "execution_count": null,
   "metadata": {},
   "outputs": [],
   "source": []
  },
  {
   "cell_type": "code",
   "execution_count": null,
   "metadata": {},
   "outputs": [],
   "source": []
  },
  {
   "cell_type": "code",
   "execution_count": null,
   "metadata": {},
   "outputs": [],
   "source": []
  },
  {
   "cell_type": "code",
   "execution_count": null,
   "metadata": {},
   "outputs": [],
   "source": []
  },
  {
   "cell_type": "code",
   "execution_count": null,
   "metadata": {
    "collapsed": true
   },
   "outputs": [],
   "source": []
  },
  {
   "cell_type": "code",
   "execution_count": null,
   "metadata": {
    "collapsed": true
   },
   "outputs": [],
   "source": []
  }
 ],
 "metadata": {
  "kernelspec": {
   "display_name": "Python 3",
   "language": "python",
   "name": "python3"
  },
  "language_info": {
   "codemirror_mode": {
    "name": "ipython",
    "version": 3
   },
   "file_extension": ".py",
   "mimetype": "text/x-python",
   "name": "python",
   "nbconvert_exporter": "python",
   "pygments_lexer": "ipython3",
   "version": "3.6.3"
  }
 },
 "nbformat": 4,
 "nbformat_minor": 2
}
