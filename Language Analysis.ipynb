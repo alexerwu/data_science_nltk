{
 "cells": [
  {
   "cell_type": "markdown",
   "metadata": {},
   "source": [
    "# Code for Language Analysis of toxic comments in game review forums"
   ]
  },
  {
   "cell_type": "markdown",
   "metadata": {},
   "source": [
    "#### Import nltk, matplotlib, pandas, and numpy:"
   ]
  },
  {
   "cell_type": "code",
   "execution_count": 10,
   "metadata": {
    "collapsed": true
   },
   "outputs": [],
   "source": [
    "import nltk\n",
    "\n",
    "# remove warnings\n",
    "import warnings\n",
    "warnings.filterwarnings('ignore')\n",
    "# ---\n",
    "\n",
    "# set matplotlib environment and import some basics\n",
    "%matplotlib inline\n",
    "from matplotlib import pyplot as plt\n",
    "import matplotlib\n",
    "matplotlib.style.use('ggplot')\n",
    "import numpy as np\n",
    "import pandas as pd"
   ]
  },
  {
   "cell_type": "markdown",
   "metadata": {},
   "source": [
    "\n",
    "#### Sets dimensions of pandas table:"
   ]
  },
  {
   "cell_type": "code",
   "execution_count": 11,
   "metadata": {
    "collapsed": true
   },
   "outputs": [],
   "source": [
    "pd.options.display.max_columns = 100\n",
    "pd.options.display.max_rows = 100\n",
    "pd.options.display.max_colwidth = 100 # set to -1 to see entire text"
   ]
  },
  {
   "cell_type": "markdown",
   "metadata": {},
   "source": [
    "#### Loads documents (false/true determines data length):"
   ]
  },
  {
   "cell_type": "code",
   "execution_count": 12,
   "metadata": {
    "collapsed": true
   },
   "outputs": [],
   "source": [
    "if True:\n",
    "    # comment filename\n",
    "    commentfile = 'toxicity_annotated_comments_unanimous.tsv'\n",
    "    # rating filename\n",
    "    ratingfile = 'toxicity_annotations_unanimous.tsv'\n",
    "\n",
    "# full data set\n",
    "    # comment filename\n",
    "    commentfile = 'toxicity_annotated_comments.tsv'\n",
    "    # rating filename\n",
    "    ratingfile = 'toxicity_annotations.tsv'"
   ]
  },
  {
   "cell_type": "markdown",
   "metadata": {},
   "source": [
    "#### Read Documents and store Pandas \"Dataframe\" type to variable:"
   ]
  },
  {
   "cell_type": "code",
   "execution_count": 13,
   "metadata": {},
   "outputs": [
    {
     "name": "stdout",
     "output_type": "stream",
     "text": [
      "<class 'pandas.core.frame.DataFrame'>\n"
     ]
    }
   ],
   "source": [
    "# load annotated comments\n",
    "commentdata = pd.read_table(commentfile)\n",
    "ratingdata = pd.read_table(ratingfile)\n",
    "\n",
    "# remove weird tab/newline TOKEN text\n",
    "commentdata['comment'] = commentdata['comment'].str.replace('NEWLINE_TOKEN',' ')\n",
    "commentdata['comment'] = commentdata['comment'].str.replace('TAB_TOKEN',' ')\n",
    "\n",
    "print(type(commentdata))"
   ]
  },
  {
   "cell_type": "markdown",
   "metadata": {},
   "source": [
    "#### Check shape of DataFrame:"
   ]
  },
  {
   "cell_type": "code",
   "execution_count": 14,
   "metadata": {},
   "outputs": [
    {
     "name": "stdout",
     "output_type": "stream",
     "text": [
      "commentdata.shape =  (159686, 7)\n",
      "ratingdata.shape =  (1598289, 4)\n"
     ]
    }
   ],
   "source": [
    "# show shape of each data set\n",
    "print(\"commentdata.shape = \",commentdata.shape)\n",
    "print(\"ratingdata.shape = \",ratingdata.shape)"
   ]
  },
  {
   "cell_type": "markdown",
   "metadata": {},
   "source": [
    "#### Count Punctuation Function:"
   ]
  },
  {
   "cell_type": "code",
   "execution_count": 6,
   "metadata": {},
   "outputs": [],
   "source": [
    "from string import punctuation\n",
    "from collections import Counter\n",
    "\n",
    "def punc_count(string_value):\n",
    "    count = 0\n",
    "    for c in string_value:\n",
    "        if c in punctuation:\n",
    "            count+= 1\n",
    "    return count"
   ]
  },
  {
   "cell_type": "markdown",
   "metadata": {},
   "source": [
    "#### Add and manipulate data columns:"
   ]
  },
  {
   "cell_type": "code",
   "execution_count": 18,
   "metadata": {},
   "outputs": [],
   "source": [
    "# group all scores by comment ID for each text sample, add mean and median score columns to comment data \n",
    "commentdata[\"mean_score\"] = pd.Series(ratingdata.groupby(\"rev_id\",as_index=False).mean()[\"toxicity_score\"])\n",
    "commentdata[\"median_score\"] = pd.Series(ratingdata.groupby(\"rev_id\",as_index=False).median()[\"toxicity_score\"])\n",
    "\n",
    "# Add columns for comment length and punctuation count\n",
    "commentdata[\"com_len\"] = pd.Series(commentdata[\"comment\"].str.len())\n",
    "commentdata[\"pun_len\"] = pd.Series(commentdata[\"comment\"].apply(punc_count))\n",
    "\n",
    "# create catgorical variable toxicity: if median score < 0, toxicity=1, otherwise 0\n",
    "commentdata[\"toxicity\"] = (commentdata[\"median_score\"] < 0).astype(int)"
   ]
  },
  {
   "cell_type": "markdown",
   "metadata": {},
   "source": [
    "#### Print Table Template with example values:"
   ]
  },
  {
   "cell_type": "code",
   "execution_count": 19,
   "metadata": {},
   "outputs": [
    {
     "name": "stdout",
     "output_type": "stream",
     "text": [
      "commentdata.shape =  (159686, 12)\n"
     ]
    },
    {
     "data": {
      "text/html": [
       "<div>\n",
       "<style>\n",
       "    .dataframe thead tr:only-child th {\n",
       "        text-align: right;\n",
       "    }\n",
       "\n",
       "    .dataframe thead th {\n",
       "        text-align: left;\n",
       "    }\n",
       "\n",
       "    .dataframe tbody tr th {\n",
       "        vertical-align: top;\n",
       "    }\n",
       "</style>\n",
       "<table border=\"1\" class=\"dataframe\">\n",
       "  <thead>\n",
       "    <tr style=\"text-align: right;\">\n",
       "      <th></th>\n",
       "      <th>rev_id</th>\n",
       "      <th>comment</th>\n",
       "      <th>year</th>\n",
       "      <th>logged_in</th>\n",
       "      <th>ns</th>\n",
       "      <th>sample</th>\n",
       "      <th>split</th>\n",
       "      <th>mean_score</th>\n",
       "      <th>median_score</th>\n",
       "      <th>com_len</th>\n",
       "      <th>pun_len</th>\n",
       "      <th>toxicity</th>\n",
       "    </tr>\n",
       "  </thead>\n",
       "  <tbody>\n",
       "    <tr>\n",
       "      <th>0</th>\n",
       "      <td>2232.0</td>\n",
       "      <td>This: :One can make an analogy in mathematical terms by envisioning the distribution of opinions...</td>\n",
       "      <td>2002</td>\n",
       "      <td>True</td>\n",
       "      <td>article</td>\n",
       "      <td>random</td>\n",
       "      <td>train</td>\n",
       "      <td>0.4</td>\n",
       "      <td>0.5</td>\n",
       "      <td>651</td>\n",
       "      <td>16</td>\n",
       "      <td>0</td>\n",
       "    </tr>\n",
       "    <tr>\n",
       "      <th>1</th>\n",
       "      <td>4216.0</td>\n",
       "      <td>`  :Clarification for you  (and Zundark's right, i should have checked the Wikipedia bugs page f...</td>\n",
       "      <td>2002</td>\n",
       "      <td>True</td>\n",
       "      <td>user</td>\n",
       "      <td>random</td>\n",
       "      <td>train</td>\n",
       "      <td>0.5</td>\n",
       "      <td>0.0</td>\n",
       "      <td>611</td>\n",
       "      <td>29</td>\n",
       "      <td>0</td>\n",
       "    </tr>\n",
       "    <tr>\n",
       "      <th>2</th>\n",
       "      <td>8953.0</td>\n",
       "      <td>Elected or Electoral? JHK</td>\n",
       "      <td>2002</td>\n",
       "      <td>False</td>\n",
       "      <td>article</td>\n",
       "      <td>random</td>\n",
       "      <td>test</td>\n",
       "      <td>0.1</td>\n",
       "      <td>0.0</td>\n",
       "      <td>25</td>\n",
       "      <td>1</td>\n",
       "      <td>0</td>\n",
       "    </tr>\n",
       "    <tr>\n",
       "      <th>3</th>\n",
       "      <td>26547.0</td>\n",
       "      <td>`This is such a fun entry.   Devotchka  I once had a coworker from Korea and not only couldn't s...</td>\n",
       "      <td>2002</td>\n",
       "      <td>True</td>\n",
       "      <td>article</td>\n",
       "      <td>random</td>\n",
       "      <td>train</td>\n",
       "      <td>0.6</td>\n",
       "      <td>0.0</td>\n",
       "      <td>2976</td>\n",
       "      <td>204</td>\n",
       "      <td>0</td>\n",
       "    </tr>\n",
       "    <tr>\n",
       "      <th>4</th>\n",
       "      <td>28959.0</td>\n",
       "      <td>Please relate the ozone hole to increases in cancer, and provide figures. Otherwise, this articl...</td>\n",
       "      <td>2002</td>\n",
       "      <td>True</td>\n",
       "      <td>article</td>\n",
       "      <td>random</td>\n",
       "      <td>test</td>\n",
       "      <td>0.2</td>\n",
       "      <td>0.0</td>\n",
       "      <td>197</td>\n",
       "      <td>5</td>\n",
       "      <td>0</td>\n",
       "    </tr>\n",
       "  </tbody>\n",
       "</table>\n",
       "</div>"
      ],
      "text/plain": [
       "    rev_id  \\\n",
       "0   2232.0   \n",
       "1   4216.0   \n",
       "2   8953.0   \n",
       "3  26547.0   \n",
       "4  28959.0   \n",
       "\n",
       "                                                                                               comment  \\\n",
       "0  This: :One can make an analogy in mathematical terms by envisioning the distribution of opinions...   \n",
       "1  `  :Clarification for you  (and Zundark's right, i should have checked the Wikipedia bugs page f...   \n",
       "2                                                                            Elected or Electoral? JHK   \n",
       "3  `This is such a fun entry.   Devotchka  I once had a coworker from Korea and not only couldn't s...   \n",
       "4  Please relate the ozone hole to increases in cancer, and provide figures. Otherwise, this articl...   \n",
       "\n",
       "   year  logged_in       ns  sample  split  mean_score  median_score  com_len  \\\n",
       "0  2002       True  article  random  train         0.4           0.5      651   \n",
       "1  2002       True     user  random  train         0.5           0.0      611   \n",
       "2  2002      False  article  random   test         0.1           0.0       25   \n",
       "3  2002       True  article  random  train         0.6           0.0     2976   \n",
       "4  2002       True  article  random   test         0.2           0.0      197   \n",
       "\n",
       "   pun_len  toxicity  \n",
       "0       16         0  \n",
       "1       29         0  \n",
       "2        1         0  \n",
       "3      204         0  \n",
       "4        5         0  "
      ]
     },
     "execution_count": 19,
     "metadata": {},
     "output_type": "execute_result"
    }
   ],
   "source": [
    "print(\"commentdata.shape = \",commentdata.shape)\n",
    "commentdata.head()"
   ]
  },
  {
   "cell_type": "markdown",
   "metadata": {},
   "source": [
    "#### Plot Comment Length to Toxicity"
   ]
  },
  {
   "cell_type": "code",
   "execution_count": 20,
   "metadata": {},
   "outputs": [
    {
     "data": {
      "image/png": "[encoded data removed]",
      "text/plain": [
       "<matplotlib.figure.Figure at 0x1a112e8cf8>"
      ]
     },
     "metadata": {},
     "output_type": "display_data"
    }
   ],
   "source": [
    "plt.plot(pd.Series(commentdata[\"median_score\"]),pd.Series(commentdata[\"com_len\"]),'*')\n",
    "plt.show()"
   ]
  },
  {
   "cell_type": "markdown",
   "metadata": {},
   "source": [
    "#### Plot Punctuation Count to Toxicity"
   ]
  },
  {
   "cell_type": "code",
   "execution_count": 21,
   "metadata": {},
   "outputs": [
    {
     "data": {
      "image/png": "[encoded data removed]",
      "text/plain": [
       "<matplotlib.figure.Figure at 0x10d3d6828>"
      ]
     },
     "metadata": {},
     "output_type": "display_data"
    }
   ],
   "source": [
    "plt.plot(pd.Series(commentdata[\"median_score\"]),pd.Series(commentdata[\"pun_len\"]),'*')\n",
    "plt.show()"
   ]
  },
  {
   "cell_type": "code",
   "execution_count": null,
   "metadata": {
    "scrolled": true
   },
   "outputs": [],
   "source": []
  },
  {
   "cell_type": "code",
   "execution_count": null,
   "metadata": {
    "collapsed": true
   },
   "outputs": [],
   "source": []
  }
 ],
 "metadata": {
  "kernelspec": {
   "display_name": "Python 3",
   "language": "python",
   "name": "python3"
  },
  "language_info": {
   "codemirror_mode": {
    "name": "ipython",
    "version": 3
   },
   "file_extension": ".py",
   "mimetype": "text/x-python",
   "name": "python",
   "nbconvert_exporter": "python",
   "pygments_lexer": "ipython3",
   "version": "3.6.3"
  }
 },
 "nbformat": 4,
 "nbformat_minor": 2
}
