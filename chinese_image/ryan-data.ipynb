{
 "cells": [
  {
   "cell_type": "code",
   "execution_count": 1,
   "metadata": {},
   "outputs": [
    {
     "name": "stderr",
     "output_type": "stream",
     "text": [
      "Using TensorFlow backend.\n"
     ]
    }
   ],
   "source": [
    "from gapml.vision import Image, Images\n",
    "from keras.callbacks import LambdaCallback\n",
    "import cv2"
   ]
  },
  {
   "cell_type": "code",
   "execution_count": 2,
   "metadata": {},
   "outputs": [],
   "source": [
    "import os\n",
    "import pandas as pd\n",
    "import numpy as np\n",
    "import math\n",
    "import matplotlib.pyplot as plt"
   ]
  },
  {
   "cell_type": "code",
   "execution_count": 59,
   "metadata": {},
   "outputs": [],
   "source": [
    "import keras\n",
    "from keras.applications.vgg16 import VGG16\n",
    "from keras import backend as K\n",
    "from keras.models import Sequential, load_model\n",
    "from keras.layers import activations, BatchNormalization\n",
    "from keras.layers.core import Flatten, Dense, Dropout\n",
    "from keras.optimizers import SGD, Adam\n",
    "from keras.metrics import categorical_crossentropy\n",
    "from keras import regularizers\n",
    "from keras.layers.convolutional import *\n",
    "from keras.callbacks import ModelCheckpoint"
   ]
  },
  {
   "cell_type": "code",
   "execution_count": 4,
   "metadata": {},
   "outputs": [],
   "source": [
    "images = Images('chinese/ch_train/',num_proc='all',config=['nostore','gray'],name='chinese')"
   ]
  },
  {
   "cell_type": "code",
   "execution_count": 5,
   "metadata": {},
   "outputs": [],
   "source": [
    "def convert_size(row):\n",
    "    if row == 0:\n",
    "        return \"0B\"\n",
    "    size_name = (\"B\", \"KB\", \"MB\", \"GB\", \"TB\", \"PB\", \"EB\", \"ZB\", \"YB\")\n",
    "    i = int(math.floor(math.log(row, 1024)))\n",
    "    p = math.pow(1024, i)\n",
    "    s = round(row / p, 2)\n",
    "    return \"{} {}\".format(s, size_name[i])"
   ]
  },
  {
   "cell_type": "code",
   "execution_count": 6,
   "metadata": {},
   "outputs": [
    {
     "data": {
      "text/plain": [
       "<gapml.vision.Image at 0x129f5d9e8>"
      ]
     },
     "execution_count": 6,
     "metadata": {},
     "output_type": "execute_result"
    }
   ],
   "source": [
    "images[1]"
   ]
  },
  {
   "cell_type": "code",
   "execution_count": 7,
   "metadata": {},
   "outputs": [
    {
     "data": {
      "text/plain": [
       "'chinese/ch_train//a440/a440-chuxi_001.png'"
      ]
     },
     "execution_count": 7,
     "metadata": {},
     "output_type": "execute_result"
    }
   ],
   "source": [
    "images[0].image"
   ]
  },
  {
   "cell_type": "code",
   "execution_count": 8,
   "metadata": {},
   "outputs": [],
   "source": [
    "dict_list={i:{'dir':img.dir,\n",
    "              'elapsed':img.elapsed,\n",
    "              'img_main':img.image.split('/')[-3],\n",
    "              'img_class':img.image.split('/')[-2],\n",
    "              'image':img.image.split('/')[-1],\n",
    "              'label':img.label,\n",
    "              'name':img.name,\n",
    "              'rawshape':img.rawshape,\n",
    "              'ressize':img.ressize,\n",
    "              'size':img.size,\n",
    "              'shape':img.shape,\n",
    "              'time':img.time,\n",
    "              'type':img.type\n",
    "             } for i, img in enumerate(images._data)}\n",
    "\n",
    "# get data frame\n",
    "df=pd.DataFrame(dict_list).T\n",
    "\n",
    "# fixed data types\n",
    "df['size'] = df['size'].astype('int')\n",
    "df['time'] = df['time'].astype('int')\n",
    "\n",
    "df['size_max']=df['size']\n",
    "df['size_min']=df['size']"
   ]
  },
  {
   "cell_type": "code",
   "execution_count": 9,
   "metadata": {},
   "outputs": [
    {
     "data": {
      "text/html": [
       "<div>\n",
       "<style scoped>\n",
       "    .dataframe tbody tr th:only-of-type {\n",
       "        vertical-align: middle;\n",
       "    }\n",
       "\n",
       "    .dataframe tbody tr th {\n",
       "        vertical-align: top;\n",
       "    }\n",
       "\n",
       "    .dataframe thead th {\n",
       "        text-align: right;\n",
       "    }\n",
       "</style>\n",
       "<table border=\"1\" class=\"dataframe\">\n",
       "  <thead>\n",
       "    <tr style=\"text-align: right;\">\n",
       "      <th></th>\n",
       "      <th>label</th>\n",
       "      <th>type</th>\n",
       "      <th>shape</th>\n",
       "      <th>img_class</th>\n",
       "      <th>image</th>\n",
       "      <th>size_avg</th>\n",
       "      <th>size_max</th>\n",
       "      <th>size_min</th>\n",
       "      <th>time_avg</th>\n",
       "    </tr>\n",
       "  </thead>\n",
       "  <tbody>\n",
       "    <tr>\n",
       "      <th>0</th>\n",
       "      <td>0</td>\n",
       "      <td>png</td>\n",
       "      <td>(65, 79)</td>\n",
       "      <td>a440</td>\n",
       "      <td>236</td>\n",
       "      <td>160.03 B</td>\n",
       "      <td>231.0 B</td>\n",
       "      <td>96.0 B</td>\n",
       "      <td>0</td>\n",
       "    </tr>\n",
       "    <tr>\n",
       "      <th>1</th>\n",
       "      <td>1</td>\n",
       "      <td>png</td>\n",
       "      <td>(65, 79)</td>\n",
       "      <td>a447</td>\n",
       "      <td>195</td>\n",
       "      <td>201.77 B</td>\n",
       "      <td>315.0 B</td>\n",
       "      <td>118.0 B</td>\n",
       "      <td>0</td>\n",
       "    </tr>\n",
       "    <tr>\n",
       "      <th>2</th>\n",
       "      <td>2</td>\n",
       "      <td>png</td>\n",
       "      <td>(65, 79)</td>\n",
       "      <td>a448</td>\n",
       "      <td>193</td>\n",
       "      <td>225.97 B</td>\n",
       "      <td>303.0 B</td>\n",
       "      <td>158.0 B</td>\n",
       "      <td>0</td>\n",
       "    </tr>\n",
       "    <tr>\n",
       "      <th>3</th>\n",
       "      <td>3</td>\n",
       "      <td>png</td>\n",
       "      <td>(65, 79)</td>\n",
       "      <td>a44a</td>\n",
       "      <td>22</td>\n",
       "      <td>232.27 B</td>\n",
       "      <td>282.0 B</td>\n",
       "      <td>197.0 B</td>\n",
       "      <td>0</td>\n",
       "    </tr>\n",
       "    <tr>\n",
       "      <th>4</th>\n",
       "      <td>4</td>\n",
       "      <td>png</td>\n",
       "      <td>(65, 79)</td>\n",
       "      <td>a451</td>\n",
       "      <td>72</td>\n",
       "      <td>181.07 B</td>\n",
       "      <td>281.0 B</td>\n",
       "      <td>92.0 B</td>\n",
       "      <td>0</td>\n",
       "    </tr>\n",
       "  </tbody>\n",
       "</table>\n",
       "</div>"
      ],
      "text/plain": [
       "   label type     shape img_class  image  size_avg size_max size_min  time_avg\n",
       "0      0  png  (65, 79)      a440    236  160.03 B  231.0 B   96.0 B         0\n",
       "1      1  png  (65, 79)      a447    195  201.77 B  315.0 B  118.0 B         0\n",
       "2      2  png  (65, 79)      a448    193  225.97 B  303.0 B  158.0 B         0\n",
       "3      3  png  (65, 79)      a44a     22  232.27 B  282.0 B  197.0 B         0\n",
       "4      4  png  (65, 79)      a451     72  181.07 B  281.0 B   92.0 B         0"
      ]
     },
     "execution_count": 9,
     "metadata": {},
     "output_type": "execute_result"
    }
   ],
   "source": [
    "df2=df.pivot_table(index=['label','type','shape','img_class'],\n",
    "                   values=['image','size_max','size','size_min','time'],\n",
    "                   aggfunc={'image':len,'size_max':max,'size':np.mean,'size_min':min,'time':np.mean}\n",
    "                  )\n",
    "\n",
    "df2.reset_index(inplace=True)\n",
    "\n",
    "df2.rename(columns={'size':'size_avg', 'time':'time_avg'}, inplace = True)\n",
    "df2['size_avg']=df2.apply(lambda row: convert_size(row['size_avg']), axis=1)\n",
    "df2['size_max']=df2.apply(lambda row: convert_size(row['size_max']), axis=1)\n",
    "df2['size_min']=df2.apply(lambda row: convert_size(row['size_min']), axis=1)\n",
    "df2.head()"
   ]
  },
  {
   "cell_type": "code",
   "execution_count": 10,
   "metadata": {},
   "outputs": [
    {
     "data": {
      "text/plain": [
       "array(['a440', 'a447', 'a448', 'a44a', 'a451', 'a453', 'a454', 'a455',\n",
       "       'a457', 'a45d', 'a45f', 'a464', 'a466', 'a467', 'a46a', 'a46b',\n",
       "       'a46c', 'a470', 'a473', 'a474', 'a475', 'a476', 'a477', 'a4a3',\n",
       "       'a4a4', 'a4a7', 'a4bd', 'a4c0', 'a4c6', 'a4ce', 'a4d1', 'a4d2',\n",
       "       'a4e2', 'a4e5', 'a4e8', 'a4e9', 'a4eb', 'a4ec', 'a4f1', 'a4f4',\n",
       "       'a4f5', 'a4fb', 'a4fd', 'a540', 'a548', 'a54e', 'a558', 'a55b',\n",
       "       'a568', 'a569', 'a56b', 'a57e', 'a5a6', 'a5aa', 'a5bb', 'a5bf',\n",
       "       'a5c1', 'a5c9', 'a5ce', 'a5d0', 'a5d1', 'a5d5', 'a5d8', 'a5db',\n",
       "       'a5df', 'a5f4', 'a5fd', 'a5fe', 'a650', 'a656', 'a658', 'a65a',\n",
       "       'a65d', 'a65e', 'a661', 'a662', 'a668', 'a670', 'a67d', 'a67e',\n",
       "       'a6a8', 'a6b3', 'a6b8', 'a6b9', 'a6ca', 'a6cc', 'a6d1', 'a6d3',\n",
       "       'a6d5', 'a6d7', 'a6db', 'a6e4', 'a6e6', 'a6e7', 'a6e8', 'a6ec',\n",
       "       'a6fd', 'a740', 'a751', 'a7da', 'a86b', 'a8a3', 'a8a7', 'a8ad',\n",
       "       'a8ae', 'a8bd', 'a8c3', 'a8c6', 'a8cf', 'a8d3', 'a8e0', 'a8e2',\n",
       "       'a8e4', 'a8ee', 'a94d', 'a977', 'a9ce', 'a9d2', 'a9fa', 'aa46',\n",
       "       'aa47', 'aa6b', 'aaaf', 'aabe', 'aacc', 'aaed', 'aaf7', 'aaf8',\n",
       "       'aaf9', 'ab42', 'ab48', 'ab65', 'ac46', 'acdb', 'acdd', 'acf5',\n",
       "       'acfc', 'ad6e', 'ad78', 'adab', 'adb1', 'adec', 'adfb', 'ae61',\n",
       "       'aef0', 'aefc', 'afe0', 'b05f', 'b0a8', 'b0aa', 'b0dd', 'b0ea',\n",
       "       'b160', 'b16f', 'b1d0', 'b351', 'b371', 'b3a3', 'b3bd', 'b3be',\n",
       "       'b44e', 'b4b5', 'b54c', 'b54d', 'b5a5', 'b5e6', 'b6ba', 'b6c0',\n",
       "       'b6c2', 'b74e', 'b773', 'b77e', 'b8dc', 'b944', 'bb44', 'bb50',\n",
       "       'bdde', 'bec7', 'bed4', 'c059', 'c0b3', 'c16e', 'c2c5', 'c2fb',\n",
       "       'c3f6', 'c9f3'], dtype=object)"
      ]
     },
     "execution_count": 10,
     "metadata": {},
     "output_type": "execute_result"
    }
   ],
   "source": [
    "df2['img_class'].values"
   ]
  },
  {
   "cell_type": "code",
   "execution_count": 11,
   "metadata": {},
   "outputs": [],
   "source": [
    "n,c = df2['label'].values, df2['image'].values"
   ]
  },
  {
   "cell_type": "code",
   "execution_count": 12,
   "metadata": {},
   "outputs": [
    {
     "data": {
      "image/png": "[encoded data removed]",
      "text/plain": [
       "<Figure size 1440x360 with 1 Axes>"
      ]
     },
     "metadata": {
      "needs_background": "light"
     },
     "output_type": "display_data"
    }
   ],
   "source": [
    "plt.figure(figsize=(20,5))\n",
    "plt.bar(n,c)\n",
    "plt.show()"
   ]
  },
  {
   "cell_type": "code",
   "execution_count": 13,
   "metadata": {},
   "outputs": [],
   "source": [
    "images.split = 0.2\n",
    "X_train, X_test, Y_train, Y_test = images.split"
   ]
  },
  {
   "cell_type": "code",
   "execution_count": 14,
   "metadata": {},
   "outputs": [
    {
     "data": {
      "image/png": "[encoded data removed]",
      "text/plain": [
       "<Figure size 864x864 with 16 Axes>"
      ]
     },
     "metadata": {
      "needs_background": "light"
     },
     "output_type": "display_data"
    }
   ],
   "source": [
    "fig=plt.figure(figsize=(12, 12))\n",
    "columns = 4\n",
    "rows = 4\n",
    "for i in range(1, columns*rows +1):\n",
    "    img_show=X_train[i]\n",
    "    fig.add_subplot(rows, columns, i)\n",
    "    plt.axis('off')\n",
    "    plt.imshow(img_show)\n",
    "plt.show()"
   ]
  },
  {
   "cell_type": "markdown",
   "metadata": {},
   "source": [
    "### My Model for Keras (different shape)"
   ]
  },
  {
   "cell_type": "raw",
   "metadata": {},
   "source": [
    "X1_sh,X2_sh = X_train.shape,X_test.shape\n",
    "X_train, X_test = X_train.reshape(X1_sh[0],X1_sh[1],X1_sh[2],1),X_test.reshape(X2_sh[0],X2_sh[1],X2_sh[2],1)"
   ]
  },
  {
   "cell_type": "code",
   "execution_count": 15,
   "metadata": {},
   "outputs": [],
   "source": [
    "X_train,X_test = X_train.reshape(X_train.shape[0],65,79,1),X_test.reshape(X_test.shape[0],65,79,1)"
   ]
  },
  {
   "cell_type": "code",
   "execution_count": 16,
   "metadata": {},
   "outputs": [],
   "source": [
    "batch_size = 64\n",
    "num_classes = Y_train.shape[1]\n",
    "epochs = 20\n",
    "input_shape = X_train.shape[1:]"
   ]
  },
  {
   "cell_type": "markdown",
   "metadata": {},
   "source": [
    "_Keras Layers template: [MNIST for Beginners](https://www.kaggle.com/adityaecdrid/mnist-with-keras-for-beginners-99457)_"
   ]
  },
  {
   "cell_type": "code",
   "execution_count": 17,
   "metadata": {},
   "outputs": [],
   "source": [
    "from keras.callbacks import Callback"
   ]
  },
  {
   "cell_type": "code",
   "execution_count": 78,
   "metadata": {},
   "outputs": [],
   "source": [
    "model = Sequential()\n",
    "model.add(Conv2D(64, kernel_size=(3, 3),activation='relu',kernel_initializer='RandomNormal',input_shape=(65,79,1,)))\n",
    "model.add(Conv2D(32, kernel_size=(3, 3),activation='relu',kernel_initializer='RandomNormal', kernel_regularizer=regularizers.l2(0.3)))\n",
    "model.add(MaxPooling2D((2, 2)))\n",
    "model.add(Dropout(0.20))\n",
    "model.add(Conv2D(64, (3, 3), activation='relu',padding='same',kernel_initializer='RandomNormal', kernel_regularizer=regularizers.l2(0.3)))\n",
    "model.add(Conv2D(64, (3, 3), activation='relu',padding='same',kernel_initializer='RandomNormal', kernel_regularizer=regularizers.l2(0.2)))\n",
    "model.add(MaxPooling2D(pool_size=(2, 2)))\n",
    "model.add(Dropout(0.25))\n",
    "model.add(Conv2D(128, (3, 3), activation='relu',padding='same',kernel_initializer='RandomNormal',kernel_regularizer=regularizers.l2(0.2)))\n",
    "model.add(Dropout(0.25))\n",
    "model.add(Flatten())\n",
    "model.add(Dense(128, activation='relu',kernel_regularizer=regularizers.l2(0.2)))\n",
    "model.add(BatchNormalization())\n",
    "model.add(Dropout(0.25))\n",
    "model.add(Dense(num_classes, activation='softmax'))\n",
    "\n",
    "# checkpoint\n",
    "filepath=\"weights-improvement-{epoch:02d}.hdf5\"\n",
    "checkpoint = ModelCheckpoint(filepath, verbose=1, save_best_only=True, mode='max')\n",
    "print_weights = LambdaCallback(on_epoch_end=lambda batch, logs: print(model.layers[0].get_weights()))\n",
    "\n",
    "callbacks_list = [checkpoint]\n",
    "\n",
    "\n",
    "\n",
    "model.compile(loss=keras.losses.categorical_crossentropy,\n",
    "              optimizer=keras.optimizers.RMSprop(),\n",
    "              metrics=['accuracy'])"
   ]
  },
  {
   "cell_type": "code",
   "execution_count": 79,
   "metadata": {},
   "outputs": [
    {
     "name": "stdout",
     "output_type": "stream",
     "text": [
      "Epoch 1/3\n",
      "6712/6712 [==============================] - 203s 30ms/step - loss: 15.6396 - acc: 0.3232\n",
      "Epoch 2/3\n"
     ]
    },
    {
     "name": "stderr",
     "output_type": "stream",
     "text": [
      "/Users/ryan/.local/share/virtualenvs/gap-2P59N2hE/lib/python3.6/site-packages/keras/callbacks.py:434: RuntimeWarning: Can save best model only with val_loss available, skipping.\n",
      "  'skipping.' % (self.monitor), RuntimeWarning)\n"
     ]
    },
    {
     "name": "stdout",
     "output_type": "stream",
     "text": [
      "6712/6712 [==============================] - 220s 33ms/step - loss: 4.2118 - acc: 0.4470\n",
      "Epoch 3/3\n",
      "3040/6712 [============>.................] - ETA: 1:57 - loss: 3.8906 - acc: 0.4984"
     ]
    },
    {
     "ename": "KeyboardInterrupt",
     "evalue": "",
     "output_type": "error",
     "traceback": [
      "\u001b[0;31m---------------------------------------------------------------------------\u001b[0m",
      "\u001b[0;31mKeyboardInterrupt\u001b[0m                         Traceback (most recent call last)",
      "\u001b[0;32m<ipython-input-79-cf9aab0c6cf5>\u001b[0m in \u001b[0;36m<module>\u001b[0;34m\u001b[0m\n\u001b[0;32m----> 1\u001b[0;31m \u001b[0mmodel\u001b[0m\u001b[0;34m.\u001b[0m\u001b[0mfit\u001b[0m\u001b[0;34m(\u001b[0m\u001b[0mX_train\u001b[0m\u001b[0;34m,\u001b[0m\u001b[0mY_train\u001b[0m\u001b[0;34m,\u001b[0m\u001b[0mepochs\u001b[0m\u001b[0;34m=\u001b[0m\u001b[0;36m3\u001b[0m\u001b[0;34m,\u001b[0m \u001b[0mcallbacks\u001b[0m\u001b[0;34m=\u001b[0m\u001b[0mcallbacks_list\u001b[0m\u001b[0;34m)\u001b[0m\u001b[0;34m\u001b[0m\u001b[0m\n\u001b[0m",
      "\u001b[0;32m~/.local/share/virtualenvs/gap-2P59N2hE/lib/python3.6/site-packages/keras/engine/training.py\u001b[0m in \u001b[0;36mfit\u001b[0;34m(self, x, y, batch_size, epochs, verbose, callbacks, validation_split, validation_data, shuffle, class_weight, sample_weight, initial_epoch, steps_per_epoch, validation_steps, **kwargs)\u001b[0m\n\u001b[1;32m   1037\u001b[0m                                         \u001b[0minitial_epoch\u001b[0m\u001b[0;34m=\u001b[0m\u001b[0minitial_epoch\u001b[0m\u001b[0;34m,\u001b[0m\u001b[0;34m\u001b[0m\u001b[0m\n\u001b[1;32m   1038\u001b[0m                                         \u001b[0msteps_per_epoch\u001b[0m\u001b[0;34m=\u001b[0m\u001b[0msteps_per_epoch\u001b[0m\u001b[0;34m,\u001b[0m\u001b[0;34m\u001b[0m\u001b[0m\n\u001b[0;32m-> 1039\u001b[0;31m                                         validation_steps=validation_steps)\n\u001b[0m\u001b[1;32m   1040\u001b[0m \u001b[0;34m\u001b[0m\u001b[0m\n\u001b[1;32m   1041\u001b[0m     def evaluate(self, x=None, y=None,\n",
      "\u001b[0;32m~/.local/share/virtualenvs/gap-2P59N2hE/lib/python3.6/site-packages/keras/engine/training_arrays.py\u001b[0m in \u001b[0;36mfit_loop\u001b[0;34m(model, f, ins, out_labels, batch_size, epochs, verbose, callbacks, val_f, val_ins, shuffle, callback_metrics, initial_epoch, steps_per_epoch, validation_steps)\u001b[0m\n\u001b[1;32m    197\u001b[0m                     \u001b[0mins_batch\u001b[0m\u001b[0;34m[\u001b[0m\u001b[0mi\u001b[0m\u001b[0;34m]\u001b[0m \u001b[0;34m=\u001b[0m \u001b[0mins_batch\u001b[0m\u001b[0;34m[\u001b[0m\u001b[0mi\u001b[0m\u001b[0;34m]\u001b[0m\u001b[0;34m.\u001b[0m\u001b[0mtoarray\u001b[0m\u001b[0;34m(\u001b[0m\u001b[0;34m)\u001b[0m\u001b[0;34m\u001b[0m\u001b[0m\n\u001b[1;32m    198\u001b[0m \u001b[0;34m\u001b[0m\u001b[0m\n\u001b[0;32m--> 199\u001b[0;31m                 \u001b[0mouts\u001b[0m \u001b[0;34m=\u001b[0m \u001b[0mf\u001b[0m\u001b[0;34m(\u001b[0m\u001b[0mins_batch\u001b[0m\u001b[0;34m)\u001b[0m\u001b[0;34m\u001b[0m\u001b[0m\n\u001b[0m\u001b[1;32m    200\u001b[0m                 \u001b[0mouts\u001b[0m \u001b[0;34m=\u001b[0m \u001b[0mto_list\u001b[0m\u001b[0;34m(\u001b[0m\u001b[0mouts\u001b[0m\u001b[0;34m)\u001b[0m\u001b[0;34m\u001b[0m\u001b[0m\n\u001b[1;32m    201\u001b[0m                 \u001b[0;32mfor\u001b[0m \u001b[0ml\u001b[0m\u001b[0;34m,\u001b[0m \u001b[0mo\u001b[0m \u001b[0;32min\u001b[0m \u001b[0mzip\u001b[0m\u001b[0;34m(\u001b[0m\u001b[0mout_labels\u001b[0m\u001b[0;34m,\u001b[0m \u001b[0mouts\u001b[0m\u001b[0;34m)\u001b[0m\u001b[0;34m:\u001b[0m\u001b[0;34m\u001b[0m\u001b[0m\n",
      "\u001b[0;32m~/.local/share/virtualenvs/gap-2P59N2hE/lib/python3.6/site-packages/keras/backend/tensorflow_backend.py\u001b[0m in \u001b[0;36m__call__\u001b[0;34m(self, inputs)\u001b[0m\n\u001b[1;32m   2713\u001b[0m                 \u001b[0;32mreturn\u001b[0m \u001b[0mself\u001b[0m\u001b[0;34m.\u001b[0m\u001b[0m_legacy_call\u001b[0m\u001b[0;34m(\u001b[0m\u001b[0minputs\u001b[0m\u001b[0;34m)\u001b[0m\u001b[0;34m\u001b[0m\u001b[0m\n\u001b[1;32m   2714\u001b[0m \u001b[0;34m\u001b[0m\u001b[0m\n\u001b[0;32m-> 2715\u001b[0;31m             \u001b[0;32mreturn\u001b[0m \u001b[0mself\u001b[0m\u001b[0;34m.\u001b[0m\u001b[0m_call\u001b[0m\u001b[0;34m(\u001b[0m\u001b[0minputs\u001b[0m\u001b[0;34m)\u001b[0m\u001b[0;34m\u001b[0m\u001b[0m\n\u001b[0m\u001b[1;32m   2716\u001b[0m         \u001b[0;32melse\u001b[0m\u001b[0;34m:\u001b[0m\u001b[0;34m\u001b[0m\u001b[0m\n\u001b[1;32m   2717\u001b[0m             \u001b[0;32mif\u001b[0m \u001b[0mpy_any\u001b[0m\u001b[0;34m(\u001b[0m\u001b[0mis_tensor\u001b[0m\u001b[0;34m(\u001b[0m\u001b[0mx\u001b[0m\u001b[0;34m)\u001b[0m \u001b[0;32mfor\u001b[0m \u001b[0mx\u001b[0m \u001b[0;32min\u001b[0m \u001b[0minputs\u001b[0m\u001b[0;34m)\u001b[0m\u001b[0;34m:\u001b[0m\u001b[0;34m\u001b[0m\u001b[0m\n",
      "\u001b[0;32m~/.local/share/virtualenvs/gap-2P59N2hE/lib/python3.6/site-packages/keras/backend/tensorflow_backend.py\u001b[0m in \u001b[0;36m_call\u001b[0;34m(self, inputs)\u001b[0m\n\u001b[1;32m   2673\u001b[0m             \u001b[0mfetched\u001b[0m \u001b[0;34m=\u001b[0m \u001b[0mself\u001b[0m\u001b[0;34m.\u001b[0m\u001b[0m_callable_fn\u001b[0m\u001b[0;34m(\u001b[0m\u001b[0;34m*\u001b[0m\u001b[0marray_vals\u001b[0m\u001b[0;34m,\u001b[0m \u001b[0mrun_metadata\u001b[0m\u001b[0;34m=\u001b[0m\u001b[0mself\u001b[0m\u001b[0;34m.\u001b[0m\u001b[0mrun_metadata\u001b[0m\u001b[0;34m)\u001b[0m\u001b[0;34m\u001b[0m\u001b[0m\n\u001b[1;32m   2674\u001b[0m         \u001b[0;32melse\u001b[0m\u001b[0;34m:\u001b[0m\u001b[0;34m\u001b[0m\u001b[0m\n\u001b[0;32m-> 2675\u001b[0;31m             \u001b[0mfetched\u001b[0m \u001b[0;34m=\u001b[0m \u001b[0mself\u001b[0m\u001b[0;34m.\u001b[0m\u001b[0m_callable_fn\u001b[0m\u001b[0;34m(\u001b[0m\u001b[0;34m*\u001b[0m\u001b[0marray_vals\u001b[0m\u001b[0;34m)\u001b[0m\u001b[0;34m\u001b[0m\u001b[0m\n\u001b[0m\u001b[1;32m   2676\u001b[0m         \u001b[0;32mreturn\u001b[0m \u001b[0mfetched\u001b[0m\u001b[0;34m[\u001b[0m\u001b[0;34m:\u001b[0m\u001b[0mlen\u001b[0m\u001b[0;34m(\u001b[0m\u001b[0mself\u001b[0m\u001b[0;34m.\u001b[0m\u001b[0moutputs\u001b[0m\u001b[0;34m)\u001b[0m\u001b[0;34m]\u001b[0m\u001b[0;34m\u001b[0m\u001b[0m\n\u001b[1;32m   2677\u001b[0m \u001b[0;34m\u001b[0m\u001b[0m\n",
      "\u001b[0;32m~/.local/share/virtualenvs/gap-2P59N2hE/lib/python3.6/site-packages/tensorflow/python/client/session.py\u001b[0m in \u001b[0;36m__call__\u001b[0;34m(self, *args, **kwargs)\u001b[0m\n\u001b[1;32m   1397\u001b[0m           ret = tf_session.TF_SessionRunCallable(\n\u001b[1;32m   1398\u001b[0m               \u001b[0mself\u001b[0m\u001b[0;34m.\u001b[0m\u001b[0m_session\u001b[0m\u001b[0;34m.\u001b[0m\u001b[0m_session\u001b[0m\u001b[0;34m,\u001b[0m \u001b[0mself\u001b[0m\u001b[0;34m.\u001b[0m\u001b[0m_handle\u001b[0m\u001b[0;34m,\u001b[0m \u001b[0margs\u001b[0m\u001b[0;34m,\u001b[0m \u001b[0mstatus\u001b[0m\u001b[0;34m,\u001b[0m\u001b[0;34m\u001b[0m\u001b[0m\n\u001b[0;32m-> 1399\u001b[0;31m               run_metadata_ptr)\n\u001b[0m\u001b[1;32m   1400\u001b[0m         \u001b[0;32mif\u001b[0m \u001b[0mrun_metadata\u001b[0m\u001b[0;34m:\u001b[0m\u001b[0;34m\u001b[0m\u001b[0m\n\u001b[1;32m   1401\u001b[0m           \u001b[0mproto_data\u001b[0m \u001b[0;34m=\u001b[0m \u001b[0mtf_session\u001b[0m\u001b[0;34m.\u001b[0m\u001b[0mTF_GetBuffer\u001b[0m\u001b[0;34m(\u001b[0m\u001b[0mrun_metadata_ptr\u001b[0m\u001b[0;34m)\u001b[0m\u001b[0;34m\u001b[0m\u001b[0m\n",
      "\u001b[0;31mKeyboardInterrupt\u001b[0m: "
     ]
    }
   ],
   "source": [
    "model.fit(X_train,Y_train,epochs=3)"
   ]
  },
  {
   "cell_type": "code",
   "execution_count": 51,
   "metadata": {},
   "outputs": [
    {
     "name": "stdout",
     "output_type": "stream",
     "text": [
      "1679/1679 [==============================] - 20s 12ms/step\n"
     ]
    },
    {
     "data": {
      "text/plain": [
       "[3.2796691266321725, 0.6700416917315262]"
      ]
     },
     "execution_count": 51,
     "metadata": {},
     "output_type": "execute_result"
    }
   ],
   "source": [
    "model.evaluate(X_test,Y_test)"
   ]
  },
  {
   "cell_type": "raw",
   "metadata": {},
   "source": [
    "answers = [labels[a.argmax()] for a in answers]\n",
    "answers = model.predict(X_test_fixed)\n",
    "answers = [labels[a.argmax()] for a in answers]\n",
    "y_answer = [labels[y.argmax()] for y in Y_test]"
   ]
  },
  {
   "cell_type": "code",
   "execution_count": 43,
   "metadata": {},
   "outputs": [],
   "source": [
    "prediction_set = Images('chinese/ch_test/', config=['nostore','gray'])\n",
    "final_images = np.array([im._imgdata.reshape(65,79,1) for im in prediction_set._data[:]])\n",
    "final_labels = np.array([im.name for im in prediction_set])\n",
    "pred = model.predict(final_images)"
   ]
  },
  {
   "cell_type": "code",
   "execution_count": 44,
   "metadata": {},
   "outputs": [],
   "source": [
    "actual_labels = df2['img_class'].values\n",
    "actual_label = [prediction_set[i].name for i in range(len(prediction_set))]\n",
    "pred_label = [final_labels[p.argmax()] for p in pred]"
   ]
  },
  {
   "cell_type": "raw",
   "metadata": {},
   "source": [
    "[p.argmax() for p in pred]"
   ]
  },
  {
   "cell_type": "code",
   "execution_count": 48,
   "metadata": {},
   "outputs": [
    {
     "name": "stdout",
     "output_type": "stream",
     "text": [
      "0: CORRECT!\n",
      "1: WRONG!\n",
      "2: WRONG!\n",
      "3: CORRECT!\n",
      "4: WRONG!\n",
      "5: WRONG!\n",
      "6: WRONG!\n",
      "7: WRONG!\n",
      "8: WRONG!\n",
      "9: WRONG!\n",
      "10: WRONG!\n",
      "11: WRONG!\n",
      "12: WRONG!\n",
      "13: WRONG!\n",
      "14: WRONG!\n",
      "15: WRONG!\n",
      "16: WRONG!\n",
      "17: WRONG!\n",
      "18: WRONG!\n",
      "19: WRONG!\n",
      "20: WRONG!\n",
      "21: WRONG!\n",
      "22: WRONG!\n",
      "23: WRONG!\n",
      "24: WRONG!\n",
      "25: WRONG!\n",
      "26: WRONG!\n",
      "27: WRONG!\n",
      "28: WRONG!\n",
      "29: WRONG!\n",
      "30: WRONG!\n",
      "31: WRONG!\n",
      "32: WRONG!\n",
      "33: WRONG!\n",
      "34: WRONG!\n",
      "35: WRONG!\n",
      "36: WRONG!\n",
      "37: WRONG!\n",
      "38: WRONG!\n",
      "39: WRONG!\n",
      "40: WRONG!\n",
      "41: WRONG!\n",
      "42: WRONG!\n",
      "43: WRONG!\n",
      "44: WRONG!\n",
      "45: WRONG!\n",
      "46: WRONG!\n",
      "47: WRONG!\n",
      "48: WRONG!\n",
      "49: WRONG!\n",
      "50: WRONG!\n",
      "51: WRONG!\n",
      "52: CORRECT!\n",
      "53: WRONG!\n",
      "54: WRONG!\n",
      "55: WRONG!\n",
      "56: WRONG!\n",
      "57: WRONG!\n",
      "58: WRONG!\n",
      "59: WRONG!\n",
      "60: WRONG!\n",
      "61: WRONG!\n",
      "62: WRONG!\n",
      "63: WRONG!\n",
      "64: WRONG!\n",
      "65: WRONG!\n",
      "66: WRONG!\n",
      "67: WRONG!\n",
      "68: WRONG!\n",
      "69: WRONG!\n",
      "70: WRONG!\n",
      "71: WRONG!\n",
      "72: WRONG!\n",
      "73: WRONG!\n",
      "74: WRONG!\n",
      "75: WRONG!\n",
      "76: WRONG!\n",
      "77: WRONG!\n",
      "78: WRONG!\n",
      "79: WRONG!\n",
      "80: WRONG!\n",
      "81: WRONG!\n",
      "82: WRONG!\n",
      "83: WRONG!\n",
      "84: WRONG!\n",
      "85: WRONG!\n",
      "86: WRONG!\n",
      "87: WRONG!\n",
      "88: WRONG!\n",
      "89: WRONG!\n",
      "90: WRONG!\n",
      "91: WRONG!\n",
      "92: WRONG!\n",
      "93: WRONG!\n",
      "94: WRONG!\n",
      "95: WRONG!\n",
      "96: WRONG!\n",
      "97: WRONG!\n",
      "98: WRONG!\n",
      "99: WRONG!\n",
      "100: WRONG!\n",
      "101: WRONG!\n",
      "102: WRONG!\n",
      "103: WRONG!\n",
      "104: WRONG!\n",
      "105: WRONG!\n",
      "106: WRONG!\n",
      "107: WRONG!\n",
      "108: WRONG!\n",
      "109: WRONG!\n",
      "110: WRONG!\n",
      "111: WRONG!\n",
      "112: WRONG!\n",
      "113: WRONG!\n",
      "114: WRONG!\n",
      "115: WRONG!\n",
      "116: WRONG!\n",
      "117: WRONG!\n",
      "118: WRONG!\n",
      "119: WRONG!\n",
      "120: WRONG!\n",
      "121: WRONG!\n",
      "122: WRONG!\n",
      "123: WRONG!\n",
      "124: WRONG!\n",
      "125: WRONG!\n",
      "126: WRONG!\n",
      "127: WRONG!\n",
      "128: WRONG!\n",
      "129: WRONG!\n",
      "130: WRONG!\n",
      "131: WRONG!\n",
      "132: WRONG!\n",
      "133: WRONG!\n",
      "134: WRONG!\n",
      "135: WRONG!\n",
      "136: WRONG!\n",
      "137: WRONG!\n",
      "138: WRONG!\n",
      "139: WRONG!\n",
      "140: WRONG!\n",
      "141: WRONG!\n",
      "142: WRONG!\n",
      "143: WRONG!\n",
      "144: WRONG!\n",
      "145: WRONG!\n",
      "146: WRONG!\n",
      "147: WRONG!\n",
      "148: WRONG!\n",
      "149: WRONG!\n",
      "150: WRONG!\n",
      "151: WRONG!\n",
      "152: WRONG!\n",
      "153: WRONG!\n",
      "154: WRONG!\n",
      "155: WRONG!\n",
      "156: WRONG!\n",
      "157: WRONG!\n",
      "158: WRONG!\n",
      "159: WRONG!\n",
      "160: WRONG!\n",
      "161: WRONG!\n",
      "162: WRONG!\n",
      "163: WRONG!\n",
      "164: WRONG!\n",
      "165: WRONG!\n",
      "166: WRONG!\n",
      "167: WRONG!\n",
      "168: WRONG!\n",
      "169: WRONG!\n",
      "170: WRONG!\n",
      "171: WRONG!\n",
      "172: WRONG!\n",
      "173: WRONG!\n",
      "174: WRONG!\n",
      "175: CORRECT!\n",
      "176: WRONG!\n",
      "177: WRONG!\n",
      "178: WRONG!\n",
      "179: WRONG!\n",
      "180: WRONG!\n",
      "181: WRONG!\n",
      "182: WRONG!\n",
      "183: WRONG!\n",
      "184: WRONG!\n",
      "185: WRONG!\n",
      "186: WRONG!\n",
      "187: WRONG!\n",
      "188: WRONG!\n",
      "189: WRONG!\n",
      "190: WRONG!\n",
      "191: WRONG!\n",
      "192: WRONG!\n",
      "193: WRONG!\n",
      "194: WRONG!\n",
      "195: WRONG!\n",
      "196: WRONG!\n",
      "197: WRONG!\n",
      "198: WRONG!\n",
      "199: WRONG!\n",
      "4 0.02\n"
     ]
    }
   ],
   "source": [
    "v = 0\n",
    "for i in range(20):\n",
    "    if actual_label[i] == pred_label[i]:\n",
    "        v+=1\n",
    "        print('{}: CORRECT!'.format(i))\n",
    "    else:\n",
    "        print('{}: WRONG!'.format(i))\n",
    "# print(v,v/200)"
   ]
  },
  {
   "cell_type": "code",
   "execution_count": 49,
   "metadata": {},
   "outputs": [
    {
     "data": {
      "text/plain": [
       "'a6e6'"
      ]
     },
     "execution_count": 49,
     "metadata": {},
     "output_type": "execute_result"
    }
   ],
   "source": [
    "im=Image('chinese/19981.gif',config=['resize=(65,79)','gray'])\n",
    "im = im.data.reshape(65,79,1)\n",
    "im = np.expand_dims(im,axis=0)\n",
    "pred = model.predict(im).argmax()\n",
    "actual_labels[pred]"
   ]
  },
  {
   "cell_type": "code",
   "execution_count": 50,
   "metadata": {},
   "outputs": [
    {
     "data": {
      "text/plain": [
       "'a4fd'"
      ]
     },
     "execution_count": 50,
     "metadata": {},
     "output_type": "execute_result"
    }
   ],
   "source": [
    "im=Image('chinese/a4a3-real.jpg',config=['resize=(65,79)','gray'])\n",
    "im = im.data.reshape(65,79,1)\n",
    "im = np.expand_dims(im,axis=0)\n",
    "pred = model.predict(im).argmax()\n",
    "actual_labels[pred]"
   ]
  },
  {
   "cell_type": "code",
   "execution_count": null,
   "metadata": {},
   "outputs": [],
   "source": []
  }
 ],
 "metadata": {
  "kernelspec": {
   "display_name": "Python 3",
   "language": "python",
   "name": "python3"
  },
  "language_info": {
   "codemirror_mode": {
    "name": "ipython",
    "version": 3
   },
   "file_extension": ".py",
   "mimetype": "text/x-python",
   "name": "python",
   "nbconvert_exporter": "python",
   "pygments_lexer": "ipython3",
   "version": "3.6.1"
  }
 },
 "nbformat": 4,
 "nbformat_minor": 2
}
