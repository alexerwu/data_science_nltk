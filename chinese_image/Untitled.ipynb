{
 "cells": [
  {
   "cell_type": "code",
   "execution_count": 25,
   "metadata": {},
   "outputs": [],
   "source": [
    "import cv2;import numpy as np;import matplotlib.pyplot as plt"
   ]
  },
  {
   "cell_type": "code",
   "execution_count": 109,
   "metadata": {},
   "outputs": [],
   "source": [
    "s = cv2.imread('images/a467/a467-chuxi_000.bmp')"
   ]
  },
  {
   "cell_type": "code",
   "execution_count": 113,
   "metadata": {},
   "outputs": [
    {
     "data": {
      "text/plain": [
       "3510915"
      ]
     },
     "execution_count": 113,
     "metadata": {},
     "output_type": "execute_result"
    }
   ],
   "source": [
    "s.sum()"
   ]
  },
  {
   "cell_type": "code",
   "execution_count": 107,
   "metadata": {},
   "outputs": [
    {
     "name": "stdout",
     "output_type": "stream",
     "text": [
      "2976\n",
      "1722\n",
      "2391\n",
      "2400\n",
      "2919\n",
      "2016\n",
      "2103\n",
      "2259\n",
      "2382\n",
      "2472\n",
      "2724\n",
      "2949\n",
      "2595\n",
      "2634\n",
      "2286\n"
     ]
    }
   ],
   "source": [
    "image_set = []\n",
    "for i in range(0,16):\n",
    "    s = 'images/a467/a467-chuxi_0'+'{:02}'.format(i)+'.bmp'\n",
    "    im = assign_bin(np.invert(cv2.imread(s)).ravel())\n",
    "    image_set.append(im)\n",
    "for i in range (1,16):\n",
    "    print(np.dot(image_set[i],image_set[i-1]))"
   ]
  },
  {
   "cell_type": "code",
   "execution_count": 67,
   "metadata": {},
   "outputs": [
    {
     "name": "stdout",
     "output_type": "stream",
     "text": [
      "94\n",
      "165\n",
      "139\n",
      "10\n",
      "126\n",
      "140\n",
      "240\n",
      "116\n",
      "24\n",
      "81\n",
      "218\n",
      "135\n",
      "58\n",
      "247\n",
      "142\n"
     ]
    }
   ],
   "source": [
    "image_set = []\n",
    "for i in range(0,16):\n",
    "    s = 'images/a467/a467-jinwen_0'+'{:02}'.format(i)+'.bmp'\n",
    "    im = np.invert(cv2.imread(s)).ravel()\n",
    "    image_set.append(im)\n",
    "for i in range (1,16):\n",
    "    print(np.dot(image_set[i],image_set[i-1]))"
   ]
  },
  {
   "cell_type": "code",
   "execution_count": null,
   "metadata": {},
   "outputs": [],
   "source": []
  }
 ],
 "metadata": {
  "kernelspec": {
   "display_name": "Python 3",
   "language": "python",
   "name": "python3"
  },
  "language_info": {
   "codemirror_mode": {
    "name": "ipython",
    "version": 3
   },
   "file_extension": ".py",
   "mimetype": "text/x-python",
   "name": "python",
   "nbconvert_exporter": "python",
   "pygments_lexer": "ipython3",
   "version": "3.7.0"
  }
 },
 "nbformat": 4,
 "nbformat_minor": 2
}
