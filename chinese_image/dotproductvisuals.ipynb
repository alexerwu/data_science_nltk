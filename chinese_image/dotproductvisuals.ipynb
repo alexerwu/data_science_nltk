{
 "cells": [
  {
   "cell_type": "code",
   "execution_count": 329,
   "metadata": {},
   "outputs": [],
   "source": [
    "import cv2\n",
    "import numpy as np\n",
    "import matplotlib.pyplot as plt\n",
    "from PIL import Image\n",
    "from IPython.display import display, HTML,display_html"
   ]
  },
  {
   "cell_type": "code",
   "execution_count": 330,
   "metadata": {},
   "outputs": [],
   "source": [
    "def im_load(path):\n",
    "    img = Image.fromarray(cv2.imread(path))\n",
    "    arr = np.array(img.getchannel(0),dtype=float)\n",
    "    arr /= arr.max()\n",
    "    print(arr.sum())\n",
    "    return arr\n",
    "\n",
    "def view_image(arr):\n",
    "    return Image.fromarray(np.uint8(arr)*255)"
   ]
  },
  {
   "cell_type": "code",
   "execution_count": 331,
   "metadata": {},
   "outputs": [
    {
     "name": "stdout",
     "output_type": "stream",
     "text": [
      "692.0\n",
      "1017.0\n",
      "965.0\n",
      "832.0\n",
      "813.0\n"
     ]
    }
   ],
   "source": [
    "path = '../../../chinesescraper/scraper/images/practice/'\n",
    "folder = 'a4bd/'\n",
    "\n",
    "images = []\n",
    "for i in range(5):\n",
    "    file = 'a4bd-chuxi_00{}.png'.format(i)\n",
    "    img = im_load(path+folder+file)\n",
    "    images.append(img)"
   ]
  },
  {
   "cell_type": "code",
   "execution_count": 332,
   "metadata": {},
   "outputs": [
    {
     "data": {
      "text/plain": [
       "204.0"
      ]
     },
     "execution_count": 332,
     "metadata": {},
     "output_type": "execute_result"
    }
   ],
   "source": [
    "(images[1]-images[4]).sum()"
   ]
  },
  {
   "cell_type": "code",
   "execution_count": null,
   "metadata": {},
   "outputs": [],
   "source": []
  }
 ],
 "metadata": {
  "kernelspec": {
   "display_name": "Python 3",
   "language": "python",
   "name": "python3"
  },
  "language_info": {
   "codemirror_mode": {
    "name": "ipython",
    "version": 3
   },
   "file_extension": ".py",
   "mimetype": "text/x-python",
   "name": "python",
   "nbconvert_exporter": "python",
   "pygments_lexer": "ipython3",
   "version": "3.7.0"
  }
 },
 "nbformat": 4,
 "nbformat_minor": 2
}
