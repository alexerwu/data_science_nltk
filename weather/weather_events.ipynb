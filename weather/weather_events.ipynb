{
 "cells": [
  {
   "cell_type": "code",
   "execution_count": 215,
   "metadata": {},
   "outputs": [],
   "source": [
    "# iplot/cufflinks\n",
    "\n",
    "import matplotlib.pyplot as plt\n",
    "import numpy as np\n",
    "import pandas as pd\n",
    "import calendar\n",
    "from matplotlib.pyplot import subplots, show\n",
    "import plotly.plotly as py\n",
    "import pandas as pd\n",
    "\n",
    "pd.options.mode.chained_assignment = None\n",
    "\n",
    "%matplotlib inline"
   ]
  },
  {
   "cell_type": "code",
   "execution_count": 216,
   "metadata": {
    "slideshow": {
     "slide_type": "slide"
    }
   },
   "outputs": [
    {
     "name": "stdout",
     "output_type": "stream",
     "text": [
      "['Tornado' 'Hail' 'Wind' 'Flood' 'Winter Storm' 'Winter Weather'\n",
      " 'Debris Flow' 'Lightning' 'Heat' 'Rain' 'Wildfire/Smoke' 'Waves/Surge'\n",
      " 'Other' 'Drought' 'Tropical Storm']\n"
     ]
    },
    {
     "data": {
      "text/html": [
       "<div>\n",
       "<style scoped>\n",
       "    .dataframe tbody tr th:only-of-type {\n",
       "        vertical-align: middle;\n",
       "    }\n",
       "\n",
       "    .dataframe tbody tr th {\n",
       "        vertical-align: top;\n",
       "    }\n",
       "\n",
       "    .dataframe thead th {\n",
       "        text-align: right;\n",
       "    }\n",
       "</style>\n",
       "<table border=\"1\" class=\"dataframe\">\n",
       "  <thead>\n",
       "    <tr style=\"text-align: right;\">\n",
       "      <th></th>\n",
       "      <th>BEGIN_DATE_TIME</th>\n",
       "      <th>END_DATE_TIME</th>\n",
       "      <th>EPISODE_ID</th>\n",
       "      <th>EVENT_ID</th>\n",
       "      <th>STATE</th>\n",
       "      <th>CZ_TYPE</th>\n",
       "      <th>EVENT_TYPE</th>\n",
       "      <th>EVENT_REDUCED</th>\n",
       "      <th>CZ_TIMEZONE</th>\n",
       "      <th>INJURIES_DIRECT</th>\n",
       "      <th>INJURIES_INDIRECT</th>\n",
       "      <th>DEATHS_DIRECT</th>\n",
       "      <th>DEATHS_INDIRECT</th>\n",
       "      <th>DAMAGE_PROPERTY</th>\n",
       "      <th>DAMAGE_CROPS</th>\n",
       "      <th>BEGIN_LAT</th>\n",
       "      <th>BEGIN_LON</th>\n",
       "    </tr>\n",
       "  </thead>\n",
       "  <tbody>\n",
       "    <tr>\n",
       "      <th>1471783</th>\n",
       "      <td>21-AUG-17 10:48:00</td>\n",
       "      <td>21-AUG-17 10:48:00</td>\n",
       "      <td>120083.0</td>\n",
       "      <td>719531</td>\n",
       "      <td>IOWA</td>\n",
       "      <td>C</td>\n",
       "      <td>Hail</td>\n",
       "      <td>Hail</td>\n",
       "      <td>CST-6</td>\n",
       "      <td>0</td>\n",
       "      <td>0</td>\n",
       "      <td>0</td>\n",
       "      <td>0</td>\n",
       "      <td>0.0</td>\n",
       "      <td>0.0</td>\n",
       "      <td>43.4300</td>\n",
       "      <td>-96.1700</td>\n",
       "    </tr>\n",
       "    <tr>\n",
       "      <th>1471784</th>\n",
       "      <td>21-AUG-17 10:57:00</td>\n",
       "      <td>21-AUG-17 10:57:00</td>\n",
       "      <td>120083.0</td>\n",
       "      <td>719533</td>\n",
       "      <td>IOWA</td>\n",
       "      <td>C</td>\n",
       "      <td>Hail</td>\n",
       "      <td>Hail</td>\n",
       "      <td>CST-6</td>\n",
       "      <td>0</td>\n",
       "      <td>0</td>\n",
       "      <td>0</td>\n",
       "      <td>0</td>\n",
       "      <td>0.0</td>\n",
       "      <td>0.0</td>\n",
       "      <td>43.4000</td>\n",
       "      <td>-95.7300</td>\n",
       "    </tr>\n",
       "    <tr>\n",
       "      <th>1471785</th>\n",
       "      <td>12-AUG-17 16:25:00</td>\n",
       "      <td>12-AUG-17 16:35:00</td>\n",
       "      <td>120278.0</td>\n",
       "      <td>720673</td>\n",
       "      <td>CALIFORNIA</td>\n",
       "      <td>C</td>\n",
       "      <td>Thunderstorm Wind</td>\n",
       "      <td>Wind</td>\n",
       "      <td>PST-8</td>\n",
       "      <td>0</td>\n",
       "      <td>0</td>\n",
       "      <td>0</td>\n",
       "      <td>0</td>\n",
       "      <td>15000.0</td>\n",
       "      <td>0.0</td>\n",
       "      <td>32.9156</td>\n",
       "      <td>-116.2443</td>\n",
       "    </tr>\n",
       "    <tr>\n",
       "      <th>1471786</th>\n",
       "      <td>12-AUG-17 16:30:00</td>\n",
       "      <td>12-AUG-17 17:30:00</td>\n",
       "      <td>120278.0</td>\n",
       "      <td>720675</td>\n",
       "      <td>CALIFORNIA</td>\n",
       "      <td>C</td>\n",
       "      <td>Flash Flood</td>\n",
       "      <td>Flood</td>\n",
       "      <td>PST-8</td>\n",
       "      <td>0</td>\n",
       "      <td>0</td>\n",
       "      <td>0</td>\n",
       "      <td>0</td>\n",
       "      <td>5000.0</td>\n",
       "      <td>0.0</td>\n",
       "      <td>32.9181</td>\n",
       "      <td>-116.2540</td>\n",
       "    </tr>\n",
       "    <tr>\n",
       "      <th>1471787</th>\n",
       "      <td>12-AUG-17 16:10:00</td>\n",
       "      <td>12-AUG-17 18:00:00</td>\n",
       "      <td>120278.0</td>\n",
       "      <td>720679</td>\n",
       "      <td>CALIFORNIA</td>\n",
       "      <td>C</td>\n",
       "      <td>Flash Flood</td>\n",
       "      <td>Flood</td>\n",
       "      <td>PST-8</td>\n",
       "      <td>0</td>\n",
       "      <td>0</td>\n",
       "      <td>0</td>\n",
       "      <td>0</td>\n",
       "      <td>5000.0</td>\n",
       "      <td>0.0</td>\n",
       "      <td>33.0425</td>\n",
       "      <td>-116.1047</td>\n",
       "    </tr>\n",
       "  </tbody>\n",
       "</table>\n",
       "</div>"
      ],
      "text/plain": [
       "            BEGIN_DATE_TIME       END_DATE_TIME  EPISODE_ID  EVENT_ID  \\\n",
       "1471783  21-AUG-17 10:48:00  21-AUG-17 10:48:00    120083.0    719531   \n",
       "1471784  21-AUG-17 10:57:00  21-AUG-17 10:57:00    120083.0    719533   \n",
       "1471785  12-AUG-17 16:25:00  12-AUG-17 16:35:00    120278.0    720673   \n",
       "1471786  12-AUG-17 16:30:00  12-AUG-17 17:30:00    120278.0    720675   \n",
       "1471787  12-AUG-17 16:10:00  12-AUG-17 18:00:00    120278.0    720679   \n",
       "\n",
       "              STATE CZ_TYPE         EVENT_TYPE EVENT_REDUCED CZ_TIMEZONE  \\\n",
       "1471783        IOWA       C               Hail          Hail       CST-6   \n",
       "1471784        IOWA       C               Hail          Hail       CST-6   \n",
       "1471785  CALIFORNIA       C  Thunderstorm Wind          Wind       PST-8   \n",
       "1471786  CALIFORNIA       C        Flash Flood         Flood       PST-8   \n",
       "1471787  CALIFORNIA       C        Flash Flood         Flood       PST-8   \n",
       "\n",
       "         INJURIES_DIRECT  INJURIES_INDIRECT  DEATHS_DIRECT  DEATHS_INDIRECT  \\\n",
       "1471783                0                  0              0                0   \n",
       "1471784                0                  0              0                0   \n",
       "1471785                0                  0              0                0   \n",
       "1471786                0                  0              0                0   \n",
       "1471787                0                  0              0                0   \n",
       "\n",
       "         DAMAGE_PROPERTY  DAMAGE_CROPS  BEGIN_LAT  BEGIN_LON  \n",
       "1471783              0.0           0.0    43.4300   -96.1700  \n",
       "1471784              0.0           0.0    43.4000   -95.7300  \n",
       "1471785          15000.0           0.0    32.9156  -116.2443  \n",
       "1471786           5000.0           0.0    32.9181  -116.2540  \n",
       "1471787           5000.0           0.0    33.0425  -116.1047  "
      ]
     },
     "execution_count": 216,
     "metadata": {},
     "output_type": "execute_result"
    }
   ],
   "source": [
    "weatherdata = pd.read_csv('detail_trim2.csv', encoding = \"ISO-8859-1\")\n",
    "\n",
    "weatherdata['EPISODE_ID'].nunique()\n",
    "weatherdata['EVENT_ID'].nunique()\n",
    "\n",
    "del weatherdata['YEAR']\n",
    "del weatherdata['MONTH_NAME']\n",
    "del weatherdata['BEGIN_DAY']\n",
    "del weatherdata['BEGIN_TIME']\n",
    "print(weatherdata.EVENT_REDUCED.unique())\n",
    "weatherdata.tail()"
   ]
  },
  {
   "cell_type": "code",
   "execution_count": 217,
   "metadata": {},
   "outputs": [
    {
     "data": {
      "text/plain": [
       "array(['Hail', 'Thunderstorm Wind', 'Tornado', 'HAIL FLOODING',\n",
       "       'THUNDERSTORM WINDS/FLASH FLOOD', 'THUNDERSTORM WINDS FUNNEL CLOU',\n",
       "       'Heavy Snow', 'High Wind', 'Dust Devil', 'Lightning',\n",
       "       'Flash Flood', 'Funnel Cloud', 'Heavy Rain', 'Flood',\n",
       "       'Winter Storm', 'Dust Storm', 'Cold/Wind Chill', 'Wildfire',\n",
       "       'Dense Fog', 'Avalanche', 'Blizzard', 'Heat',\n",
       "       'Hurricane (Typhoon)', 'Winter Weather', 'Strong Wind',\n",
       "       'Ice Storm', 'Excessive Heat', 'Freezing Fog', 'Frost/Freeze',\n",
       "       'Landslide', 'Lake-Effect Snow', 'Debris Flow',\n",
       "       'Extreme Cold/Wind Chill'], dtype=object)"
      ]
     },
     "execution_count": 217,
     "metadata": {},
     "output_type": "execute_result"
    }
   ],
   "source": [
    "nevada = weatherdata.loc[weatherdata['STATE'] == 'NEVADA']\n",
    "nevada['EVENT_TYPE'].unique()"
   ]
  },
  {
   "cell_type": "code",
   "execution_count": 183,
   "metadata": {},
   "outputs": [],
   "source": [
    "us_state_abbrev = {'Alabama': 'AL','Alaska': 'AK','Arizona': 'AZ','Arkansas': 'AR','California': 'CA','Colorado': 'CO','Connecticut': 'CT',\n",
    "'Delaware': 'DE','Florida': 'FL','Georgia': 'GA','Hawaii': 'HI','Idaho': 'ID','Illinois': 'IL','Indiana': 'IN','Iowa': 'IA',\n",
    "'Kansas': 'KS','Kentucky': 'KY','Louisiana': 'LA','Maine': 'ME','Maryland': 'MD','Massachusetts': 'MA','Michigan': 'MI','Minnesota': 'MN',\n",
    "'Mississippi': 'MS','Missouri': 'MO','Montana': 'MT','Nebraska': 'NE','Nevada': 'NV','New Hampshire': 'NH','New Jersey': 'NJ',\n",
    "'New Mexico': 'NM','New York': 'NY','North Carolina': 'NC','North Dakota': 'ND','Ohio': 'OH','Oklahoma': 'OK','Oregon': 'OR',\n",
    "'Pennsylvania': 'PA','Rhode Island': 'RI','South Carolina': 'SC','South Dakota': 'SD','Tennessee': 'TN','Texas': 'TX',\n",
    "'Utah': 'UT','Vermont': 'VT','Virginia': 'VA','Washington': 'WA','West Virginia': 'WV', 'Wisconsin': 'WI','Wyoming': 'WY'}\n",
    "\n",
    "weatherdata['STATE'] = weatherdata['STATE'].str.lower().str.title()\n",
    "weatherdata['STATE'] = weatherdata['STATE'].replace(us_state_abbrev, regex=True)"
   ]
  },
  {
   "cell_type": "code",
   "execution_count": null,
   "metadata": {},
   "outputs": [],
   "source": []
  },
  {
   "cell_type": "code",
   "execution_count": 184,
   "metadata": {
    "scrolled": true
   },
   "outputs": [],
   "source": [
    "def val_sort(df,ser,val,clist):\n",
    "    valdf = df.loc[df[ser] == val,]   \n",
    "    valdf['COUNT'] = 1\n",
    "    \n",
    "    for column in valdf:\n",
    "        if column in clist:\n",
    "            del valdf[column]\n",
    "             \n",
    "    valdf = valdf.groupby([\"STATE\"]).sum()\n",
    "    valdf = valdf.reset_index()\n",
    "    \n",
    "    return valdf\n",
    "\n",
    "def map_us(series1,series2,maptitle,bartitle,color):\n",
    "\n",
    "    scl = [[0.0, 'rgb(242,240,247)'],[1.0, color]]\n",
    "\n",
    "    data = [ dict(\n",
    "            type='choropleth',\n",
    "            colorscale = scl,\n",
    "            autocolorscale = False,\n",
    "            locations = series1,\n",
    "            z = series2.astype(float),\n",
    "            locationmode = 'USA-states',\n",
    "            marker = dict(\n",
    "                line = dict (\n",
    "                    color = 'rgb(255,255,255)',\n",
    "                    width = 2\n",
    "                ) ),\n",
    "            colorbar = dict(\n",
    "                title = bartitle)\n",
    "            ) ]\n",
    "\n",
    "    layout = dict(\n",
    "            title = maptitle,\n",
    "            geo = dict(\n",
    "                scope='usa',\n",
    "                projection=dict( type='albers usa' ),\n",
    "                showlakes = True,\n",
    "                lakecolor = 'rgb(255, 255, 255)'),\n",
    "                 )\n",
    "\n",
    "    fig = dict( data=data, layout=layout )\n",
    "    \n",
    "    return fig"
   ]
  },
  {
   "cell_type": "code",
   "execution_count": 197,
   "metadata": {},
   "outputs": [
    {
     "data": {
      "text/html": [
       "<div>\n",
       "<style scoped>\n",
       "    .dataframe tbody tr th:only-of-type {\n",
       "        vertical-align: middle;\n",
       "    }\n",
       "\n",
       "    .dataframe tbody tr th {\n",
       "        vertical-align: top;\n",
       "    }\n",
       "\n",
       "    .dataframe thead th {\n",
       "        text-align: right;\n",
       "    }\n",
       "</style>\n",
       "<table border=\"1\" class=\"dataframe\">\n",
       "  <thead>\n",
       "    <tr style=\"text-align: right;\">\n",
       "      <th></th>\n",
       "      <th>STATE</th>\n",
       "      <th>COUNT</th>\n",
       "    </tr>\n",
       "  </thead>\n",
       "  <tbody>\n",
       "    <tr>\n",
       "      <th>0</th>\n",
       "      <td>AK</td>\n",
       "      <td>31</td>\n",
       "    </tr>\n",
       "    <tr>\n",
       "      <th>1</th>\n",
       "      <td>AL</td>\n",
       "      <td>193</td>\n",
       "    </tr>\n",
       "    <tr>\n",
       "      <th>2</th>\n",
       "      <td>AR</td>\n",
       "      <td>293</td>\n",
       "    </tr>\n",
       "    <tr>\n",
       "      <th>3</th>\n",
       "      <td>AZ</td>\n",
       "      <td>594</td>\n",
       "    </tr>\n",
       "    <tr>\n",
       "      <th>4</th>\n",
       "      <td>American Samoa</td>\n",
       "      <td>67</td>\n",
       "    </tr>\n",
       "  </tbody>\n",
       "</table>\n",
       "</div>"
      ],
      "text/plain": [
       "            STATE  COUNT\n",
       "0              AK     31\n",
       "1              AL    193\n",
       "2              AR    293\n",
       "3              AZ    594\n",
       "4  American Samoa     67"
      ]
     },
     "execution_count": 197,
     "metadata": {},
     "output_type": "execute_result"
    }
   ],
   "source": [
    "cols = ['BEGIN_DATE_TIME', 'END_DATE_TIME','CZ_TYPE', 'EVENT_TYPE', 'EPISODE_ID','EVENT_ID','EVENT_REDUCED', 'CZ_TIMEZONE', 'INJURIES_DIRECT',\n",
    "       'INJURIES_INDIRECT', 'DEATHS_DIRECT', 'DEATHS_INDIRECT','DAMAGE_PROPERTY', 'DAMAGE_CROPS', 'BEGIN_LAT', 'BEGIN_LON']"
   ]
  },
  {
   "cell_type": "code",
   "execution_count": 202,
   "metadata": {
    "scrolled": false
   },
   "outputs": [
    {
     "data": {
      "text/html": [
       "<iframe id=\"igraph\" scrolling=\"no\" style=\"border:none;\" seamless=\"seamless\" src=\"https://plot.ly/~krharps/2.embed\" height=\"525px\" width=\"100%\"></iframe>"
      ],
      "text/plain": [
       "<plotly.tools.PlotlyDisplay object>"
      ]
     },
     "execution_count": 202,
     "metadata": {},
     "output_type": "execute_result"
    }
   ],
   "source": [
    "hailweather = val_sort(weatherdata,'EVENT_REDUCED','Hail',cols)\n",
    "fig = map_us(rainweather['STATE'],rainweather['COUNT'],'Rain Events per State (1950-2017)','Event Total Count', 'rgb(39, 11, 224)')\n",
    "py.iplot(fig, filename='d3-cloropleth-map' )"
   ]
  },
  {
   "cell_type": "code",
   "execution_count": 203,
   "metadata": {
    "scrolled": false,
    "slideshow": {
     "slide_type": "skip"
    }
   },
   "outputs": [
    {
     "data": {
      "text/html": [
       "<iframe id=\"igraph\" scrolling=\"no\" style=\"border:none;\" seamless=\"seamless\" src=\"https://plot.ly/~krharps/2.embed\" height=\"525px\" width=\"100%\"></iframe>"
      ],
      "text/plain": [
       "<plotly.tools.PlotlyDisplay object>"
      ]
     },
     "execution_count": 203,
     "metadata": {},
     "output_type": "execute_result"
    }
   ],
   "source": [
    "rainweather = val_sort(weatherdata,'EVENT_REDUCED','Rain',cols)\n",
    "fig = map_us(hailweather['STATE'],hailweather['COUNT'],'Hail Events per State (1950-2017)','Event Total Count','rgb(229, 41, 216)')\n",
    "py.iplot(fig, filename='d3-cloropleth-map' )"
   ]
  },
  {
   "cell_type": "code",
   "execution_count": 204,
   "metadata": {},
   "outputs": [
    {
     "data": {
      "text/html": [
       "<iframe id=\"igraph\" scrolling=\"no\" style=\"border:none;\" seamless=\"seamless\" src=\"https://plot.ly/~krharps/2.embed\" height=\"525px\" width=\"100%\"></iframe>"
      ],
      "text/plain": [
       "<plotly.tools.PlotlyDisplay object>"
      ]
     },
     "execution_count": 204,
     "metadata": {},
     "output_type": "execute_result"
    }
   ],
   "source": [
    "fireweather = val_sort(weatherdata,'EVENT_REDUCED','Wildfire/Smoke',cols)\n",
    "fig = map_us(fireweather['STATE'],fireweather['COUNT'],'Fire Events per State (1950-2017)','Event Total Count','rgb(229, 121, 13)')\n",
    "py.iplot(fig, filename='d3-cloropleth-map' )"
   ]
  },
  {
   "cell_type": "code",
   "execution_count": 205,
   "metadata": {},
   "outputs": [
    {
     "data": {
      "text/html": [
       "<iframe id=\"igraph\" scrolling=\"no\" style=\"border:none;\" seamless=\"seamless\" src=\"https://plot.ly/~krharps/2.embed\" height=\"525px\" width=\"100%\"></iframe>"
      ],
      "text/plain": [
       "<plotly.tools.PlotlyDisplay object>"
      ]
     },
     "execution_count": 205,
     "metadata": {},
     "output_type": "execute_result"
    }
   ],
   "source": [
    "surgeweather = val_sort(weatherdata,'EVENT_REDUCED','Waves/Surge',cols)\n",
    "fig = map_us(fireweather['STATE'],fireweather['COUNT'],'Surge Events per State (1950-2017)','Event Total Count','rgb(0, 247, 189)')\n",
    "py.iplot(fig, filename='d3-cloropleth-map' )"
   ]
  },
  {
   "cell_type": "code",
   "execution_count": 210,
   "metadata": {},
   "outputs": [
    {
     "data": {
      "text/html": [
       "<iframe id=\"igraph\" scrolling=\"no\" style=\"border:none;\" seamless=\"seamless\" src=\"https://plot.ly/~krharps/2.embed\" height=\"525px\" width=\"100%\"></iframe>"
      ],
      "text/plain": [
       "<plotly.tools.PlotlyDisplay object>"
      ]
     },
     "execution_count": 210,
     "metadata": {},
     "output_type": "execute_result"
    }
   ],
   "source": [
    "droughtweather = val_sort(weatherdata,'EVENT_REDUCED','Drought',cols)\n",
    "fig = map_us(droughtweather['STATE'],droughtweather['COUNT'],'Drought Events per State (1950-2017)','Event Total Count','rgb(96, 57, 33)')\n",
    "py.iplot(fig, filename='d3-cloropleth-map' )"
   ]
  },
  {
   "cell_type": "code",
   "execution_count": 208,
   "metadata": {},
   "outputs": [],
   "source": [
    "nevada = weatherdata.loc[weatherdata['STATE'] == 'Nevada']\n",
    "nevada['EVENT_TYPE'].unique()"
   ]
  },
  {
   "cell_type": "code",
   "execution_count": null,
   "metadata": {},
   "outputs": [],
   "source": []
  },
  {
   "cell_type": "code",
   "execution_count": 218,
   "metadata": {},
   "outputs": [],
   "source": [
    "from bokeh.io import show\n",
    "from bokeh.models import ColumnDataSource\n",
    "from bokeh.plotting import figure\n",
    "\n",
    "\n",
    "longitude  = [44.990961]\n",
    "latitude = [41.552164]\n",
    "\n",
    "source = ColumnDataSource(data=dict(longitude=longitude, latitude=latitude))\n",
    "\n",
    "p = figure(plot_width=400, plot_height=400)\n",
    "p.circle(x='longitude', y='latitude', source=source)\n",
    "show(p)"
   ]
  },
  {
   "cell_type": "code",
   "execution_count": null,
   "metadata": {},
   "outputs": [],
   "source": []
  }
 ],
 "metadata": {
  "kernelspec": {
   "display_name": "Python 3",
   "language": "python",
   "name": "python3"
  },
  "language_info": {
   "codemirror_mode": {
    "name": "ipython",
    "version": 3
   },
   "file_extension": ".py",
   "mimetype": "text/x-python",
   "name": "python",
   "nbconvert_exporter": "python",
   "pygments_lexer": "ipython3",
   "version": "3.6.5"
  }
 },
 "nbformat": 4,
 "nbformat_minor": 2
}
