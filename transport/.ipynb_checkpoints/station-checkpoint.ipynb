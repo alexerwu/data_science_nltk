{
 "cells": [
  {
   "cell_type": "code",
   "execution_count": 82,
   "metadata": {},
   "outputs": [],
   "source": [
    "import pandas as pd\n",
    "import matplotlib.pyplot as plt"
   ]
  },
  {
   "cell_type": "code",
   "execution_count": 83,
   "metadata": {},
   "outputs": [
    {
     "data": {
      "text/html": [
       "<div>\n",
       "<style scoped>\n",
       "    .dataframe tbody tr th:only-of-type {\n",
       "        vertical-align: middle;\n",
       "    }\n",
       "\n",
       "    .dataframe tbody tr th {\n",
       "        vertical-align: top;\n",
       "    }\n",
       "\n",
       "    .dataframe thead th {\n",
       "        text-align: right;\n",
       "    }\n",
       "</style>\n",
       "<table border=\"1\" class=\"dataframe\">\n",
       "  <thead>\n",
       "    <tr style=\"text-align: right;\">\n",
       "      <th></th>\n",
       "      <th>bearing</th>\n",
       "      <th>delay</th>\n",
       "      <th>timestamp</th>\n",
       "      <th>lastLocID</th>\n",
       "      <th>lastStopSeq</th>\n",
       "      <th>nextLocID</th>\n",
       "      <th>nextStopSeq</th>\n",
       "      <th>signMessageLong</th>\n",
       "      <th>tripID</th>\n",
       "      <th>vehicle_id</th>\n",
       "      <th>long</th>\n",
       "      <th>lat</th>\n",
       "    </tr>\n",
       "  </thead>\n",
       "  <tbody>\n",
       "    <tr>\n",
       "      <th>0</th>\n",
       "      <td>42</td>\n",
       "      <td>-138</td>\n",
       "      <td>2017-01-01 00:05:35</td>\n",
       "      <td>10572</td>\n",
       "      <td>23</td>\n",
       "      <td>10574</td>\n",
       "      <td>24</td>\n",
       "      <td>MAX  Red Line to Airport</td>\n",
       "      <td>6997146</td>\n",
       "      <td>416</td>\n",
       "      <td>-122.563200</td>\n",
       "      <td>45.560901</td>\n",
       "    </tr>\n",
       "    <tr>\n",
       "      <th>1</th>\n",
       "      <td>270</td>\n",
       "      <td>-107</td>\n",
       "      <td>2017-01-01 00:07:26</td>\n",
       "      <td>10574</td>\n",
       "      <td>24</td>\n",
       "      <td>10576</td>\n",
       "      <td>25</td>\n",
       "      <td>MAX  Red Line to Airport</td>\n",
       "      <td>6997146</td>\n",
       "      <td>416</td>\n",
       "      <td>-122.561480</td>\n",
       "      <td>45.572588</td>\n",
       "    </tr>\n",
       "    <tr>\n",
       "      <th>2</th>\n",
       "      <td>299</td>\n",
       "      <td>-138</td>\n",
       "      <td>2017-01-01 00:10:39</td>\n",
       "      <td>10576</td>\n",
       "      <td>25</td>\n",
       "      <td>10579</td>\n",
       "      <td>26</td>\n",
       "      <td>MAX  Red Line to Airport</td>\n",
       "      <td>6997146</td>\n",
       "      <td>416</td>\n",
       "      <td>-122.571721</td>\n",
       "      <td>45.580453</td>\n",
       "    </tr>\n",
       "    <tr>\n",
       "      <th>3</th>\n",
       "      <td>1</td>\n",
       "      <td>-136</td>\n",
       "      <td>2017-01-01 00:04:51</td>\n",
       "      <td>11616</td>\n",
       "      <td>22</td>\n",
       "      <td>10572</td>\n",
       "      <td>23</td>\n",
       "      <td>MAX  Red Line to Airport</td>\n",
       "      <td>6997146</td>\n",
       "      <td>416</td>\n",
       "      <td>-122.567106</td>\n",
       "      <td>45.556137</td>\n",
       "    </tr>\n",
       "    <tr>\n",
       "      <th>4</th>\n",
       "      <td>42</td>\n",
       "      <td>-138</td>\n",
       "      <td>2017-01-01 00:05:35</td>\n",
       "      <td>10572</td>\n",
       "      <td>23</td>\n",
       "      <td>10574</td>\n",
       "      <td>24</td>\n",
       "      <td>MAX  Red Line to Airport</td>\n",
       "      <td>6997146</td>\n",
       "      <td>417</td>\n",
       "      <td>-122.563200</td>\n",
       "      <td>45.560901</td>\n",
       "    </tr>\n",
       "  </tbody>\n",
       "</table>\n",
       "</div>"
      ],
      "text/plain": [
       "   bearing  delay            timestamp  lastLocID  lastStopSeq  nextLocID  \\\n",
       "0       42   -138  2017-01-01 00:05:35      10572           23      10574   \n",
       "1      270   -107  2017-01-01 00:07:26      10574           24      10576   \n",
       "2      299   -138  2017-01-01 00:10:39      10576           25      10579   \n",
       "3        1   -136  2017-01-01 00:04:51      11616           22      10572   \n",
       "4       42   -138  2017-01-01 00:05:35      10572           23      10574   \n",
       "\n",
       "   nextStopSeq           signMessageLong   tripID  vehicle_id        long  \\\n",
       "0           24  MAX  Red Line to Airport  6997146         416 -122.563200   \n",
       "1           25  MAX  Red Line to Airport  6997146         416 -122.561480   \n",
       "2           26  MAX  Red Line to Airport  6997146         416 -122.571721   \n",
       "3           23  MAX  Red Line to Airport  6997146         416 -122.567106   \n",
       "4           24  MAX  Red Line to Airport  6997146         417 -122.563200   \n",
       "\n",
       "         lat  \n",
       "0  45.560901  \n",
       "1  45.572588  \n",
       "2  45.580453  \n",
       "3  45.556137  \n",
       "4  45.560901  "
      ]
     },
     "execution_count": 83,
     "metadata": {},
     "output_type": "execute_result"
    }
   ],
   "source": [
    "transport = pd.read_csv('events_month.csv')\n",
    "transport.rename(columns={'vehicle_location_longitude':'long','vehicle_location_latitude':'lat'}, inplace=True)\n",
    "transport.head()"
   ]
  },
  {
   "cell_type": "code",
   "execution_count": 104,
   "metadata": {},
   "outputs": [
    {
     "data": {
      "text/html": [
       "<div>\n",
       "<style scoped>\n",
       "    .dataframe tbody tr th:only-of-type {\n",
       "        vertical-align: middle;\n",
       "    }\n",
       "\n",
       "    .dataframe tbody tr th {\n",
       "        vertical-align: top;\n",
       "    }\n",
       "\n",
       "    .dataframe thead th {\n",
       "        text-align: right;\n",
       "    }\n",
       "</style>\n",
       "<table border=\"1\" class=\"dataframe\">\n",
       "  <thead>\n",
       "    <tr style=\"text-align: right;\">\n",
       "      <th></th>\n",
       "      <th>bearing</th>\n",
       "      <th>delay</th>\n",
       "      <th>timestamp</th>\n",
       "      <th>lastLocID</th>\n",
       "      <th>lastStopSeq</th>\n",
       "      <th>nextLocID</th>\n",
       "      <th>nextStopSeq</th>\n",
       "      <th>signMessageLong</th>\n",
       "      <th>tripID</th>\n",
       "      <th>vehicle_id</th>\n",
       "      <th>long</th>\n",
       "      <th>lat</th>\n",
       "    </tr>\n",
       "  </thead>\n",
       "  <tbody>\n",
       "  </tbody>\n",
       "</table>\n",
       "</div>"
      ],
      "text/plain": [
       "Empty DataFrame\n",
       "Columns: [bearing, delay, timestamp, lastLocID, lastStopSeq, nextLocID, nextStopSeq, signMessageLong, tripID, vehicle_id, long, lat]\n",
       "Index: []"
      ]
     },
     "execution_count": 104,
     "metadata": {},
     "output_type": "execute_result"
    }
   ],
   "source": [
    "transport.loc[transport.vehicle_id == 416]"
   ]
  },
  {
   "cell_type": "code",
   "execution_count": 106,
   "metadata": {},
   "outputs": [
    {
     "data": {
      "text/plain": [
       "array(['MAX  Red Line to Airport',\n",
       "       'MAX  Red Line to City Center & Beaverton',\n",
       "       'MAX  Blue Line to Gresham',\n",
       "       'MAX  Blue Line to Ruby Junction/E 197th Ave',\n",
       "       'MAX  Blue Line to Elmonica/170th', 'MAX  Blue Line to Hillsboro',\n",
       "       'MAX  Blue Line to Willow Creek/SW 185th Ave',\n",
       "       'MAX  Yellow Line to Expo Center',\n",
       "       'MAX  Yellow Line to City Center/Milwaukie',\n",
       "       'MAX  Yellow Line to Interstate/Rose Quarter',\n",
       "       'MAX  Green Line to Clackamas Town Center',\n",
       "       'MAX  Green Line to Gateway TC',\n",
       "       'MAX  Green Line to City Center/PSU',\n",
       "       'MAX  Orange Line to City Center/Expo Center',\n",
       "       'MAX  Orange Line to City Center/PSU',\n",
       "       'MAX  Orange Line to Milwaukie', 'MAX  Blue Line to Gateway TC',\n",
       "       'MAX  Blue Line to City Center', 'MAX  Blue Line to Rose Qtr',\n",
       "       'MAX  To City Center', 'MAX  Yellow Line to City Center/PSU'],\n",
       "      dtype=object)"
      ]
     },
     "execution_count": 106,
     "metadata": {},
     "output_type": "execute_result"
    }
   ],
   "source": [
    "len(transport.signMessageLong.unique())\n",
    "transport.signMessageLong.unique()"
   ]
  },
  {
   "cell_type": "code",
   "execution_count": 142,
   "metadata": {},
   "outputs": [
    {
     "data": {
      "image/png": "[encoded data removed]",
      "text/plain": [
       "<Figure size 432x288 with 1 Axes>"
      ]
     },
     "metadata": {},
     "output_type": "display_data"
    }
   ],
   "source": [
    "transport['delay'].hist()\n",
    "plt.title('Delays')\n",
    "plt.show()"
   ]
  },
  {
   "cell_type": "code",
   "execution_count": 87,
   "metadata": {},
   "outputs": [],
   "source": [
    "vehicle = transport.groupby(['vehicle_id']).mean().add_suffix('_avg').reset_index()"
   ]
  },
  {
   "cell_type": "code",
   "execution_count": 88,
   "metadata": {},
   "outputs": [
    {
     "name": "stdout",
     "output_type": "stream",
     "text": [
      "<class 'pandas.core.frame.DataFrame'>\n",
      "RangeIndex: 140 entries, 0 to 139\n",
      "Data columns (total 10 columns):\n",
      "vehicle_id         140 non-null int64\n",
      "bearing_avg        140 non-null float64\n",
      "delay_avg          140 non-null float64\n",
      "lastLocID_avg      140 non-null float64\n",
      "lastStopSeq_avg    140 non-null float64\n",
      "nextLocID_avg      140 non-null float64\n",
      "nextStopSeq_avg    140 non-null float64\n",
      "tripID_avg         140 non-null float64\n",
      "long_avg           140 non-null float64\n",
      "lat_avg            140 non-null float64\n",
      "dtypes: float64(9), int64(1)\n",
      "memory usage: 11.0 KB\n"
     ]
    }
   ],
   "source": [
    "vehicle.info()"
   ]
  },
  {
   "cell_type": "code",
   "execution_count": 89,
   "metadata": {},
   "outputs": [],
   "source": [
    "station = transport.groupby(['nextLocID']).mean().reset_index()"
   ]
  },
  {
   "cell_type": "code",
   "execution_count": 90,
   "metadata": {},
   "outputs": [
    {
     "data": {
      "text/html": [
       "<div>\n",
       "<style scoped>\n",
       "    .dataframe tbody tr th:only-of-type {\n",
       "        vertical-align: middle;\n",
       "    }\n",
       "\n",
       "    .dataframe tbody tr th {\n",
       "        vertical-align: top;\n",
       "    }\n",
       "\n",
       "    .dataframe thead th {\n",
       "        text-align: right;\n",
       "    }\n",
       "</style>\n",
       "<table border=\"1\" class=\"dataframe\">\n",
       "  <thead>\n",
       "    <tr style=\"text-align: right;\">\n",
       "      <th></th>\n",
       "      <th>nextLocID</th>\n",
       "      <th>bearing</th>\n",
       "      <th>delay</th>\n",
       "      <th>lastLocID</th>\n",
       "      <th>lastStopSeq</th>\n",
       "      <th>nextStopSeq</th>\n",
       "      <th>tripID</th>\n",
       "      <th>vehicle_id</th>\n",
       "      <th>long</th>\n",
       "      <th>lat</th>\n",
       "    </tr>\n",
       "  </thead>\n",
       "  <tbody>\n",
       "    <tr>\n",
       "      <th>0</th>\n",
       "      <td>7601</td>\n",
       "      <td>191.105277</td>\n",
       "      <td>-138.924027</td>\n",
       "      <td>9685.979786</td>\n",
       "      <td>12.328042</td>\n",
       "      <td>12.424773</td>\n",
       "      <td>7.092401e+06</td>\n",
       "      <td>313.683218</td>\n",
       "      <td>-122.667438</td>\n",
       "      <td>45.529701</td>\n",
       "    </tr>\n",
       "    <tr>\n",
       "      <th>1</th>\n",
       "      <td>7606</td>\n",
       "      <td>201.699018</td>\n",
       "      <td>-138.665108</td>\n",
       "      <td>7618.000000</td>\n",
       "      <td>8.288120</td>\n",
       "      <td>9.288120</td>\n",
       "      <td>7.095517e+06</td>\n",
       "      <td>314.682180</td>\n",
       "      <td>-122.682648</td>\n",
       "      <td>45.509532</td>\n",
       "    </tr>\n",
       "    <tr>\n",
       "      <th>2</th>\n",
       "      <td>7608</td>\n",
       "      <td>200.977266</td>\n",
       "      <td>-177.584999</td>\n",
       "      <td>7646.000000</td>\n",
       "      <td>11.009557</td>\n",
       "      <td>12.009557</td>\n",
       "      <td>7.090838e+06</td>\n",
       "      <td>309.957718</td>\n",
       "      <td>-122.677951</td>\n",
       "      <td>45.518049</td>\n",
       "    </tr>\n",
       "    <tr>\n",
       "      <th>3</th>\n",
       "      <td>7618</td>\n",
       "      <td>200.000000</td>\n",
       "      <td>-84.801597</td>\n",
       "      <td>7608.000000</td>\n",
       "      <td>12.009556</td>\n",
       "      <td>13.009556</td>\n",
       "      <td>7.090843e+06</td>\n",
       "      <td>309.424618</td>\n",
       "      <td>-122.680413</td>\n",
       "      <td>45.513548</td>\n",
       "    </tr>\n",
       "    <tr>\n",
       "      <th>4</th>\n",
       "      <td>7627</td>\n",
       "      <td>178.241143</td>\n",
       "      <td>-155.714000</td>\n",
       "      <td>9303.000000</td>\n",
       "      <td>9.013714</td>\n",
       "      <td>10.013714</td>\n",
       "      <td>7.090927e+06</td>\n",
       "      <td>309.027429</td>\n",
       "      <td>-122.675427</td>\n",
       "      <td>45.523503</td>\n",
       "    </tr>\n",
       "  </tbody>\n",
       "</table>\n",
       "</div>"
      ],
      "text/plain": [
       "   nextLocID     bearing       delay    lastLocID  lastStopSeq  nextStopSeq  \\\n",
       "0       7601  191.105277 -138.924027  9685.979786    12.328042    12.424773   \n",
       "1       7606  201.699018 -138.665108  7618.000000     8.288120     9.288120   \n",
       "2       7608  200.977266 -177.584999  7646.000000    11.009557    12.009557   \n",
       "3       7618  200.000000  -84.801597  7608.000000    12.009556    13.009556   \n",
       "4       7627  178.241143 -155.714000  9303.000000     9.013714    10.013714   \n",
       "\n",
       "         tripID  vehicle_id        long        lat  \n",
       "0  7.092401e+06  313.683218 -122.667438  45.529701  \n",
       "1  7.095517e+06  314.682180 -122.682648  45.509532  \n",
       "2  7.090838e+06  309.957718 -122.677951  45.518049  \n",
       "3  7.090843e+06  309.424618 -122.680413  45.513548  \n",
       "4  7.090927e+06  309.027429 -122.675427  45.523503  "
      ]
     },
     "execution_count": 90,
     "metadata": {},
     "output_type": "execute_result"
    }
   ],
   "source": [
    "station.head()"
   ]
  },
  {
   "cell_type": "code",
   "execution_count": 97,
   "metadata": {},
   "outputs": [
    {
     "data": {
      "text/plain": [
       "0      138.924027\n",
       "1      138.665108\n",
       "2      177.584999\n",
       "3       84.801597\n",
       "4      155.714000\n",
       "5      163.650528\n",
       "6      160.353831\n",
       "7      115.668599\n",
       "8      151.997465\n",
       "9      182.883074\n",
       "10     100.132231\n",
       "11      96.971593\n",
       "12      29.865561\n",
       "13      98.618693\n",
       "14      83.068887\n",
       "15     125.381944\n",
       "16     108.725596\n",
       "17     132.334318\n",
       "18     161.644727\n",
       "19     157.429234\n",
       "20     148.874965\n",
       "21     163.367786\n",
       "22     168.832436\n",
       "23     190.213323\n",
       "24     203.474936\n",
       "25     301.370378\n",
       "26     258.793010\n",
       "27     308.792501\n",
       "28     317.621633\n",
       "29     295.345125\n",
       "          ...    \n",
       "142    112.319338\n",
       "143     82.665583\n",
       "144     76.265532\n",
       "145     32.890714\n",
       "146     10.523724\n",
       "147     73.569628\n",
       "148     19.975652\n",
       "149     28.675926\n",
       "150    314.327298\n",
       "151     12.428571\n",
       "152     94.266559\n",
       "153     72.628971\n",
       "154    168.221234\n",
       "155    191.793531\n",
       "156    200.690289\n",
       "157    213.822440\n",
       "158    210.914905\n",
       "159    196.663597\n",
       "160    178.788702\n",
       "161    128.320519\n",
       "162     63.464251\n",
       "163     89.954901\n",
       "164     80.976813\n",
       "165    102.052504\n",
       "166    117.708513\n",
       "167    131.430923\n",
       "168    113.183957\n",
       "169    127.847942\n",
       "170     79.190832\n",
       "171     53.979592\n",
       "Name: delay, Length: 172, dtype: float64"
      ]
     },
     "execution_count": 97,
     "metadata": {},
     "output_type": "execute_result"
    }
   ],
   "source": [
    "station.delay = station.delay*(-1)"
   ]
  },
  {
   "cell_type": "code",
   "execution_count": 140,
   "metadata": {},
   "outputs": [
    {
     "data": {
      "text/html": [
       "<iframe id=\"igraph\" scrolling=\"no\" style=\"border:none;\" seamless=\"seamless\" src=\"https://plot.ly/~krharps/5.embed\" height=\"525px\" width=\"100%\"></iframe>"
      ],
      "text/plain": [
       "<plotly.tools.PlotlyDisplay object>"
      ]
     },
     "execution_count": 140,
     "metadata": {},
     "output_type": "execute_result"
    }
   ],
   "source": [
    "station['text'] = station['nextLocID'].astype(str)\n",
    "\n",
    "scl = [ [0,\"rgb(5, 10, 172)\"],[0.35,\"rgb(40, 60, 190)\"],[0.5,\"rgb(70, 100, 245)\"],\\\n",
    "    [0.6,\"rgb(90, 120, 245)\"],[0.7,\"rgb(106, 137, 247)\"],[1,\"rgb(220, 220, 220)\"] ]\n",
    "\n",
    "data = [ dict(\n",
    "        type = 'scattergeo',\n",
    "        locationmode = 'USA-states',\n",
    "        lon = station['long'],\n",
    "        lat = station['lat'],\n",
    "        text = station['text'],\n",
    "        mode = 'markers',\n",
    "        marker = dict(\n",
    "            size = 8,\n",
    "            opacity = 0.8,\n",
    "            reversescale = True,\n",
    "            autocolorscale = False,\n",
    "            symbol = 'circle',\n",
    "            line = dict(\n",
    "                width=1,\n",
    "                color='rgba(102, 102, 102)'\n",
    "            ),\n",
    "            colorscale = scl,\n",
    "            cmin = 0,\n",
    "            color = station['delay'],\n",
    "            cmax = station['delay'].max(),\n",
    "            colorbar=dict(\n",
    "                title=\"Incoming flightsFebruary 2011\"\n",
    "            )\n",
    "        ))]\n",
    "\n",
    "layout = dict(\n",
    "        title = 'Most trafficked US airports<br>(Hover for airport names)',\n",
    "        colorbar = True,\n",
    "        geo = dict(\n",
    "            scope='usa',\n",
    "            showland = True,\n",
    "            showrivers= True,\n",
    "            landcolor = \"rgb(250, 250, 250)\",\n",
    "            subunitcolor = \"rgb(217, 217, 217)\",\n",
    "            countrycolor = \"rgb(217, 217, 217)\",\n",
    "            countrywidth = 0.5,\n",
    "            subunitwidth = 0.5\n",
    "        ),\n",
    "    )\n",
    "\n",
    "fig = dict( data=data, layout=layout )\n",
    "py.iplot( fig, validate=False, filename='d3-airports' )"
   ]
  },
  {
   "cell_type": "code",
   "execution_count": null,
   "metadata": {},
   "outputs": [],
   "source": []
  },
  {
   "cell_type": "code",
   "execution_count": 143,
   "metadata": {},
   "outputs": [
    {
     "ename": "ImportError",
     "evalue": "geopandas, pyshp and shapely must be installed for this figure factory.\n\nRun the following commands to install the correct versions of the following modules:\n\n`pip install geopandas==0.3.0`\n`pip install pyshp==1.2.10`\n`pip install shapely==1.6.3`\n\nIf you are using Windows, follow this post to properly install geopandas and dependencies:http://geoffboeing.com/2014/09/using-geopandas-windows/",
     "output_type": "error",
     "traceback": [
      "\u001b[0;31m---------------------------------------------------------------------------\u001b[0m",
      "\u001b[0;31mImportError\u001b[0m                               Traceback (most recent call last)",
      "\u001b[0;32m<ipython-input-143-f180581aacb7>\u001b[0m in \u001b[0;36m<module>\u001b[0;34m()\u001b[0m\n\u001b[1;32m     24\u001b[0m     \u001b[0mbinning_endpoints\u001b[0m\u001b[0;34m=\u001b[0m\u001b[0;34m[\u001b[0m\u001b[0;36m14348\u001b[0m\u001b[0;34m,\u001b[0m \u001b[0;36m63983\u001b[0m\u001b[0;34m,\u001b[0m \u001b[0;36m134827\u001b[0m\u001b[0;34m,\u001b[0m \u001b[0;36m426762\u001b[0m\u001b[0;34m,\u001b[0m \u001b[0;36m2081313\u001b[0m\u001b[0;34m]\u001b[0m\u001b[0;34m,\u001b[0m \u001b[0mcolorscale\u001b[0m\u001b[0;34m=\u001b[0m\u001b[0mcolorscale\u001b[0m\u001b[0;34m,\u001b[0m\u001b[0;34m\u001b[0m\u001b[0m\n\u001b[1;32m     25\u001b[0m     \u001b[0mcounty_outline\u001b[0m\u001b[0;34m=\u001b[0m\u001b[0;34m{\u001b[0m\u001b[0;34m'color'\u001b[0m\u001b[0;34m:\u001b[0m \u001b[0;34m'rgb(255,255,255)'\u001b[0m\u001b[0;34m,\u001b[0m \u001b[0;34m'width'\u001b[0m\u001b[0;34m:\u001b[0m \u001b[0;36m0.5\u001b[0m\u001b[0;34m}\u001b[0m\u001b[0;34m,\u001b[0m \u001b[0mround_legend_values\u001b[0m\u001b[0;34m=\u001b[0m\u001b[0;32mTrue\u001b[0m\u001b[0;34m,\u001b[0m\u001b[0;34m\u001b[0m\u001b[0m\n\u001b[0;32m---> 26\u001b[0;31m     \u001b[0mlegend_title\u001b[0m\u001b[0;34m=\u001b[0m\u001b[0;34m'Population by County'\u001b[0m\u001b[0;34m,\u001b[0m \u001b[0mtitle\u001b[0m\u001b[0;34m=\u001b[0m\u001b[0;34m'California and Nearby States'\u001b[0m\u001b[0;34m\u001b[0m\u001b[0m\n\u001b[0m\u001b[1;32m     27\u001b[0m )\n\u001b[1;32m     28\u001b[0m \u001b[0mpy\u001b[0m\u001b[0;34m.\u001b[0m\u001b[0miplot\u001b[0m\u001b[0;34m(\u001b[0m\u001b[0mfig\u001b[0m\u001b[0;34m,\u001b[0m \u001b[0mfilename\u001b[0m\u001b[0;34m=\u001b[0m\u001b[0;34m'choropleth_california_and_surr_states_outlines'\u001b[0m\u001b[0;34m)\u001b[0m\u001b[0;34m\u001b[0m\u001b[0m\n",
      "\u001b[0;32m~/anaconda3/lib/python3.6/site-packages/plotly/figure_factory/_county_choropleth.py\u001b[0m in \u001b[0;36mcreate_choropleth\u001b[0;34m(fips, values, scope, binning_endpoints, colorscale, order, simplify_county, simplify_state, asp, show_hover, show_state_data, state_outline, county_outline, centroid_marker, round_legend_values, exponent_format, legend_title, **layout_options)\u001b[0m\n\u001b[1;32m    563\u001b[0m     \u001b[0;32mif\u001b[0m \u001b[0;32mnot\u001b[0m \u001b[0mgp\u001b[0m \u001b[0;32mor\u001b[0m \u001b[0;32mnot\u001b[0m \u001b[0mshapefile\u001b[0m \u001b[0;32mor\u001b[0m \u001b[0;32mnot\u001b[0m \u001b[0mshapely\u001b[0m\u001b[0;34m:\u001b[0m\u001b[0;34m\u001b[0m\u001b[0m\n\u001b[1;32m    564\u001b[0m         raise ImportError(\n\u001b[0;32m--> 565\u001b[0;31m             \u001b[0;34m\"geopandas, pyshp and shapely must be installed for this figure \"\u001b[0m\u001b[0;34m\u001b[0m\u001b[0m\n\u001b[0m\u001b[1;32m    566\u001b[0m             \u001b[0;34m\"factory.\\n\\nRun the following commands to install the correct \"\u001b[0m\u001b[0;34m\u001b[0m\u001b[0m\n\u001b[1;32m    567\u001b[0m             \u001b[0;34m\"versions of the following modules:\\n\\n\"\u001b[0m\u001b[0;34m\u001b[0m\u001b[0m\n",
      "\u001b[0;31mImportError\u001b[0m: geopandas, pyshp and shapely must be installed for this figure factory.\n\nRun the following commands to install the correct versions of the following modules:\n\n`pip install geopandas==0.3.0`\n`pip install pyshp==1.2.10`\n`pip install shapely==1.6.3`\n\nIf you are using Windows, follow this post to properly install geopandas and dependencies:http://geoffboeing.com/2014/09/using-geopandas-windows/"
     ]
    }
   ],
   "source": [
    "import plotly.plotly as py\n",
    "import plotly.figure_factory as ff\n",
    "\n",
    "import numpy as np\n",
    "import pandas as pd\n",
    "\n",
    "df_sample = pd.read_csv('https://raw.githubusercontent.com/plotly/datasets/master/minoritymajority.csv')\n",
    "df_sample_r = df_sample[df_sample['STNAME'] == 'California']\n",
    "\n",
    "values = df_sample_r['TOT_POP'].tolist()\n",
    "fips = df_sample_r['FIPS'].tolist()\n",
    "\n",
    "colorscale = [\n",
    "    'rgb(193, 193, 193)',\n",
    "    'rgb(239,239,239)',\n",
    "    'rgb(195, 196, 222)',\n",
    "    'rgb(144,148,194)',\n",
    "    'rgb(101,104,168)',\n",
    "    'rgb(65, 53, 132)'\n",
    "]\n",
    "\n",
    "fig = ff.create_choropleth(\n",
    "    fips=fips, values=values, scope=['CA', 'AZ', 'Nevada', 'Oregon', ' Idaho'],\n",
    "    binning_endpoints=[14348, 63983, 134827, 426762, 2081313], colorscale=colorscale,\n",
    "    county_outline={'color': 'rgb(255,255,255)', 'width': 0.5}, round_legend_values=True,\n",
    "    legend_title='Population by County', title='California and Nearby States'\n",
    ")\n",
    "py.iplot(fig, filename='choropleth_california_and_surr_states_outlines')"
   ]
  },
  {
   "cell_type": "code",
   "execution_count": null,
   "metadata": {},
   "outputs": [],
   "source": []
  }
 ],
 "metadata": {
  "kernelspec": {
   "display_name": "Python 3",
   "language": "python",
   "name": "python3"
  },
  "language_info": {
   "codemirror_mode": {
    "name": "ipython",
    "version": 3
   },
   "file_extension": ".py",
   "mimetype": "text/x-python",
   "name": "python",
   "nbconvert_exporter": "python",
   "pygments_lexer": "ipython3",
   "version": "3.6.5"
  }
 },
 "nbformat": 4,
 "nbformat_minor": 2
}
