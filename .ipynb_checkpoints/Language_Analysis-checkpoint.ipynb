{
 "cells": [
  {
   "cell_type": "markdown",
   "metadata": {},
   "source": [
    "# Code for Language Analysis of toxic comments in game review forums"
   ]
  },
  {
   "cell_type": "markdown",
   "metadata": {},
   "source": [
    "#### Import nltk, matplotlib, pandas, and numpy:"
   ]
  },
  {
   "cell_type": "code",
   "execution_count": 1,
   "metadata": {},
   "outputs": [
    {
     "name": "stdout",
     "output_type": "stream",
     "text": [
      "test\n"
     ]
    }
   ],
   "source": [
    "import nltk\n",
    "\n",
    "# remove warnings\n",
    "import warnings\n",
    "warnings.filterwarnings('ignore')\n",
    "# ---\n",
    "\n",
    "# set matplotlib environment and import some basics\n",
    "%matplotlib inline\n",
    "from matplotlib import pyplot as plt\n",
    "import matplotlib\n",
    "matplotlib.style.use('ggplot')\n",
    "import numpy as np\n",
    "import pandas as pd\n",
    "\n",
    "print('test')"
   ]
  },
  {
   "cell_type": "markdown",
   "metadata": {},
   "source": [
    "\n",
    "#### Sets dimensions of pandas table:"
   ]
  },
  {
   "cell_type": "code",
   "execution_count": 2,
   "metadata": {},
   "outputs": [
    {
     "name": "stdout",
     "output_type": "stream",
     "text": [
      "test\n"
     ]
    }
   ],
   "source": [
    "pd.options.display.max_columns = 100\n",
    "pd.options.display.max_rows = 100\n",
    "pd.options.display.max_colwidth = 100 # set to -1 to see entire text\n",
    "\n",
    "print('test')"
   ]
  },
  {
   "cell_type": "markdown",
   "metadata": {},
   "source": [
    "#### Loads documents (false/true determines data length):"
   ]
  },
  {
   "cell_type": "code",
   "execution_count": 3,
   "metadata": {},
   "outputs": [
    {
     "name": "stdout",
     "output_type": "stream",
     "text": [
      "hello\n"
     ]
    }
   ],
   "source": [
    "if True:\n",
    "    # comment filename\n",
    "    commentfile = 'toxicity_annotated_comments_unanimous.tsv'\n",
    "    # rating filename\n",
    "    ratingfile = 'toxicity_annotations_unanimous.tsv'\n",
    "\n",
    "# full data set\n",
    "    # comment filename\n",
    "    commentfile = 'toxicity_annotated_comments.tsv'\n",
    "    # rating filename\n",
    "    ratingfile = 'toxicity_annotations.tsv'\n",
    "\n",
    "print('hello')"
   ]
  },
  {
   "cell_type": "markdown",
   "metadata": {},
   "source": [
    "#### Read Documents and store Pandas \"Dataframe\" type to variable:"
   ]
  },
  {
   "cell_type": "code",
   "execution_count": 4,
   "metadata": {},
   "outputs": [
    {
     "name": "stdout",
     "output_type": "stream",
     "text": [
      "<class 'pandas.core.frame.DataFrame'>\n",
      "test\n"
     ]
    }
   ],
   "source": [
    "# load annotated comments\n",
    "commentdata = pd.read_table(commentfile)\n",
    "ratingdata = pd.read_table(ratingfile)\n",
    "\n",
    "# remove weird tab/newline TOKEN text\n",
    "commentdata['comment'] = commentdata['comment'].str.replace('NEWLINE_TOKEN',' ')\n",
    "commentdata['comment'] = commentdata['comment'].str.replace('TAB_TOKEN',' ')\n",
    "\n",
    "print(type(commentdata))\n",
    "print('test')"
   ]
  },
  {
   "cell_type": "markdown",
   "metadata": {},
   "source": [
    "#### Check shape of DataFrame:"
   ]
  },
  {
   "cell_type": "code",
   "execution_count": 5,
   "metadata": {},
   "outputs": [
    {
     "name": "stdout",
     "output_type": "stream",
     "text": [
      "commentdata.shape =  (159686, 7)\n",
      "ratingdata.shape =  (1598289, 4)\n",
      "test\n"
     ]
    }
   ],
   "source": [
    "# show shape of each data set\n",
    "print(\"commentdata.shape = \",commentdata.shape)\n",
    "print(\"ratingdata.shape = \",ratingdata.shape)\n",
    "print('test')"
   ]
  },
  {
   "cell_type": "markdown",
   "metadata": {},
   "source": [
    "#### Count Punctuation Function:"
   ]
  },
  {
   "cell_type": "code",
   "execution_count": 6,
   "metadata": {},
   "outputs": [
    {
     "name": "stdout",
     "output_type": "stream",
     "text": [
      "test\n"
     ]
    }
   ],
   "source": [
    "from string import punctuation\n",
    "from collections import Counter\n",
    "\n",
    "def punc_count(string_value):\n",
    "    count = 0\n",
    "    for c in string_value:\n",
    "        if c in punctuation:\n",
    "            count+= 1\n",
    "    punc_perc = len(string_value)\n",
    "    if punc_perc != 0:\n",
    "        punc_perc = float(count / punc_perc) * 100\n",
    "    else:\n",
    "        punc_perc = 0\n",
    "    \n",
    "    return punc_perc\n",
    "\n",
    "print('test')"
   ]
  },
  {
   "cell_type": "markdown",
   "metadata": {},
   "source": [
    "#### Add and manipulate data columns:"
   ]
  },
  {
   "cell_type": "code",
   "execution_count": 7,
   "metadata": {},
   "outputs": [
    {
     "name": "stdout",
     "output_type": "stream",
     "text": [
      "test\n"
     ]
    }
   ],
   "source": [
    "# group all scores by comment ID for each text sample, add mean and median score columns to comment data \n",
    "commentdata[\"mean_score\"] = pd.Series(ratingdata.groupby(\"rev_id\",as_index=False).mean()[\"toxicity_score\"])\n",
    "commentdata[\"median_score\"] = pd.Series(ratingdata.groupby(\"rev_id\",as_index=False).median()[\"toxicity_score\"])\n",
    "\n",
    "# Add columns for comment length and punctuation count\n",
    "commentdata[\"com_len\"] = pd.Series(commentdata[\"comment\"].str.len())\n",
    "commentdata[\"pun_per\"] = pd.Series(commentdata[\"comment\"].apply(punc_count))\n",
    "\n",
    "# create categorical variable toxicity: if median score < 0, toxicity=1, otherwise 0\n",
    "commentdata[\"toxicity\"] = (commentdata[\"median_score\"] < 0).astype(int)\n",
    "\n",
    "# Delete Columns\n",
    "del commentdata['year']\n",
    "del commentdata['logged_in']\n",
    "\n",
    "print('test')"
   ]
  },
  {
   "cell_type": "markdown",
   "metadata": {},
   "source": [
    "#### Print Table Template with example values:"
   ]
  },
  {
   "cell_type": "code",
   "execution_count": 9,
   "metadata": {},
   "outputs": [
    {
     "name": "stdout",
     "output_type": "stream",
     "text": [
      "commentdata.shape =  (159686, 10)\n",
      "{0.5, 0.0, -0.5, 1.0, 1.5, 2.0, -2.0, -1.0, -1.5}\n"
     ]
    },
    {
     "data": {
      "text/html": [
       "<div>\n",
       "<style>\n",
       "    .dataframe thead tr:only-child th {\n",
       "        text-align: right;\n",
       "    }\n",
       "\n",
       "    .dataframe thead th {\n",
       "        text-align: left;\n",
       "    }\n",
       "\n",
       "    .dataframe tbody tr th {\n",
       "        vertical-align: top;\n",
       "    }\n",
       "</style>\n",
       "<table border=\"1\" class=\"dataframe\">\n",
       "  <thead>\n",
       "    <tr style=\"text-align: right;\">\n",
       "      <th></th>\n",
       "      <th>rev_id</th>\n",
       "      <th>comment</th>\n",
       "      <th>ns</th>\n",
       "      <th>sample</th>\n",
       "      <th>split</th>\n",
       "      <th>mean_score</th>\n",
       "      <th>median_score</th>\n",
       "      <th>com_len</th>\n",
       "      <th>pun_per</th>\n",
       "      <th>toxicity</th>\n",
       "    </tr>\n",
       "  </thead>\n",
       "  <tbody>\n",
       "    <tr>\n",
       "      <th>0</th>\n",
       "      <td>2232.0</td>\n",
       "      <td>This: :One can make an analogy in mathematical terms by envisioning the distribution of opinions...</td>\n",
       "      <td>article</td>\n",
       "      <td>random</td>\n",
       "      <td>train</td>\n",
       "      <td>0.4</td>\n",
       "      <td>0.5</td>\n",
       "      <td>651</td>\n",
       "      <td>2.457757</td>\n",
       "      <td>0</td>\n",
       "    </tr>\n",
       "    <tr>\n",
       "      <th>1</th>\n",
       "      <td>4216.0</td>\n",
       "      <td>`  :Clarification for you  (and Zundark's right, i should have checked the Wikipedia bugs page f...</td>\n",
       "      <td>user</td>\n",
       "      <td>random</td>\n",
       "      <td>train</td>\n",
       "      <td>0.5</td>\n",
       "      <td>0.0</td>\n",
       "      <td>611</td>\n",
       "      <td>4.746318</td>\n",
       "      <td>0</td>\n",
       "    </tr>\n",
       "    <tr>\n",
       "      <th>2</th>\n",
       "      <td>8953.0</td>\n",
       "      <td>Elected or Electoral? JHK</td>\n",
       "      <td>article</td>\n",
       "      <td>random</td>\n",
       "      <td>test</td>\n",
       "      <td>0.1</td>\n",
       "      <td>0.0</td>\n",
       "      <td>25</td>\n",
       "      <td>4.000000</td>\n",
       "      <td>0</td>\n",
       "    </tr>\n",
       "    <tr>\n",
       "      <th>3</th>\n",
       "      <td>26547.0</td>\n",
       "      <td>`This is such a fun entry.   Devotchka  I once had a coworker from Korea and not only couldn't s...</td>\n",
       "      <td>article</td>\n",
       "      <td>random</td>\n",
       "      <td>train</td>\n",
       "      <td>0.6</td>\n",
       "      <td>0.0</td>\n",
       "      <td>2976</td>\n",
       "      <td>6.854839</td>\n",
       "      <td>0</td>\n",
       "    </tr>\n",
       "    <tr>\n",
       "      <th>4</th>\n",
       "      <td>28959.0</td>\n",
       "      <td>Please relate the ozone hole to increases in cancer, and provide figures. Otherwise, this articl...</td>\n",
       "      <td>article</td>\n",
       "      <td>random</td>\n",
       "      <td>test</td>\n",
       "      <td>0.2</td>\n",
       "      <td>0.0</td>\n",
       "      <td>197</td>\n",
       "      <td>2.538071</td>\n",
       "      <td>0</td>\n",
       "    </tr>\n",
       "  </tbody>\n",
       "</table>\n",
       "</div>"
      ],
      "text/plain": [
       "    rev_id  \\\n",
       "0   2232.0   \n",
       "1   4216.0   \n",
       "2   8953.0   \n",
       "3  26547.0   \n",
       "4  28959.0   \n",
       "\n",
       "                                                                                               comment  \\\n",
       "0  This: :One can make an analogy in mathematical terms by envisioning the distribution of opinions...   \n",
       "1  `  :Clarification for you  (and Zundark's right, i should have checked the Wikipedia bugs page f...   \n",
       "2                                                                            Elected or Electoral? JHK   \n",
       "3  `This is such a fun entry.   Devotchka  I once had a coworker from Korea and not only couldn't s...   \n",
       "4  Please relate the ozone hole to increases in cancer, and provide figures. Otherwise, this articl...   \n",
       "\n",
       "        ns  sample  split  mean_score  median_score  com_len   pun_per  \\\n",
       "0  article  random  train         0.4           0.5      651  2.457757   \n",
       "1     user  random  train         0.5           0.0      611  4.746318   \n",
       "2  article  random   test         0.1           0.0       25  4.000000   \n",
       "3  article  random  train         0.6           0.0     2976  6.854839   \n",
       "4  article  random   test         0.2           0.0      197  2.538071   \n",
       "\n",
       "   toxicity  \n",
       "0         0  \n",
       "1         0  \n",
       "2         0  \n",
       "3         0  \n",
       "4         0  "
      ]
     },
     "execution_count": 9,
     "metadata": {},
     "output_type": "execute_result"
    }
   ],
   "source": [
    "print(\"commentdata.shape = \",commentdata.shape)\n",
    "print(set(commentdata['median_score']))\n",
    "commentdata.head()"
   ]
  },
  {
   "cell_type": "code",
   "execution_count": null,
   "metadata": {
    "collapsed": true
   },
   "outputs": [],
   "source": [
    "# display (commentdata)"
   ]
  },
  {
   "cell_type": "code",
   "execution_count": 37,
   "metadata": {},
   "outputs": [
    {
     "ename": "IndexError",
     "evalue": "invalid index to scalar variable.",
     "output_type": "error",
     "traceback": [
      "\u001b[0;31m---------------------------------------------------------------------------\u001b[0m",
      "\u001b[0;31mIndexError\u001b[0m                                Traceback (most recent call last)",
      "\u001b[0;32m<ipython-input-37-a56529fe33a2>\u001b[0m in \u001b[0;36m<module>\u001b[0;34m()\u001b[0m\n\u001b[1;32m      5\u001b[0m \u001b[0;34m\u001b[0m\u001b[0m\n\u001b[1;32m      6\u001b[0m \u001b[0;32mfor\u001b[0m \u001b[0mkey\u001b[0m \u001b[0;32min\u001b[0m \u001b[0mtoxicity_dict\u001b[0m\u001b[0;34m:\u001b[0m\u001b[0;34m\u001b[0m\u001b[0m\n\u001b[0;32m----> 7\u001b[0;31m     \u001b[0mcom_len_dict\u001b[0m\u001b[0;34m[\u001b[0m\u001b[0mkey\u001b[0m\u001b[0;34m]\u001b[0m \u001b[0;34m=\u001b[0m \u001b[0mcommentdata\u001b[0m\u001b[0;34m[\u001b[0m\u001b[0;34m'median_score'\u001b[0m\u001b[0;34m]\u001b[0m\u001b[0;34m==\u001b[0m\u001b[0mkey\u001b[0m\u001b[0;34m[\u001b[0m\u001b[0;34m'comment_len'\u001b[0m\u001b[0;34m]\u001b[0m\u001b[0;34m.\u001b[0m\u001b[0mmean\u001b[0m\u001b[0;34m(\u001b[0m\u001b[0;34m)\u001b[0m\u001b[0;34m\u001b[0m\u001b[0m\n\u001b[0m\u001b[1;32m      8\u001b[0m \u001b[0;34m\u001b[0m\u001b[0m\n\u001b[1;32m      9\u001b[0m \u001b[0;34m\u001b[0m\u001b[0m\n",
      "\u001b[0;31mIndexError\u001b[0m: invalid index to scalar variable."
     ]
    }
   ],
   "source": [
    "toxicity_dict = {}\n",
    "com_len_dict = {}\n",
    "\n",
    "toxicity_dict = commentdata['median_score'].value_counts().to_dict()\n",
    "\n",
    "for key in toxicity_dict:\n",
    "    com_len_dict[key] = commentdata.loc[commentdata['median_score']==key, commentdata['comment_len'].mean()]\n",
    "\n",
    "\n",
    "print(toxicity_dict)\n",
    "\n"
   ]
  },
  {
   "cell_type": "markdown",
   "metadata": {},
   "source": [
    "#### Plot Comment Length to Toxicity"
   ]
  },
  {
   "cell_type": "code",
   "execution_count": 11,
   "metadata": {},
   "outputs": [
    {
     "data": {
      "image/png": "[encoded data removed]",
      "text/plain": [
       "<matplotlib.figure.Figure at 0x1a18a00f60>"
      ]
     },
     "metadata": {},
     "output_type": "display_data"
    }
   ],
   "source": [
    "plt.plot(pd.Series(commentdata[\"median_score\"]),pd.Series(commentdata[\"com_len\"]),'*')\n",
    "plt.show()"
   ]
  },
  {
   "cell_type": "markdown",
   "metadata": {},
   "source": [
    "#### Plot Punctuation Count to Toxicity"
   ]
  },
  {
   "cell_type": "code",
   "execution_count": 12,
   "metadata": {},
   "outputs": [
    {
     "data": {
      "image/png": "[encoded data removed]",
      "text/plain": [
       "<matplotlib.figure.Figure at 0x111039780>"
      ]
     },
     "metadata": {},
     "output_type": "display_data"
    }
   ],
   "source": [
    "plt.plot(pd.Series(commentdata[\"median_score\"]),pd.Series(commentdata[\"pun_per\"]),'*')\n",
    "plt.show()"
   ]
  },
  {
   "cell_type": "markdown",
   "metadata": {
    "scrolled": true
   },
   "source": [
    "#### Stem and Stopwords Feature Reduction"
   ]
  },
  {
   "cell_type": "code",
   "execution_count": 13,
   "metadata": {},
   "outputs": [
    {
     "name": "stdout",
     "output_type": "stream",
     "text": [
      "0 ,5000 ,10000 ,15000 ,20000 ,25000 ,30000 ,35000 ,40000 ,45000 ,50000 ,55000 ,60000 ,65000 ,70000 ,75000 ,80000 ,85000 ,90000 ,95000 ,100000 ,105000 ,110000 ,115000 ,120000 ,125000 ,130000 ,135000 ,140000 ,145000 ,150000 ,155000 ,\n",
      "stemmed_text: ['one make analog mathemat term envis distribut opinion popul gaussian curv would say consensu would statement repres rang opinion within perhap three standard deviat mean opinion sound arbitrari ad hoc realli belong n encyclopedia articl dont see add anyth use paragraph follow seem much use polit theorist clarifi issu seem issu lock rousseau de toquevil other must debat sr', 'clarif zundark right check wikipedia bug page first bug code make wikipedia work mean line code may error small extra space analog simplifi way tri make someth bold html forget put end youd see someth like word bold instead word bold like viru code somebodi deliber wrote order infect comput damag file wont go around jhk']\n",
      "CPU times: user 2min 45s, sys: 2.91 s, total: 2min 48s\n",
      "Wall time: 2min 50s\n"
     ]
    }
   ],
   "source": [
    "%%time\n",
    "import re\n",
    "from nltk.stem import PorterStemmer\n",
    "from nltk.tokenize import sent_tokenize, word_tokenize\n",
    "from nltk.corpus import stopwords as sw\n",
    "ps = PorterStemmer()\n",
    "\n",
    "# set up regex expression to remove all but alpha chars and whitespace\n",
    "regex = re.compile('[^a-zA-Z\\s]') \n",
    "\n",
    "drop_stopwords = True # change this to False to keep stop words\n",
    "\n",
    "# create set of stop words from nltk corpus\n",
    "stopwords = set(sw.words('english'))\n",
    "\n",
    "numsamples = commentdata.comment.shape[0]\n",
    "\n",
    "# transform each sample text:\n",
    "stemmed_text = []\n",
    "for text,i in zip(commentdata.comment,range(numsamples)):\n",
    "    # set to lower case\n",
    "    text = regex.sub('',text.lower())\n",
    "    # look at each word in text\n",
    "    t = []\n",
    "    for word in word_tokenize(text):\n",
    "        if len(word) < 30: # drop \"words\" that are too long (otherwise stem crashes!)\n",
    "            if not drop_stopwords or word not in stopwords: # drop stopwords\n",
    "                t.append(ps.stem(word)) # stem the added word\n",
    "    stemmed_text.append(\" \".join(t)) # re-combine list of stemmed words\n",
    "    if not i%5000: print(i,',', end=\"\")\n",
    "\n",
    "commentdata[\"stemmed\"] = pd.Series(np.array(stemmed_text)) # convert list of sample texts to pandas series\n",
    "\n",
    "        \n",
    "print(\"\\nstemmed_text:\",stemmed_text[:2])\n",
    "\n",
    "# completed in ~4 min on my laptop"
   ]
  },
  {
   "cell_type": "markdown",
   "metadata": {},
   "source": [
    "#### Stemmed Tab Added to CommentData"
   ]
  },
  {
   "cell_type": "code",
   "execution_count": 14,
   "metadata": {},
   "outputs": [
    {
     "name": "stdout",
     "output_type": "stream",
     "text": [
      "commentdata.shape =  (159686, 11)\n"
     ]
    },
    {
     "data": {
      "text/html": [
       "<div>\n",
       "<style>\n",
       "    .dataframe thead tr:only-child th {\n",
       "        text-align: right;\n",
       "    }\n",
       "\n",
       "    .dataframe thead th {\n",
       "        text-align: left;\n",
       "    }\n",
       "\n",
       "    .dataframe tbody tr th {\n",
       "        vertical-align: top;\n",
       "    }\n",
       "</style>\n",
       "<table border=\"1\" class=\"dataframe\">\n",
       "  <thead>\n",
       "    <tr style=\"text-align: right;\">\n",
       "      <th></th>\n",
       "      <th>rev_id</th>\n",
       "      <th>comment</th>\n",
       "      <th>ns</th>\n",
       "      <th>sample</th>\n",
       "      <th>split</th>\n",
       "      <th>mean_score</th>\n",
       "      <th>median_score</th>\n",
       "      <th>com_len</th>\n",
       "      <th>pun_per</th>\n",
       "      <th>toxicity</th>\n",
       "      <th>stemmed</th>\n",
       "    </tr>\n",
       "  </thead>\n",
       "  <tbody>\n",
       "    <tr>\n",
       "      <th>0</th>\n",
       "      <td>2232.0</td>\n",
       "      <td>This: :One can make an analogy in mathematical terms by envisioning the distribution of opinions...</td>\n",
       "      <td>article</td>\n",
       "      <td>random</td>\n",
       "      <td>train</td>\n",
       "      <td>0.4</td>\n",
       "      <td>0.5</td>\n",
       "      <td>651</td>\n",
       "      <td>2.457757</td>\n",
       "      <td>0</td>\n",
       "      <td>one make analog mathemat term envis distribut opinion popul gaussian curv would say consensu wou...</td>\n",
       "    </tr>\n",
       "    <tr>\n",
       "      <th>1</th>\n",
       "      <td>4216.0</td>\n",
       "      <td>`  :Clarification for you  (and Zundark's right, i should have checked the Wikipedia bugs page f...</td>\n",
       "      <td>user</td>\n",
       "      <td>random</td>\n",
       "      <td>train</td>\n",
       "      <td>0.5</td>\n",
       "      <td>0.0</td>\n",
       "      <td>611</td>\n",
       "      <td>4.746318</td>\n",
       "      <td>0</td>\n",
       "      <td>clarif zundark right check wikipedia bug page first bug code make wikipedia work mean line code ...</td>\n",
       "    </tr>\n",
       "    <tr>\n",
       "      <th>2</th>\n",
       "      <td>8953.0</td>\n",
       "      <td>Elected or Electoral? JHK</td>\n",
       "      <td>article</td>\n",
       "      <td>random</td>\n",
       "      <td>test</td>\n",
       "      <td>0.1</td>\n",
       "      <td>0.0</td>\n",
       "      <td>25</td>\n",
       "      <td>4.000000</td>\n",
       "      <td>0</td>\n",
       "      <td>elect elector jhk</td>\n",
       "    </tr>\n",
       "    <tr>\n",
       "      <th>3</th>\n",
       "      <td>26547.0</td>\n",
       "      <td>`This is such a fun entry.   Devotchka  I once had a coworker from Korea and not only couldn't s...</td>\n",
       "      <td>article</td>\n",
       "      <td>random</td>\n",
       "      <td>train</td>\n",
       "      <td>0.6</td>\n",
       "      <td>0.0</td>\n",
       "      <td>2976</td>\n",
       "      <td>6.854839</td>\n",
       "      <td>0</td>\n",
       "      <td>fun entri devotchka cowork korea couldnt tell differ usaenglish british english troubl tell diff...</td>\n",
       "    </tr>\n",
       "    <tr>\n",
       "      <th>4</th>\n",
       "      <td>28959.0</td>\n",
       "      <td>Please relate the ozone hole to increases in cancer, and provide figures. Otherwise, this articl...</td>\n",
       "      <td>article</td>\n",
       "      <td>random</td>\n",
       "      <td>test</td>\n",
       "      <td>0.2</td>\n",
       "      <td>0.0</td>\n",
       "      <td>197</td>\n",
       "      <td>2.538071</td>\n",
       "      <td>0</td>\n",
       "      <td>pleas relat ozon hole increas cancer provid figur otherwis articl bias toward environmentalist a...</td>\n",
       "    </tr>\n",
       "  </tbody>\n",
       "</table>\n",
       "</div>"
      ],
      "text/plain": [
       "    rev_id  \\\n",
       "0   2232.0   \n",
       "1   4216.0   \n",
       "2   8953.0   \n",
       "3  26547.0   \n",
       "4  28959.0   \n",
       "\n",
       "                                                                                               comment  \\\n",
       "0  This: :One can make an analogy in mathematical terms by envisioning the distribution of opinions...   \n",
       "1  `  :Clarification for you  (and Zundark's right, i should have checked the Wikipedia bugs page f...   \n",
       "2                                                                            Elected or Electoral? JHK   \n",
       "3  `This is such a fun entry.   Devotchka  I once had a coworker from Korea and not only couldn't s...   \n",
       "4  Please relate the ozone hole to increases in cancer, and provide figures. Otherwise, this articl...   \n",
       "\n",
       "        ns  sample  split  mean_score  median_score  com_len   pun_per  \\\n",
       "0  article  random  train         0.4           0.5      651  2.457757   \n",
       "1     user  random  train         0.5           0.0      611  4.746318   \n",
       "2  article  random   test         0.1           0.0       25  4.000000   \n",
       "3  article  random  train         0.6           0.0     2976  6.854839   \n",
       "4  article  random   test         0.2           0.0      197  2.538071   \n",
       "\n",
       "   toxicity  \\\n",
       "0         0   \n",
       "1         0   \n",
       "2         0   \n",
       "3         0   \n",
       "4         0   \n",
       "\n",
       "                                                                                               stemmed  \n",
       "0  one make analog mathemat term envis distribut opinion popul gaussian curv would say consensu wou...  \n",
       "1  clarif zundark right check wikipedia bug page first bug code make wikipedia work mean line code ...  \n",
       "2                                                                                    elect elector jhk  \n",
       "3  fun entri devotchka cowork korea couldnt tell differ usaenglish british english troubl tell diff...  \n",
       "4  pleas relat ozon hole increas cancer provid figur otherwis articl bias toward environmentalist a...  "
      ]
     },
     "execution_count": 14,
     "metadata": {},
     "output_type": "execute_result"
    }
   ],
   "source": [
    "print(\"commentdata.shape = \",commentdata.shape)\n",
    "commentdata.head()"
   ]
  },
  {
   "cell_type": "code",
   "execution_count": null,
   "metadata": {
    "collapsed": true
   },
   "outputs": [],
   "source": []
  }
 ],
 "metadata": {
  "kernelspec": {
   "display_name": "Python 3",
   "language": "python",
   "name": "python3"
  },
  "language_info": {
   "codemirror_mode": {
    "name": "ipython",
    "version": 3
   },
   "file_extension": ".py",
   "mimetype": "text/x-python",
   "name": "python",
   "nbconvert_exporter": "python",
   "pygments_lexer": "ipython3",
   "version": "3.6.3"
  }
 },
 "nbformat": 4,
 "nbformat_minor": 2
}
